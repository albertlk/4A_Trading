{
 "cells": [
  {
   "cell_type": "code",
   "execution_count": 1,
   "metadata": {},
   "outputs": [
    {
     "data": {
      "text/plain": [
       "True"
      ]
     },
     "execution_count": 1,
     "metadata": {},
     "output_type": "execute_result"
    }
   ],
   "source": [
    "# Initial Imports\n",
    "import os\n",
    "from dotenv import load_dotenv\n",
    "\n",
    "import pandas as pd\n",
    "import numpy as np\n",
    "from datetime import datetime\n",
    "\n",
    "import requests\n",
    "import json\n",
    "\n",
    "load_dotenv()"
   ]
  },
  {
   "cell_type": "code",
   "execution_count": 2,
   "metadata": {},
   "outputs": [],
   "source": [
    "# Retrieving AlphaVantage API Key\n",
    "alphavantage_api_key = os.getenv(\"ALPHAVANTAGE_API_KEY\")\n",
    "\n",
    "# Setting AlphaVantage base URL\n",
    "url_alpha = \"https://www.alphavantage.co/query?\""
   ]
  },
  {
   "cell_type": "code",
   "execution_count": 3,
   "metadata": {},
   "outputs": [],
   "source": [
    "def getIncS(ticker):\n",
    "    \"\"\"\n",
    "    Function for calling AlphaVantage for income statement. Returns a dataframe with the various financials in the quarterly reports\n",
    "    \"\"\"\n",
    "    params = {\n",
    "        \"function\":\"INCOME_STATEMENT\",\n",
    "        \"symbol\":ticker,\n",
    "        \"apikey\":alphavantage_api_key\n",
    "    }\n",
    "    \n",
    "    response_data = requests.get(url_alpha, params = params).json()\n",
    "    \n",
    "    qr_df = pd.DataFrame(response_data[\"quarterlyReports\"])\n",
    "    qr_df.set_index(qr_df[\"fiscalDateEnding\"], inplace = True)\n",
    "    qr_df.drop(columns = \"fiscalDateEnding\", inplace = True)\n",
    "    \n",
    "    return qr_df"
   ]
  },
  {
   "cell_type": "code",
   "execution_count": 4,
   "metadata": {},
   "outputs": [],
   "source": [
    "def getBalS(ticker):\n",
    "    \"\"\"\n",
    "    Function for calling AlphaVantage for balance sheet. Returns a dataframe with the various financials in the quarterly reports\n",
    "    \"\"\"\n",
    "    params = {\n",
    "        \"function\":\"BALANCE_SHEET\",\n",
    "        \"symbol\":ticker,\n",
    "        \"apikey\":alphavantage_api_key\n",
    "    }\n",
    "    \n",
    "    response_data = requests.get(url_alpha, params = params).json()\n",
    "    \n",
    "    qr_df = pd.DataFrame(response_data[\"quarterlyReports\"])\n",
    "    qr_df.set_index(qr_df[\"fiscalDateEnding\"], inplace = True)\n",
    "    qr_df.drop(columns = \"fiscalDateEnding\", inplace = True)\n",
    "    \n",
    "    return qr_df"
   ]
  },
  {
   "cell_type": "code",
   "execution_count": 5,
   "metadata": {},
   "outputs": [],
   "source": [
    "def getSCF(ticker):\n",
    "    \"\"\"\n",
    "    Function for calling AlphaVantage for statement of cash flows. Returns a dataframe with the various financials in the quarterly reports\n",
    "    \"\"\"\n",
    "    params = {\n",
    "        \"function\":\"BALANCE_SHEET\",\n",
    "        \"symbol\":ticker,\n",
    "        \"apikey\":alphavantage_api_key\n",
    "    }\n",
    "    \n",
    "    response_data = requests.get(url_alpha, params = params).json()\n",
    "    \n",
    "    qr_df = pd.DataFrame(response_data[\"quarterlyReports\"])\n",
    "    qr_df.set_index(qr_df[\"fiscalDateEnding\"], inplace = True)\n",
    "    qr_df.drop(columns = \"fiscalDateEnding\", inplace = True)\n",
    "    \n",
    "    return qr_df"
   ]
  },
  {
   "cell_type": "code",
   "execution_count": 6,
   "metadata": {},
   "outputs": [],
   "source": [
    "def getEPS(ticker):\n",
    "    \"\"\"\n",
    "    Function for calling AlphaVantage for earnings (EPS). Returns a dataframe with the various financials in the quarterly reports\n",
    "    \"\"\"\n",
    "    params = {\n",
    "        \"function\":\"EARNINGS\",\n",
    "        \"symbol\":ticker,\n",
    "        \"apikey\":alphavantage_api_key\n",
    "    }\n",
    "    \n",
    "    response_data = requests.get(url_alpha, params = params).json()\n",
    "    \n",
    "    qr_df = pd.DataFrame(response_data[\"quarterlyEarnings\"])\n",
    "    qr_df.set_index(qr_df[\"fiscalDateEnding\"], inplace = True)\n",
    "    qr_df.drop(columns = \"fiscalDateEnding\", inplace = True)\n",
    "    \n",
    "    return qr_df"
   ]
  },
  {
   "cell_type": "code",
   "execution_count": 7,
   "metadata": {},
   "outputs": [],
   "source": [
    "def calcFRatios(ticker):\n",
    "    \"\"\"\n",
    "    Function that calculates the following financial ratios based on the quarterly financial statements of the company:\n",
    "    - Working capital Ratio\n",
    "    - Acid-Test Ratio (Quick Ratio)\n",
    "    - EPS\n",
    "    - Debt-Equity Ratio\n",
    "    \n",
    "    Ratios are returned in a dataframe\n",
    "    \"\"\"\n",
    "    \n",
    "    # Retrieving Balance Sheet and Earnings\n",
    "    balS = getBalS(ticker)\n",
    "    eps = getEPS(ticker)\n",
    "    \n",
    "    # Creating return DataFrame\n",
    "    columns = [\"workingCapitalRatio\", \"acidTestRatio\", \"eps\", \"debtEquityRatio\", \"currentAssets\", \"currentLiabilities\", \"inventory\", \"longTermDebt\", \"shortTermDebt\", \"shareholderEquity\"]\n",
    "    ratio_df = pd.DataFrame(index = balS.index, columns = columns)\n",
    "    \n",
    "    # Filling out DataFrame with provided data\n",
    "    ratio_df[\"currentAssets\"] = balS[\"totalCurrentAssets\"].str.replace(\"None\",\"0\").astype(\"float\")\n",
    "    ratio_df[\"currentLiabilities\"] = balS[\"totalCurrentLiabilities\"].str.replace(\"None\",\"0\").astype(\"float\")\n",
    "    ratio_df[\"inventory\"] = balS[\"inventory\"].str.replace(\"None\",\"0\").astype(\"float\")\n",
    "    ratio_df[\"longTermDebt\"] = balS[\"longTermDebt\"].str.replace(\"None\",\"0\").astype(\"float\")\n",
    "    ratio_df[\"shortTermDebt\"] = balS[\"shortTermDebt\"].str.replace(\"None\",\"0\").astype(\"float\")\n",
    "    ratio_df[\"shareholderEquity\"] = balS[\"totalShareholderEquity\"].str.replace(\"None\",\"0\").astype(\"float\")\n",
    "    \n",
    "    # Calculating the ratios\n",
    "    \n",
    "    ratio_df[\"workingCapitalRatio\"] = ratio_df[\"currentAssets\"] / ratio_df[\"currentLiabilities\"]\n",
    "    ratio_df[\"acidTestRatio\"] = (ratio_df[\"currentAssets\"] - ratio_df[\"inventory\"]) / ratio_df[\"currentLiabilities\"]\n",
    "    ratio_df[\"eps\"] = eps[\"reportedEPS\"]\n",
    "    ratio_df[\"debtEquityRatio\"] = (ratio_df[\"longTermDebt\"] + ratio_df[\"shortTermDebt\"]) / ratio_df[\"shareholderEquity\"]\n",
    "    \n",
    "    return ratio_df"
   ]
  },
  {
   "cell_type": "code",
   "execution_count": null,
   "metadata": {},
   "outputs": [],
   "source": []
  },
  {
   "cell_type": "code",
   "execution_count": null,
   "metadata": {},
   "outputs": [],
   "source": []
  },
  {
   "cell_type": "code",
   "execution_count": null,
   "metadata": {},
   "outputs": [],
   "source": []
  }
 ],
 "metadata": {
  "kernelspec": {
   "display_name": "Python 3",
   "language": "python",
   "name": "python3"
  },
  "language_info": {
   "codemirror_mode": {
    "name": "ipython",
    "version": 3
   },
   "file_extension": ".py",
   "mimetype": "text/x-python",
   "name": "python",
   "nbconvert_exporter": "python",
   "pygments_lexer": "ipython3",
   "version": "3.7.7"
  }
 },
 "nbformat": 4,
 "nbformat_minor": 4
}
