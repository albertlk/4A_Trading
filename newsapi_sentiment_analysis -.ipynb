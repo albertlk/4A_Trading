{
 "cells": [
  {
   "cell_type": "markdown",
   "metadata": {},
   "source": [
    "## Import the libraries"
   ]
  },
  {
   "cell_type": "code",
   "execution_count": 1,
   "metadata": {},
   "outputs": [],
   "source": [
    "import os\n",
    "import pandas as pd\n",
    "import yfinance as yf\n",
    "from newsapi import NewsApiClient\n",
    "from datetime import datetime, timedelta\n",
    "from dotenv import load_dotenv\n",
    "load_dotenv()\n",
    "\n",
    "import nltk\n",
    "from nltk.sentiment.vader import SentimentIntensityAnalyzer"
   ]
  },
  {
   "cell_type": "markdown",
   "metadata": {},
   "source": [
    "## Fetch the stock OHLC"
   ]
  },
  {
   "cell_type": "code",
   "execution_count": 2,
   "metadata": {},
   "outputs": [
    {
     "name": "stdout",
     "output_type": "stream",
     "text": [
      "[*********************100%***********************]  1 of 1 completed\n"
     ]
    },
    {
     "data": {
      "text/html": [
       "<div>\n",
       "<style scoped>\n",
       "    .dataframe tbody tr th:only-of-type {\n",
       "        vertical-align: middle;\n",
       "    }\n",
       "\n",
       "    .dataframe tbody tr th {\n",
       "        vertical-align: top;\n",
       "    }\n",
       "\n",
       "    .dataframe thead th {\n",
       "        text-align: right;\n",
       "    }\n",
       "</style>\n",
       "<table border=\"1\" class=\"dataframe\">\n",
       "  <thead>\n",
       "    <tr style=\"text-align: right;\">\n",
       "      <th></th>\n",
       "      <th>Open</th>\n",
       "      <th>High</th>\n",
       "      <th>Low</th>\n",
       "      <th>Close</th>\n",
       "      <th>Adj Close</th>\n",
       "      <th>Volume</th>\n",
       "    </tr>\n",
       "    <tr>\n",
       "      <th>Date</th>\n",
       "      <th></th>\n",
       "      <th></th>\n",
       "      <th></th>\n",
       "      <th></th>\n",
       "      <th></th>\n",
       "      <th></th>\n",
       "    </tr>\n",
       "  </thead>\n",
       "  <tbody>\n",
       "    <tr>\n",
       "      <th>2021-01-04</th>\n",
       "      <td>222.529999</td>\n",
       "      <td>223.000000</td>\n",
       "      <td>214.809998</td>\n",
       "      <td>217.690002</td>\n",
       "      <td>217.690002</td>\n",
       "      <td>37130100</td>\n",
       "    </tr>\n",
       "    <tr>\n",
       "      <th>2021-01-05</th>\n",
       "      <td>217.259995</td>\n",
       "      <td>218.520004</td>\n",
       "      <td>215.699997</td>\n",
       "      <td>217.899994</td>\n",
       "      <td>217.899994</td>\n",
       "      <td>23823000</td>\n",
       "    </tr>\n",
       "    <tr>\n",
       "      <th>2021-01-06</th>\n",
       "      <td>212.169998</td>\n",
       "      <td>216.490005</td>\n",
       "      <td>211.940002</td>\n",
       "      <td>212.250000</td>\n",
       "      <td>212.250000</td>\n",
       "      <td>35930700</td>\n",
       "    </tr>\n",
       "    <tr>\n",
       "      <th>2021-01-07</th>\n",
       "      <td>214.039993</td>\n",
       "      <td>219.339996</td>\n",
       "      <td>213.710007</td>\n",
       "      <td>218.289993</td>\n",
       "      <td>218.289993</td>\n",
       "      <td>27694500</td>\n",
       "    </tr>\n",
       "    <tr>\n",
       "      <th>2021-01-08</th>\n",
       "      <td>218.679993</td>\n",
       "      <td>220.580002</td>\n",
       "      <td>217.029999</td>\n",
       "      <td>219.619995</td>\n",
       "      <td>219.619995</td>\n",
       "      <td>22949400</td>\n",
       "    </tr>\n",
       "  </tbody>\n",
       "</table>\n",
       "</div>"
      ],
      "text/plain": [
       "                  Open        High         Low       Close   Adj Close  \\\n",
       "Date                                                                     \n",
       "2021-01-04  222.529999  223.000000  214.809998  217.690002  217.690002   \n",
       "2021-01-05  217.259995  218.520004  215.699997  217.899994  217.899994   \n",
       "2021-01-06  212.169998  216.490005  211.940002  212.250000  212.250000   \n",
       "2021-01-07  214.039993  219.339996  213.710007  218.289993  218.289993   \n",
       "2021-01-08  218.679993  220.580002  217.029999  219.619995  219.619995   \n",
       "\n",
       "              Volume  \n",
       "Date                  \n",
       "2021-01-04  37130100  \n",
       "2021-01-05  23823000  \n",
       "2021-01-06  35930700  \n",
       "2021-01-07  27694500  \n",
       "2021-01-08  22949400  "
      ]
     },
     "execution_count": 2,
     "metadata": {},
     "output_type": "execute_result"
    }
   ],
   "source": [
    "stock_data= yf.download(tickers= 'MSFT', period= '5y')\n",
    "stock_data.tail()"
   ]
  },
  {
   "cell_type": "code",
   "execution_count": 3,
   "metadata": {},
   "outputs": [
    {
     "data": {
      "text/plain": [
       "Date\n",
       "2021-01-04    217.7\n",
       "2021-01-05    217.9\n",
       "2021-01-06    212.2\n",
       "2021-01-07    218.3\n",
       "2021-01-08    219.6\n",
       "Name: Close, dtype: float64"
      ]
     },
     "execution_count": 3,
     "metadata": {},
     "output_type": "execute_result"
    }
   ],
   "source": [
    "# Get only the closing price and round to 1 decimal\n",
    "stock_close= round (stock_data['Close'], 1)\n",
    "stock_close.tail()"
   ]
  },
  {
   "cell_type": "code",
   "execution_count": 4,
   "metadata": {},
   "outputs": [
    {
     "data": {
      "text/plain": [
       "Date\n",
       "2021-01-04   -0.021133\n",
       "2021-01-05    0.000919\n",
       "2021-01-06   -0.026159\n",
       "2021-01-07    0.028746\n",
       "2021-01-08    0.005955\n",
       "Name: Close, dtype: float64"
      ]
     },
     "execution_count": 4,
     "metadata": {},
     "output_type": "execute_result"
    }
   ],
   "source": [
    "# Calculate the daily returns\n",
    "returns= stock_close.pct_change().dropna()\n",
    "returns.tail()"
   ]
  },
  {
   "cell_type": "code",
   "execution_count": 69,
   "metadata": {},
   "outputs": [
    {
     "data": {
      "text/html": [
       "<div>\n",
       "<style scoped>\n",
       "    .dataframe tbody tr th:only-of-type {\n",
       "        vertical-align: middle;\n",
       "    }\n",
       "\n",
       "    .dataframe tbody tr th {\n",
       "        vertical-align: top;\n",
       "    }\n",
       "\n",
       "    .dataframe thead th {\n",
       "        text-align: right;\n",
       "    }\n",
       "</style>\n",
       "<table border=\"1\" class=\"dataframe\">\n",
       "  <thead>\n",
       "    <tr style=\"text-align: right;\">\n",
       "      <th></th>\n",
       "      <th>pct_change</th>\n",
       "    </tr>\n",
       "    <tr>\n",
       "      <th>Date</th>\n",
       "      <th></th>\n",
       "    </tr>\n",
       "  </thead>\n",
       "  <tbody>\n",
       "    <tr>\n",
       "      <th>2021-01-08</th>\n",
       "      <td>0.005955</td>\n",
       "    </tr>\n",
       "    <tr>\n",
       "      <th>2021-01-07</th>\n",
       "      <td>0.028746</td>\n",
       "    </tr>\n",
       "    <tr>\n",
       "      <th>2021-01-06</th>\n",
       "      <td>-0.026159</td>\n",
       "    </tr>\n",
       "    <tr>\n",
       "      <th>2021-01-05</th>\n",
       "      <td>0.000919</td>\n",
       "    </tr>\n",
       "    <tr>\n",
       "      <th>2021-01-04</th>\n",
       "      <td>-0.021133</td>\n",
       "    </tr>\n",
       "  </tbody>\n",
       "</table>\n",
       "</div>"
      ],
      "text/plain": [
       "            pct_change\n",
       "Date                  \n",
       "2021-01-08    0.005955\n",
       "2021-01-07    0.028746\n",
       "2021-01-06   -0.026159\n",
       "2021-01-05    0.000919\n",
       "2021-01-04   -0.021133"
      ]
     },
     "execution_count": 69,
     "metadata": {},
     "output_type": "execute_result"
    }
   ],
   "source": [
    "returns_df= pd.DataFrame(returns)\n",
    "returns_df.sort_index(ascending= False, inplace= True)\n",
    "\n",
    "returns_df.rename(columns= {'Close':'pct_change'}, inplace= True)\n",
    "returns_df.head()"
   ]
  },
  {
   "cell_type": "markdown",
   "metadata": {},
   "source": [
    "### Download the VADER Lexicon"
   ]
  },
  {
   "cell_type": "code",
   "execution_count": 6,
   "metadata": {},
   "outputs": [
    {
     "name": "stderr",
     "output_type": "stream",
     "text": [
      "[nltk_data] Downloading package vader_lexicon to\n",
      "[nltk_data]     C:\\Users\\sathe\\AppData\\Roaming\\nltk_data...\n",
      "[nltk_data]   Package vader_lexicon is already up-to-date!\n"
     ]
    }
   ],
   "source": [
    "nltk.download('vader_lexicon')\n",
    "\n",
    "# Initialize the sentiment analyzer\n",
    "analyzer= SentimentIntensityAnalyzer()"
   ]
  },
  {
   "cell_type": "code",
   "execution_count": 7,
   "metadata": {},
   "outputs": [
    {
     "data": {
      "text/plain": [
       "str"
      ]
     },
     "execution_count": 7,
     "metadata": {},
     "output_type": "execute_result"
    }
   ],
   "source": [
    "# Reading the News API key enviroment variable\n",
    "api_key= os.getenv(\"NEWS_API_KEY2\")\n",
    "\n",
    "# Create a newsapi client\n",
    "newsapi= NewsApiClient(api_key= api_key)\n",
    "type (api_key)"
   ]
  },
  {
   "cell_type": "markdown",
   "metadata": {},
   "source": [
    "### Fetch the news"
   ]
  },
  {
   "cell_type": "code",
   "execution_count": 8,
   "metadata": {},
   "outputs": [
    {
     "name": "stdout",
     "output_type": "stream",
     "text": [
      "Total articles about --- stock: 893\n"
     ]
    },
    {
     "data": {
      "text/plain": [
       "20"
      ]
     },
     "execution_count": 8,
     "metadata": {},
     "output_type": "execute_result"
    }
   ],
   "source": [
    "# Fetch the most recent new about ---- stock\n",
    "stock_news = newsapi.get_everything(q=\"microsoft AND stock AND price\", \n",
    "                                    language=\"en\",\n",
    "                                    sort_by= 'publishedAt'\n",
    "                                   )\n",
    "\n",
    "# Print total articles\n",
    "print(f\"Total articles about --- stock: {stock_news['totalResults']}\")\n",
    "\n",
    "# Show sample article\n",
    "len (stock_news['articles'])"
   ]
  },
  {
   "cell_type": "code",
   "execution_count": 31,
   "metadata": {},
   "outputs": [
    {
     "data": {
      "text/plain": [
       "{'source': {'id': None, 'name': 'NDTV News'},\n",
       " 'author': None,\n",
       " 'title': \"Dr Prannoy Roy, Ruchir Sharma On 2021's Top 10 Trends: Full Transcript\",\n",
       " 'description': \"Global investor and author Ruchir Sharma discussed the top ten trends of the year 2021 in a discussion with NDTV's Dr Prannoy Roy. Mr Sharma, in his forecast, said, this year, inflation and interest rates could rise, it might just be the best time to invest i…\",\n",
       " 'url': 'https://www.ndtv.com/india-news/dr-prannoy-roy-investor-ruchir-sharma-on-2021s-top-10-trends-full-transcript-2350350',\n",
       " 'urlToImage': 'https://c.ndtvimg.com/2021-01/7ors3kr_dr-prannoy-roy-investor-ruchir-sharma-on-2021s-top-10-trends-highlights_625x300_09_January_21.jpg',\n",
       " 'publishedAt': '2021-01-10T09:22:55Z',\n",
       " 'content': 'Global investor and author Ruchir Sharma discussed the top ten trends of the year 2021\\r\\nNew Delhi: Global investor and author Ruchir Sharma discussed the top ten trends of the year 2021 in a discussi… [+45193 chars]'}"
      ]
     },
     "execution_count": 31,
     "metadata": {},
     "output_type": "execute_result"
    }
   ],
   "source": [
    "stock_news['articles'][0]"
   ]
  },
  {
   "cell_type": "markdown",
   "metadata": {},
   "source": [
    "### Create the sentiment scores DF"
   ]
  },
  {
   "cell_type": "code",
   "execution_count": 71,
   "metadata": {},
   "outputs": [],
   "source": [
    "stock_sentiment= []\n",
    "\n",
    "for article in stock_news['articles']:\n",
    "    try:\n",
    "        text= article['content']\n",
    "        date= article['publishedAt'][:10]\n",
    "        \n",
    "        # Calculate the polarity score\n",
    "        sentiment= analyzer.polarity_scores(text)\n",
    "        compound= sentiment['compound']\n",
    "        positive= sentiment['pos']\n",
    "        negative= sentiment['neg']\n",
    "        neutral= sentiment['neu']\n",
    "        \n",
    "        stock_sentiment.append({\n",
    "            \"text\": text,\n",
    "            \"date\": date,\n",
    "            \"compound\": compound,\n",
    "            \"positive\": positive,\n",
    "            \"negative\": negative,\n",
    "            \"neutral\": neutral\n",
    "        })\n",
    "        \n",
    "    except AttributeError:\n",
    "        pass\n",
    "    \n",
    "# Create dataframe\n",
    "stock_sentiment_df= pd.DataFrame(stock_sentiment)"
   ]
  },
  {
   "cell_type": "code",
   "execution_count": 72,
   "metadata": {},
   "outputs": [
    {
     "data": {
      "text/html": [
       "<div>\n",
       "<style scoped>\n",
       "    .dataframe tbody tr th:only-of-type {\n",
       "        vertical-align: middle;\n",
       "    }\n",
       "\n",
       "    .dataframe tbody tr th {\n",
       "        vertical-align: top;\n",
       "    }\n",
       "\n",
       "    .dataframe thead th {\n",
       "        text-align: right;\n",
       "    }\n",
       "</style>\n",
       "<table border=\"1\" class=\"dataframe\">\n",
       "  <thead>\n",
       "    <tr style=\"text-align: right;\">\n",
       "      <th></th>\n",
       "      <th>date</th>\n",
       "      <th>text</th>\n",
       "      <th>compound</th>\n",
       "      <th>positive</th>\n",
       "      <th>negative</th>\n",
       "      <th>neutral</th>\n",
       "    </tr>\n",
       "  </thead>\n",
       "  <tbody>\n",
       "    <tr>\n",
       "      <th>0</th>\n",
       "      <td>2021-01-10</td>\n",
       "      <td>Global investor and author Ruchir Sharma discu...</td>\n",
       "      <td>0.3818</td>\n",
       "      <td>0.096</td>\n",
       "      <td>0.000</td>\n",
       "      <td>0.904</td>\n",
       "    </tr>\n",
       "    <tr>\n",
       "      <th>1</th>\n",
       "      <td>2021-01-09</td>\n",
       "      <td>Concerns are rising over the emergence of new-...</td>\n",
       "      <td>0.2732</td>\n",
       "      <td>0.096</td>\n",
       "      <td>0.064</td>\n",
       "      <td>0.841</td>\n",
       "    </tr>\n",
       "    <tr>\n",
       "      <th>2</th>\n",
       "      <td>2021-01-09</td>\n",
       "      <td>Investment house Cerno Capital is a small 'bou...</td>\n",
       "      <td>0.1779</td>\n",
       "      <td>0.049</td>\n",
       "      <td>0.000</td>\n",
       "      <td>0.951</td>\n",
       "    </tr>\n",
       "    <tr>\n",
       "      <th>3</th>\n",
       "      <td>2021-01-09</td>\n",
       "      <td>In this article, we presented short selling le...</td>\n",
       "      <td>0.2732</td>\n",
       "      <td>0.097</td>\n",
       "      <td>0.040</td>\n",
       "      <td>0.863</td>\n",
       "    </tr>\n",
       "    <tr>\n",
       "      <th>4</th>\n",
       "      <td>2021-01-09</td>\n",
       "      <td>In this episode of Rule Breaker Investing, Mot...</td>\n",
       "      <td>-0.2732</td>\n",
       "      <td>0.094</td>\n",
       "      <td>0.147</td>\n",
       "      <td>0.759</td>\n",
       "    </tr>\n",
       "  </tbody>\n",
       "</table>\n",
       "</div>"
      ],
      "text/plain": [
       "         date                                               text  compound  \\\n",
       "0  2021-01-10  Global investor and author Ruchir Sharma discu...    0.3818   \n",
       "1  2021-01-09  Concerns are rising over the emergence of new-...    0.2732   \n",
       "2  2021-01-09  Investment house Cerno Capital is a small 'bou...    0.1779   \n",
       "3  2021-01-09  In this article, we presented short selling le...    0.2732   \n",
       "4  2021-01-09  In this episode of Rule Breaker Investing, Mot...   -0.2732   \n",
       "\n",
       "   positive  negative  neutral  \n",
       "0     0.096     0.000    0.904  \n",
       "1     0.096     0.064    0.841  \n",
       "2     0.049     0.000    0.951  \n",
       "3     0.097     0.040    0.863  \n",
       "4     0.094     0.147    0.759  "
      ]
     },
     "execution_count": 72,
     "metadata": {},
     "output_type": "execute_result"
    }
   ],
   "source": [
    "# Reorder DataFrame columns\n",
    "cols = [\"date\", \"text\", \"compound\", \"positive\", \"negative\", \"neutral\"]\n",
    "stock_sentiment_df= stock_sentiment_df[cols]\n",
    "stock_sentiment_df.head()"
   ]
  },
  {
   "cell_type": "code",
   "execution_count": 73,
   "metadata": {},
   "outputs": [
    {
     "data": {
      "text/html": [
       "<div>\n",
       "<style scoped>\n",
       "    .dataframe tbody tr th:only-of-type {\n",
       "        vertical-align: middle;\n",
       "    }\n",
       "\n",
       "    .dataframe tbody tr th {\n",
       "        vertical-align: top;\n",
       "    }\n",
       "\n",
       "    .dataframe thead th {\n",
       "        text-align: right;\n",
       "    }\n",
       "</style>\n",
       "<table border=\"1\" class=\"dataframe\">\n",
       "  <thead>\n",
       "    <tr style=\"text-align: right;\">\n",
       "      <th></th>\n",
       "      <th>text</th>\n",
       "      <th>compound</th>\n",
       "      <th>positive</th>\n",
       "      <th>negative</th>\n",
       "      <th>neutral</th>\n",
       "    </tr>\n",
       "    <tr>\n",
       "      <th>date</th>\n",
       "      <th></th>\n",
       "      <th></th>\n",
       "      <th></th>\n",
       "      <th></th>\n",
       "      <th></th>\n",
       "    </tr>\n",
       "  </thead>\n",
       "  <tbody>\n",
       "    <tr>\n",
       "      <th>2021-01-10</th>\n",
       "      <td>Global investor and author Ruchir Sharma discu...</td>\n",
       "      <td>0.3818</td>\n",
       "      <td>0.096</td>\n",
       "      <td>0.000</td>\n",
       "      <td>0.904</td>\n",
       "    </tr>\n",
       "    <tr>\n",
       "      <th>2021-01-09</th>\n",
       "      <td>Concerns are rising over the emergence of new-...</td>\n",
       "      <td>0.2732</td>\n",
       "      <td>0.096</td>\n",
       "      <td>0.064</td>\n",
       "      <td>0.841</td>\n",
       "    </tr>\n",
       "    <tr>\n",
       "      <th>2021-01-09</th>\n",
       "      <td>Investment house Cerno Capital is a small 'bou...</td>\n",
       "      <td>0.1779</td>\n",
       "      <td>0.049</td>\n",
       "      <td>0.000</td>\n",
       "      <td>0.951</td>\n",
       "    </tr>\n",
       "    <tr>\n",
       "      <th>2021-01-09</th>\n",
       "      <td>In this article, we presented short selling le...</td>\n",
       "      <td>0.2732</td>\n",
       "      <td>0.097</td>\n",
       "      <td>0.040</td>\n",
       "      <td>0.863</td>\n",
       "    </tr>\n",
       "    <tr>\n",
       "      <th>2021-01-09</th>\n",
       "      <td>In this episode of Rule Breaker Investing, Mot...</td>\n",
       "      <td>-0.2732</td>\n",
       "      <td>0.094</td>\n",
       "      <td>0.147</td>\n",
       "      <td>0.759</td>\n",
       "    </tr>\n",
       "  </tbody>\n",
       "</table>\n",
       "</div>"
      ],
      "text/plain": [
       "                                                         text  compound  \\\n",
       "date                                                                      \n",
       "2021-01-10  Global investor and author Ruchir Sharma discu...    0.3818   \n",
       "2021-01-09  Concerns are rising over the emergence of new-...    0.2732   \n",
       "2021-01-09  Investment house Cerno Capital is a small 'bou...    0.1779   \n",
       "2021-01-09  In this article, we presented short selling le...    0.2732   \n",
       "2021-01-09  In this episode of Rule Breaker Investing, Mot...   -0.2732   \n",
       "\n",
       "            positive  negative  neutral  \n",
       "date                                     \n",
       "2021-01-10     0.096     0.000    0.904  \n",
       "2021-01-09     0.096     0.064    0.841  \n",
       "2021-01-09     0.049     0.000    0.951  \n",
       "2021-01-09     0.097     0.040    0.863  \n",
       "2021-01-09     0.094     0.147    0.759  "
      ]
     },
     "execution_count": 73,
     "metadata": {},
     "output_type": "execute_result"
    }
   ],
   "source": [
    "stock_sentiment_df.set_index('date', inplace= True)\n",
    "stock_sentiment_df.head()"
   ]
  },
  {
   "cell_type": "code",
   "execution_count": 74,
   "metadata": {},
   "outputs": [
    {
     "data": {
      "text/html": [
       "<div>\n",
       "<style scoped>\n",
       "    .dataframe tbody tr th:only-of-type {\n",
       "        vertical-align: middle;\n",
       "    }\n",
       "\n",
       "    .dataframe tbody tr th {\n",
       "        vertical-align: top;\n",
       "    }\n",
       "\n",
       "    .dataframe thead th {\n",
       "        text-align: right;\n",
       "    }\n",
       "</style>\n",
       "<table border=\"1\" class=\"dataframe\">\n",
       "  <thead>\n",
       "    <tr style=\"text-align: right;\">\n",
       "      <th></th>\n",
       "      <th>compound</th>\n",
       "      <th>positive</th>\n",
       "      <th>negative</th>\n",
       "      <th>neutral</th>\n",
       "    </tr>\n",
       "  </thead>\n",
       "  <tbody>\n",
       "    <tr>\n",
       "      <th>count</th>\n",
       "      <td>20.000000</td>\n",
       "      <td>20.000000</td>\n",
       "      <td>20.000000</td>\n",
       "      <td>20.000000</td>\n",
       "    </tr>\n",
       "    <tr>\n",
       "      <th>mean</th>\n",
       "      <td>0.115205</td>\n",
       "      <td>0.071250</td>\n",
       "      <td>0.041750</td>\n",
       "      <td>0.887050</td>\n",
       "    </tr>\n",
       "    <tr>\n",
       "      <th>std</th>\n",
       "      <td>0.420005</td>\n",
       "      <td>0.061808</td>\n",
       "      <td>0.053922</td>\n",
       "      <td>0.073708</td>\n",
       "    </tr>\n",
       "    <tr>\n",
       "      <th>min</th>\n",
       "      <td>-0.670500</td>\n",
       "      <td>0.000000</td>\n",
       "      <td>0.000000</td>\n",
       "      <td>0.743000</td>\n",
       "    </tr>\n",
       "    <tr>\n",
       "      <th>25%</th>\n",
       "      <td>-0.062500</td>\n",
       "      <td>0.000000</td>\n",
       "      <td>0.000000</td>\n",
       "      <td>0.850000</td>\n",
       "    </tr>\n",
       "    <tr>\n",
       "      <th>50%</th>\n",
       "      <td>0.225550</td>\n",
       "      <td>0.067000</td>\n",
       "      <td>0.000000</td>\n",
       "      <td>0.886500</td>\n",
       "    </tr>\n",
       "    <tr>\n",
       "      <th>75%</th>\n",
       "      <td>0.381800</td>\n",
       "      <td>0.097250</td>\n",
       "      <td>0.081000</td>\n",
       "      <td>0.938250</td>\n",
       "    </tr>\n",
       "    <tr>\n",
       "      <th>max</th>\n",
       "      <td>0.734300</td>\n",
       "      <td>0.209000</td>\n",
       "      <td>0.147000</td>\n",
       "      <td>1.000000</td>\n",
       "    </tr>\n",
       "  </tbody>\n",
       "</table>\n",
       "</div>"
      ],
      "text/plain": [
       "        compound   positive   negative    neutral\n",
       "count  20.000000  20.000000  20.000000  20.000000\n",
       "mean    0.115205   0.071250   0.041750   0.887050\n",
       "std     0.420005   0.061808   0.053922   0.073708\n",
       "min    -0.670500   0.000000   0.000000   0.743000\n",
       "25%    -0.062500   0.000000   0.000000   0.850000\n",
       "50%     0.225550   0.067000   0.000000   0.886500\n",
       "75%     0.381800   0.097250   0.081000   0.938250\n",
       "max     0.734300   0.209000   0.147000   1.000000"
      ]
     },
     "execution_count": 74,
     "metadata": {},
     "output_type": "execute_result"
    }
   ],
   "source": [
    "# Descriptive statistics\n",
    "stock_sentiment_df.describe()"
   ]
  },
  {
   "cell_type": "code",
   "execution_count": 78,
   "metadata": {},
   "outputs": [],
   "source": [
    "# Set current date and the date from one month ago using the ISO format\n",
    "current_date = pd.Timestamp(\"2021-01-10\", tz=\"America/New_York\").isoformat()\n",
    "past_date = pd.Timestamp(\"2020-12-10\", tz=\"America/New_York\").isoformat()"
   ]
  },
  {
   "cell_type": "markdown",
   "metadata": {},
   "source": [
    "## Define a function to fetch the news articles in the last 1 month"
   ]
  },
  {
   "cell_type": "code",
   "execution_count": 79,
   "metadata": {},
   "outputs": [],
   "source": [
    "# Use newsapi client to get most relevant 20 headlines per day in the past month\n",
    "def get_headlines(keyword):\n",
    "    all_headlines = []\n",
    "    all_dates = []    \n",
    "    \n",
    "    date = datetime.strptime(current_date[:10], \"%Y-%m-%d\")\n",
    "    end_date = datetime.strptime(past_date[:10], \"%Y-%m-%d\")\n",
    "    print(f\"Fetching news about '{keyword}'\")\n",
    "    print(\"*\" * 30)\n",
    "    \n",
    "    while date > end_date:\n",
    "        print(f\"retrieving news from: {date}\")\n",
    "        articles = newsapi.get_everything(\n",
    "            q=keyword,\n",
    "            from_param=str(date),\n",
    "            to=str(date),\n",
    "            language=\"en\",\n",
    "            sort_by=\"relevancy\",\n",
    "            page=1,\n",
    "        )\n",
    "        headlines = []\n",
    "        \n",
    "        for i in range(0, len(articles[\"articles\"])):\n",
    "            headlines.append(articles[\"articles\"][i][\"title\"])\n",
    "        \n",
    "        all_headlines.append(headlines)\n",
    "        all_dates.append(date)\n",
    "        date = date - timedelta(days=1)\n",
    "    \n",
    "    return all_headlines, all_dates"
   ]
  },
  {
   "cell_type": "code",
   "execution_count": 80,
   "metadata": {},
   "outputs": [
    {
     "name": "stdout",
     "output_type": "stream",
     "text": [
      "Fetching news about 'microsoft stock price'\n",
      "******************************\n",
      "retrieving news from: 2021-01-10 00:00:00\n",
      "retrieving news from: 2021-01-09 00:00:00\n",
      "retrieving news from: 2021-01-08 00:00:00\n",
      "retrieving news from: 2021-01-07 00:00:00\n",
      "retrieving news from: 2021-01-06 00:00:00\n",
      "retrieving news from: 2021-01-05 00:00:00\n",
      "retrieving news from: 2021-01-04 00:00:00\n",
      "retrieving news from: 2021-01-03 00:00:00\n",
      "retrieving news from: 2021-01-02 00:00:00\n",
      "retrieving news from: 2021-01-01 00:00:00\n",
      "retrieving news from: 2020-12-31 00:00:00\n",
      "retrieving news from: 2020-12-30 00:00:00\n",
      "retrieving news from: 2020-12-29 00:00:00\n",
      "retrieving news from: 2020-12-28 00:00:00\n",
      "retrieving news from: 2020-12-27 00:00:00\n",
      "retrieving news from: 2020-12-26 00:00:00\n",
      "retrieving news from: 2020-12-25 00:00:00\n",
      "retrieving news from: 2020-12-24 00:00:00\n",
      "retrieving news from: 2020-12-23 00:00:00\n",
      "retrieving news from: 2020-12-22 00:00:00\n",
      "retrieving news from: 2020-12-21 00:00:00\n",
      "retrieving news from: 2020-12-20 00:00:00\n",
      "retrieving news from: 2020-12-19 00:00:00\n",
      "retrieving news from: 2020-12-18 00:00:00\n",
      "retrieving news from: 2020-12-17 00:00:00\n",
      "retrieving news from: 2020-12-16 00:00:00\n",
      "retrieving news from: 2020-12-15 00:00:00\n",
      "retrieving news from: 2020-12-14 00:00:00\n",
      "retrieving news from: 2020-12-13 00:00:00\n",
      "retrieving news from: 2020-12-12 00:00:00\n",
      "retrieving news from: 2020-12-11 00:00:00\n"
     ]
    }
   ],
   "source": [
    "msft_headlines, dates= get_headlines(\"microsoft stock price\")"
   ]
  },
  {
   "cell_type": "code",
   "execution_count": 81,
   "metadata": {},
   "outputs": [
    {
     "data": {
      "text/plain": [
       "[[\"Dr Prannoy Roy, Ruchir Sharma On 2021's Top 10 Trends: Full Transcript\"],\n",
       " ['The 2021 Economy: We Are All Super Keynesian Now',\n",
       "  'Billionaire Lee Ainslie’s Top 10 Stock Picks',\n",
       "  'Short Selling Legend Jim Chanos’ Top 10 Stock Picks and Tesla, IBM Comments',\n",
       "  'December Mailbag: Post-Traumatic Growth',\n",
       "  'The Retirement-Ready 6.4% Dividend Your Friends Have No Clue About',\n",
       "  'CERNO GLOBAL LEADERS: Boutique fund shops for winners',\n",
       "  \"Stocks enter the manic, exuberant bull market stage, but that doesn't mean it's near ending\",\n",
       "  'Fears over share platforms touting bets that often lose money'],\n",
       " ['Is Microsoft Stock a Buy?',\n",
       "  'Dump Twilio, Buy This Explosive Growth Stock Instead',\n",
       "  'Micron Is Still Rallying After its Strong Earnings. Wall Street Is More Bullish.',\n",
       "  'Bitcoin Tests $40K, May Hit \"$50K to $100K\": ETFs to Play',\n",
       "  'Deals for 2021',\n",
       "  'Primecap Curbs Holdings of Cree, BioMarin Pharmaceutical',\n",
       "  \"Elon Musk overtakes Jeff Bezos as world's richest person\",\n",
       "  'The Zacks Analyst Blog Highlights: ArcelorMittal, Ubiquiti, Rio Tinto, General Motors and Liberty Broadband',\n",
       "  'Elon Musk Is Now The World’s Richest Person',\n",
       "  'Dow Jones Rallies As Economy Loses Jobs; Nio Hits New Buy Point, While Tesla Surges On New Model Y',\n",
       "  'Notice of Lead Plaintiff Deadline for Shareholders in the SolarWinds Corporation Class Action Lawsuit',\n",
       "  'Deadline Reminder: Law Offices of Howard G. Smith Reminds Investors of Looming Deadline in the Class Action Lawsuit Against SolarWinds Corporation (SWI)',\n",
       "  'Tesla Powers Past $820 Billion Valuation; EV Trend Shows No Signs Of Slowing - pymnts.com',\n",
       "  'Xbox Series X restock updates: Expected inventory updates at Best Buy, Amazon, Target, Walmart, more - CNET',\n",
       "  'Tesla Tops Facebook To Become Fifth Most Valuable Company',\n",
       "  'Today’s top deals: Best-selling face masks, disinfectant spray, fitness trackers, Instant Pot discounts, more',\n",
       "  'Macy’s to Close 37 Stores as the Retail Apocalypse Continues in 2021',\n",
       "  \"5 changes to watch for in shopping as major retailers innovate to go 'green'\",\n",
       "  \"Oracle employees say Safra Catz and Larry Ellison don't talk about their Trump ties internally. After the US Capitol siege, some want action: There's 'blood on their hands' (ORCL)\",\n",
       "  'Tesla’s stock market value is now higher than Facebook - Quartz'],\n",
       " ['Add Yield Into Your Stock Portfolio With VIX Still Sitting Above 20',\n",
       "  'Elon Musk dethrones Jeff Bezos as the world’s richest person',\n",
       "  'Tesla’s Elon Musk Tops Amazon’s Jeff Bezos As World’s Richest Person – Bloomberg Billionaires Index',\n",
       "  'What Tech Stocks To Buy In 2021 After Nasdaq’s 45% Return In 2020',\n",
       "  \"Investors Should Watch This Newly Listed AI Company. Here's Why\",\n",
       "  'No, Elon Musk Is Not The Richest Person In The World—Yet',\n",
       "  'Where to buy the Xbox Series X: What we know about restocking Best Buy, Amazon, Target, Walmart, more - CNET',\n",
       "  'The Top 10 Stocks for 2021',\n",
       "  'Alibaba (BABA) to Sell Bonds Up to $8B as Investor-Friendly Move',\n",
       "  \"Uber Leads 3 Hot Growth Stocks Poised To Make Big Moves — Here's Why\",\n",
       "  'Lenovo Tab P11 is a $229 Android tablet with the specs of a decent mid-range phone',\n",
       "  'Dow Jones Jumps, Tech Stocks Surge As Congress Certifies Biden Win; Tesla Surges Above 800 On Upgrade',\n",
       "  '2 Artificial Intelligence Stocks Leading the New Wave',\n",
       "  \"Elon Musk dethrones Jeff Bezos as the world's richest person, reports say\",\n",
       "  'CureVac Forms Covid-19 Vaccine Alliance With Bayer. The Stock Is Surging.',\n",
       "  'Bragar Eagel & Squire, P.C. Reminds Investors That Class Action Lawsuits Have Been Filed Against Triterras, Restaurant Brands International, and CD Projekt and Encourages Investors to Contact the Firm',\n",
       "  'Wall Street Close: S&P crosses above 3800 for the first time',\n",
       "  'Elon Musk passes Jeff Bezos to become world’s richest person',\n",
       "  'LVMH Acquires Tiffany in $15.8B Deal, Reshuffles Management',\n",
       "  'Where You Can Buy An Affordable Laptop for Under $700'],\n",
       " ['Zoom Stock Ran Too Far, Too Fast in 2020',\n",
       "  'Dow Jones Rallies, But Tech Stocks Struggle On Georgia Election Results; Tesla Hits New High',\n",
       "  \"Dow Jones Futures: Congress To Return After Pro-Trump Mob Storms Capitol Hill; Apple Sells Off, But These 5 Stocks Are Buys - Investor's Business Daily\",\n",
       "  \"Dow Jones Futures Fall, While Tech Futures Tumble Amid Georgia Senate Vote - Investor's Business Daily\",\n",
       "  'Microsoft is testing a news and weather widget for the Windows 10 taskbar',\n",
       "  'The latest Xbox Series X restock news: When to expect inventory drops at Best Buy, Amazon, Target, Walmart, more - CNET',\n",
       "  'Dow Jones Today Rises, Nasdaq Dives As Georgia Senate Race Upends Stock Futures',\n",
       "  'The Xbox might steal the PS5 signature feature you envy the most',\n",
       "  'Dow Rallies 1.7%, While Tech Shares Trail - Morningstar.com',\n",
       "  'Dow Rallies, Tech Stocks Slip as Democrats Lead in Georgia Elections - Morningstar.com',\n",
       "  '5 Questions Investors Should Ask Themselves in 2021',\n",
       "  'Wealth Inequality Virus Spikes During the Last Days of 2020',\n",
       "  'Xbox: The Oral History of an American Video Game Empire - BloombergQuint',\n",
       "  'Should you invest in Apple, Blink Charging, Canopy Growth Corp, Wells Fargo, or Microsoft?',\n",
       "  'Internet of Things (IoT) Networks Market Analysis Outlooks 2020: Industry Analysis, Growth rate, Statistics and Forecasts to 2026 - LionLowdown',\n",
       "  'Symmetry Invest A/S 2H20 Letter: WANdisco',\n",
       "  'Year in Review, Year Ahead part 1',\n",
       "  'This small cap stock gave 1,800% return in 9 months, tops 2020 multibagger list',\n",
       "  'Qualcomm CEO Steve Mollenkopf to retire; Cristiano Amon will replace him',\n",
       "  'Mi QLED TV 4K 55 Review: The best Xiaomi TV to date in terms of performance and UI']]"
      ]
     },
     "execution_count": 81,
     "metadata": {},
     "output_type": "execute_result"
    }
   ],
   "source": [
    "msft_headlines[:5]"
   ]
  },
  {
   "cell_type": "markdown",
   "metadata": {},
   "source": [
    "### Calculate the avg compound sentiment score"
   ]
  },
  {
   "cell_type": "code",
   "execution_count": 82,
   "metadata": {},
   "outputs": [],
   "source": [
    "# Create function that computes average compound sentiment of headlines for each day\n",
    "def headline_sentiment_summarizer_avg(headlines):\n",
    "    sentiment = []\n",
    "    for day in headlines:\n",
    "        day_score = []\n",
    "        for article in day:\n",
    "            if article == None:\n",
    "                continue\n",
    "            else:\n",
    "                day_score.append(analyzer.polarity_scores(article)[\"compound\"])\n",
    "        sentiment.append(sum(day_score) / len(day_score))\n",
    "    return sentiment"
   ]
  },
  {
   "cell_type": "code",
   "execution_count": 83,
   "metadata": {},
   "outputs": [],
   "source": [
    "# Get averages of each topics sentiment\n",
    "msft_avg = headline_sentiment_summarizer_avg(msft_headlines)"
   ]
  },
  {
   "cell_type": "code",
   "execution_count": 84,
   "metadata": {},
   "outputs": [
    {
     "data": {
      "text/html": [
       "<div>\n",
       "<style scoped>\n",
       "    .dataframe tbody tr th:only-of-type {\n",
       "        vertical-align: middle;\n",
       "    }\n",
       "\n",
       "    .dataframe tbody tr th {\n",
       "        vertical-align: top;\n",
       "    }\n",
       "\n",
       "    .dataframe thead th {\n",
       "        text-align: right;\n",
       "    }\n",
       "</style>\n",
       "<table border=\"1\" class=\"dataframe\">\n",
       "  <thead>\n",
       "    <tr style=\"text-align: right;\">\n",
       "      <th></th>\n",
       "      <th>msft_avg</th>\n",
       "    </tr>\n",
       "  </thead>\n",
       "  <tbody>\n",
       "    <tr>\n",
       "      <th>0</th>\n",
       "      <td>0.202300</td>\n",
       "    </tr>\n",
       "    <tr>\n",
       "      <th>1</th>\n",
       "      <td>0.227050</td>\n",
       "    </tr>\n",
       "    <tr>\n",
       "      <th>2</th>\n",
       "      <td>0.204130</td>\n",
       "    </tr>\n",
       "    <tr>\n",
       "      <th>3</th>\n",
       "      <td>0.231485</td>\n",
       "    </tr>\n",
       "    <tr>\n",
       "      <th>4</th>\n",
       "      <td>0.130970</td>\n",
       "    </tr>\n",
       "  </tbody>\n",
       "</table>\n",
       "</div>"
      ],
      "text/plain": [
       "   msft_avg\n",
       "0  0.202300\n",
       "1  0.227050\n",
       "2  0.204130\n",
       "3  0.231485\n",
       "4  0.130970"
      ]
     },
     "execution_count": 84,
     "metadata": {},
     "output_type": "execute_result"
    }
   ],
   "source": [
    "# Combine Sentiment Averages into DataFrame\n",
    "topic_sentiments = pd.DataFrame(\n",
    "    {\n",
    "        \"msft_avg\": msft_avg\n",
    "    }\n",
    ")\n",
    "\n",
    "topic_sentiments.head()"
   ]
  },
  {
   "cell_type": "code",
   "execution_count": 85,
   "metadata": {},
   "outputs": [
    {
     "data": {
      "text/html": [
       "<div>\n",
       "<style scoped>\n",
       "    .dataframe tbody tr th:only-of-type {\n",
       "        vertical-align: middle;\n",
       "    }\n",
       "\n",
       "    .dataframe tbody tr th {\n",
       "        vertical-align: top;\n",
       "    }\n",
       "\n",
       "    .dataframe thead th {\n",
       "        text-align: right;\n",
       "    }\n",
       "</style>\n",
       "<table border=\"1\" class=\"dataframe\">\n",
       "  <thead>\n",
       "    <tr style=\"text-align: right;\">\n",
       "      <th></th>\n",
       "      <th>msft_avg</th>\n",
       "    </tr>\n",
       "  </thead>\n",
       "  <tbody>\n",
       "    <tr>\n",
       "      <th>2021-01-10</th>\n",
       "      <td>0.202300</td>\n",
       "    </tr>\n",
       "    <tr>\n",
       "      <th>2021-01-09</th>\n",
       "      <td>0.227050</td>\n",
       "    </tr>\n",
       "    <tr>\n",
       "      <th>2021-01-08</th>\n",
       "      <td>0.204130</td>\n",
       "    </tr>\n",
       "    <tr>\n",
       "      <th>2021-01-07</th>\n",
       "      <td>0.231485</td>\n",
       "    </tr>\n",
       "    <tr>\n",
       "      <th>2021-01-06</th>\n",
       "      <td>0.130970</td>\n",
       "    </tr>\n",
       "  </tbody>\n",
       "</table>\n",
       "</div>"
      ],
      "text/plain": [
       "            msft_avg\n",
       "2021-01-10  0.202300\n",
       "2021-01-09  0.227050\n",
       "2021-01-08  0.204130\n",
       "2021-01-07  0.231485\n",
       "2021-01-06  0.130970"
      ]
     },
     "execution_count": 85,
     "metadata": {},
     "output_type": "execute_result"
    }
   ],
   "source": [
    "# Set the index value of the sentiment averages DataFrame to be the series of dates.\n",
    "topic_sentiments.index = pd.to_datetime(dates)\n",
    "\n",
    "topic_sentiments.head()"
   ]
  },
  {
   "cell_type": "markdown",
   "metadata": {},
   "source": [
    "### Merge the close prices and sentiment score"
   ]
  },
  {
   "cell_type": "code",
   "execution_count": 88,
   "metadata": {},
   "outputs": [
    {
     "data": {
      "text/html": [
       "<div>\n",
       "<style scoped>\n",
       "    .dataframe tbody tr th:only-of-type {\n",
       "        vertical-align: middle;\n",
       "    }\n",
       "\n",
       "    .dataframe tbody tr th {\n",
       "        vertical-align: top;\n",
       "    }\n",
       "\n",
       "    .dataframe thead th {\n",
       "        text-align: right;\n",
       "    }\n",
       "</style>\n",
       "<table border=\"1\" class=\"dataframe\">\n",
       "  <thead>\n",
       "    <tr style=\"text-align: right;\">\n",
       "      <th></th>\n",
       "      <th>pct_change</th>\n",
       "      <th>msft_avg</th>\n",
       "    </tr>\n",
       "    <tr>\n",
       "      <th>Date</th>\n",
       "      <th></th>\n",
       "      <th></th>\n",
       "    </tr>\n",
       "  </thead>\n",
       "  <tbody>\n",
       "    <tr>\n",
       "      <th>2021-01-08</th>\n",
       "      <td>0.005955</td>\n",
       "      <td>0.204130</td>\n",
       "    </tr>\n",
       "    <tr>\n",
       "      <th>2021-01-07</th>\n",
       "      <td>0.028746</td>\n",
       "      <td>0.231485</td>\n",
       "    </tr>\n",
       "    <tr>\n",
       "      <th>2021-01-06</th>\n",
       "      <td>-0.026159</td>\n",
       "      <td>0.130970</td>\n",
       "    </tr>\n",
       "    <tr>\n",
       "      <th>2021-01-05</th>\n",
       "      <td>0.000919</td>\n",
       "      <td>0.208435</td>\n",
       "    </tr>\n",
       "    <tr>\n",
       "      <th>2021-01-04</th>\n",
       "      <td>-0.021133</td>\n",
       "      <td>0.245250</td>\n",
       "    </tr>\n",
       "  </tbody>\n",
       "</table>\n",
       "</div>"
      ],
      "text/plain": [
       "            pct_change  msft_avg\n",
       "Date                            \n",
       "2021-01-08    0.005955  0.204130\n",
       "2021-01-07    0.028746  0.231485\n",
       "2021-01-06   -0.026159  0.130970\n",
       "2021-01-05    0.000919  0.208435\n",
       "2021-01-04   -0.021133  0.245250"
      ]
     },
     "execution_count": 88,
     "metadata": {},
     "output_type": "execute_result"
    }
   ],
   "source": [
    "# Merge with MSFT returns\n",
    "topic_sentiments_merged = returns_df.join(topic_sentiments).dropna(how=\"any\")\n",
    "topic_sentiments_merged.head()"
   ]
  },
  {
   "cell_type": "markdown",
   "metadata": {},
   "source": [
    "## Tokenization, Lemmatization"
   ]
  },
  {
   "cell_type": "code",
   "execution_count": 23,
   "metadata": {},
   "outputs": [],
   "source": [
    "# Importing the Libraries and Functions\n",
    "from nltk.tokenize import word_tokenize, sent_tokenize\n",
    "from nltk.corpus import stopwords\n",
    "from nltk.stem import WordNetLemmatizer, PorterStemmer\n",
    "from string import punctuation\n",
    "import re"
   ]
  },
  {
   "cell_type": "code",
   "execution_count": 24,
   "metadata": {},
   "outputs": [],
   "source": [
    "# Instantiate the lemmatizer\n",
    "lemmatizer= WordNetLemmatizer()"
   ]
  },
  {
   "cell_type": "code",
   "execution_count": 25,
   "metadata": {},
   "outputs": [],
   "source": [
    "def tokenizer(text):\n",
    "    \"\"\"Tokenizes text.\"\"\"\n",
    "    \n",
    "    # Remove the stop words\n",
    "    stop_words= set (stopwords.words('english'))\n",
    "   \n",
    "    # Remove the punctuation and substitute\n",
    "    non_alpha= re.compile('[^a-zA-Z ]')\n",
    "    re_clean= non_alpha.sub('', str (text))\n",
    "    \n",
    "    # Tokenize the words\n",
    "    words= word_tokenize(re_clean)\n",
    "    \n",
    "    # Lemmatize Article words into root words\n",
    "    root_words= []\n",
    "    for values in words:\n",
    "        root_words.append(lemmatizer.lemmatize(values))\n",
    "        \n",
    "    # Remove stop words and Convert the words to lowercase\n",
    "    tokens= []\n",
    "    for all_words in root_words:\n",
    "        if all_words.lower() not in stop_words:\n",
    "            tokens.append(all_words.lower())\n",
    "    \n",
    "    return tokens"
   ]
  },
  {
   "cell_type": "code",
   "execution_count": 26,
   "metadata": {},
   "outputs": [
    {
     "data": {
      "text/html": [
       "<div>\n",
       "<style scoped>\n",
       "    .dataframe tbody tr th:only-of-type {\n",
       "        vertical-align: middle;\n",
       "    }\n",
       "\n",
       "    .dataframe tbody tr th {\n",
       "        vertical-align: top;\n",
       "    }\n",
       "\n",
       "    .dataframe thead th {\n",
       "        text-align: right;\n",
       "    }\n",
       "</style>\n",
       "<table border=\"1\" class=\"dataframe\">\n",
       "  <thead>\n",
       "    <tr style=\"text-align: right;\">\n",
       "      <th></th>\n",
       "      <th>text</th>\n",
       "      <th>tokenized</th>\n",
       "    </tr>\n",
       "    <tr>\n",
       "      <th>date</th>\n",
       "      <th></th>\n",
       "      <th></th>\n",
       "    </tr>\n",
       "  </thead>\n",
       "  <tbody>\n",
       "    <tr>\n",
       "      <th>2021-01-10</th>\n",
       "      <td>Global investor and author Ruchir Sharma discu...</td>\n",
       "      <td>[global, investor, author, ruchir, sharma, dis...</td>\n",
       "    </tr>\n",
       "    <tr>\n",
       "      <th>2021-01-09</th>\n",
       "      <td>Concerns are rising over the emergence of new-...</td>\n",
       "      <td>[concerns, rising, emergence, newstyle, online...</td>\n",
       "    </tr>\n",
       "    <tr>\n",
       "      <th>2021-01-09</th>\n",
       "      <td>Investment house Cerno Capital is a small 'bou...</td>\n",
       "      <td>[investment, house, cerno, capital, small, bou...</td>\n",
       "    </tr>\n",
       "    <tr>\n",
       "      <th>2021-01-09</th>\n",
       "      <td>In this article, we presented short selling le...</td>\n",
       "      <td>[article, presented, short, selling, legend, j...</td>\n",
       "    </tr>\n",
       "    <tr>\n",
       "      <th>2021-01-09</th>\n",
       "      <td>In this episode of Rule Breaker Investing, Mot...</td>\n",
       "      <td>[episode, rule, breaker, investing, motley, fo...</td>\n",
       "    </tr>\n",
       "  </tbody>\n",
       "</table>\n",
       "</div>"
      ],
      "text/plain": [
       "                                                         text  \\\n",
       "date                                                            \n",
       "2021-01-10  Global investor and author Ruchir Sharma discu...   \n",
       "2021-01-09  Concerns are rising over the emergence of new-...   \n",
       "2021-01-09  Investment house Cerno Capital is a small 'bou...   \n",
       "2021-01-09  In this article, we presented short selling le...   \n",
       "2021-01-09  In this episode of Rule Breaker Investing, Mot...   \n",
       "\n",
       "                                                    tokenized  \n",
       "date                                                           \n",
       "2021-01-10  [global, investor, author, ruchir, sharma, dis...  \n",
       "2021-01-09  [concerns, rising, emergence, newstyle, online...  \n",
       "2021-01-09  [investment, house, cerno, capital, small, bou...  \n",
       "2021-01-09  [article, presented, short, selling, legend, j...  \n",
       "2021-01-09  [episode, rule, breaker, investing, motley, fo...  "
      ]
     },
     "execution_count": 26,
     "metadata": {},
     "output_type": "execute_result"
    }
   ],
   "source": [
    "# Apply the tokenizer function to the news text column\n",
    "stock_sentiment_df['tokenized']= stock_sentiment_df['text'].apply(tokenizer)\n",
    "stock_sentiment_df.head()"
   ]
  },
  {
   "cell_type": "markdown",
   "metadata": {},
   "source": [
    "## N-grams, WordCloud"
   ]
  },
  {
   "cell_type": "code",
   "execution_count": 91,
   "metadata": {},
   "outputs": [],
   "source": [
    "# Import the Libraries and functions\n",
    "from collections import Counter\n",
    "from nltk import ngrams"
   ]
  },
  {
   "cell_type": "code",
   "execution_count": 96,
   "metadata": {},
   "outputs": [],
   "source": [
    "# Convert the news words to a string and embed in a list\n",
    "# list_words= stock_sentiment_df['tokenized'].to_list()\n",
    "# list_words[:10]"
   ]
  },
  {
   "cell_type": "code",
   "execution_count": 97,
   "metadata": {},
   "outputs": [],
   "source": [
    "# Import the libraries and functions\n",
    "from wordcloud import WordCloud\n",
    "import matplotlib.pyplot as plt\n",
    "plt.style.use('seaborn-whitegrid')\n",
    "import matplotlib as mpl\n",
    "mpl.rcParams['figure.figsize'] = [10.0, 10.0]"
   ]
  },
  {
   "cell_type": "code",
   "execution_count": 98,
   "metadata": {},
   "outputs": [
    {
     "data": {
      "image/png": "[encoded data removed]",
      "text/plain": [
       "<Figure size 720x720 with 1 Axes>"
      ]
     },
     "metadata": {},
     "output_type": "display_data"
    }
   ],
   "source": [
    "# Generate the word cloud\n",
    "returns_big_text= ''.join (str (stock_sentiment_df[\"text\"]))\n",
    "\n",
    "returns_wc= WordCloud().generate(returns_big_text)\n",
    "\n",
    "plt.imshow(returns_wc)\n",
    "plt.axis(\"off\")\n",
    "plt.title('WordCloud', fontsize= 25)\n",
    "plt.show()"
   ]
  }
 ],
 "metadata": {
  "kernelspec": {
   "display_name": "Python [conda env:pyvizenv] *",
   "language": "python",
   "name": "conda-env-pyvizenv-py"
  },
  "language_info": {
   "codemirror_mode": {
    "name": "ipython",
    "version": 3
   },
   "file_extension": ".py",
   "mimetype": "text/x-python",
   "name": "python",
   "nbconvert_exporter": "python",
   "pygments_lexer": "ipython3",
   "version": "3.7.9"
  }
 },
 "nbformat": 4,
 "nbformat_minor": 4
}
