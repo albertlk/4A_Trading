{
 "cells": [
  {
   "cell_type": "markdown",
   "metadata": {},
   "source": [
    "# Part 1- Sentiment analysis of stock news"
   ]
  },
  {
   "cell_type": "markdown",
   "metadata": {},
   "source": [
    "## Import the libraries"
   ]
  },
  {
   "cell_type": "code",
   "execution_count": 33,
   "metadata": {},
   "outputs": [],
   "source": [
    "import os\n",
    "import numpy as np\n",
    "import pandas as pd\n",
    "import yfinance as yf\n",
    "import datetime\n",
    "%matplotlib inline\n",
    "import tensorflow as tf\n",
    "from newsapi import NewsApiClient\n",
    "from datetime import datetime, timedelta\n",
    "from dotenv import load_dotenv\n",
    "load_dotenv()\n",
    "\n",
    "import nltk\n",
    "from nltk.sentiment.vader import SentimentIntensityAnalyzer"
   ]
  },
  {
   "cell_type": "markdown",
   "metadata": {},
   "source": [
    "## Fetch the stock OHLC"
   ]
  },
  {
   "cell_type": "code",
   "execution_count": 35,
   "metadata": {},
   "outputs": [
    {
     "name": "stdout",
     "output_type": "stream",
     "text": [
      "[*********************100%***********************]  1 of 1 completed\n"
     ]
    },
    {
     "data": {
      "text/html": [
       "<div>\n",
       "<style scoped>\n",
       "    .dataframe tbody tr th:only-of-type {\n",
       "        vertical-align: middle;\n",
       "    }\n",
       "\n",
       "    .dataframe tbody tr th {\n",
       "        vertical-align: top;\n",
       "    }\n",
       "\n",
       "    .dataframe thead th {\n",
       "        text-align: right;\n",
       "    }\n",
       "</style>\n",
       "<table border=\"1\" class=\"dataframe\">\n",
       "  <thead>\n",
       "    <tr style=\"text-align: right;\">\n",
       "      <th></th>\n",
       "      <th>Open</th>\n",
       "      <th>High</th>\n",
       "      <th>Low</th>\n",
       "      <th>Close</th>\n",
       "      <th>Adj Close</th>\n",
       "      <th>Volume</th>\n",
       "    </tr>\n",
       "    <tr>\n",
       "      <th>Date</th>\n",
       "      <th></th>\n",
       "      <th></th>\n",
       "      <th></th>\n",
       "      <th></th>\n",
       "      <th></th>\n",
       "      <th></th>\n",
       "    </tr>\n",
       "  </thead>\n",
       "  <tbody>\n",
       "    <tr>\n",
       "      <th>2021-01-08</th>\n",
       "      <td>218.679993</td>\n",
       "      <td>220.580002</td>\n",
       "      <td>217.029999</td>\n",
       "      <td>219.619995</td>\n",
       "      <td>219.619995</td>\n",
       "      <td>22956200</td>\n",
       "    </tr>\n",
       "    <tr>\n",
       "      <th>2021-01-11</th>\n",
       "      <td>218.470001</td>\n",
       "      <td>218.910004</td>\n",
       "      <td>216.729996</td>\n",
       "      <td>217.490005</td>\n",
       "      <td>217.490005</td>\n",
       "      <td>23047000</td>\n",
       "    </tr>\n",
       "    <tr>\n",
       "      <th>2021-01-12</th>\n",
       "      <td>216.500000</td>\n",
       "      <td>217.100006</td>\n",
       "      <td>213.320007</td>\n",
       "      <td>214.929993</td>\n",
       "      <td>214.929993</td>\n",
       "      <td>23249300</td>\n",
       "    </tr>\n",
       "    <tr>\n",
       "      <th>2021-01-13</th>\n",
       "      <td>214.020004</td>\n",
       "      <td>216.759995</td>\n",
       "      <td>213.929993</td>\n",
       "      <td>216.339996</td>\n",
       "      <td>216.339996</td>\n",
       "      <td>20049900</td>\n",
       "    </tr>\n",
       "    <tr>\n",
       "      <th>2021-01-14</th>\n",
       "      <td>215.910004</td>\n",
       "      <td>217.449997</td>\n",
       "      <td>213.759995</td>\n",
       "      <td>213.839996</td>\n",
       "      <td>213.839996</td>\n",
       "      <td>16714439</td>\n",
       "    </tr>\n",
       "  </tbody>\n",
       "</table>\n",
       "</div>"
      ],
      "text/plain": [
       "                  Open        High         Low       Close   Adj Close  \\\n",
       "Date                                                                     \n",
       "2021-01-08  218.679993  220.580002  217.029999  219.619995  219.619995   \n",
       "2021-01-11  218.470001  218.910004  216.729996  217.490005  217.490005   \n",
       "2021-01-12  216.500000  217.100006  213.320007  214.929993  214.929993   \n",
       "2021-01-13  214.020004  216.759995  213.929993  216.339996  216.339996   \n",
       "2021-01-14  215.910004  217.449997  213.759995  213.839996  213.839996   \n",
       "\n",
       "              Volume  \n",
       "Date                  \n",
       "2021-01-08  22956200  \n",
       "2021-01-11  23047000  \n",
       "2021-01-12  23249300  \n",
       "2021-01-13  20049900  \n",
       "2021-01-14  16714439  "
      ]
     },
     "execution_count": 35,
     "metadata": {},
     "output_type": "execute_result"
    }
   ],
   "source": [
    "# Yahoo finance is used\n",
    "stock_data= yf.download(tickers= 'MSFT', period= '1y')\n",
    "stock_data.tail()\n",
    "# stock_data.to_csv('stock_data.csv')"
   ]
  },
  {
   "cell_type": "code",
   "execution_count": 36,
   "metadata": {},
   "outputs": [],
   "source": [
    "# stock_data_csv= pd.read_csv('stock_data.csv')\n",
    "# stock_data_csv.tail()"
   ]
  },
  {
   "cell_type": "code",
   "execution_count": 38,
   "metadata": {},
   "outputs": [],
   "source": [
    "# stock_data_csv.set_index('Date', inplace= True)\n",
    "# stock_data_csv.tail()"
   ]
  },
  {
   "cell_type": "code",
   "execution_count": 39,
   "metadata": {},
   "outputs": [],
   "source": [
    "# stock_data_csv.drop('2021-01-14', inplace= True)\n",
    "# stock_data_csv.tail()"
   ]
  },
  {
   "cell_type": "code",
   "execution_count": 40,
   "metadata": {},
   "outputs": [
    {
     "data": {
      "text/html": [
       "<div>\n",
       "<style scoped>\n",
       "    .dataframe tbody tr th:only-of-type {\n",
       "        vertical-align: middle;\n",
       "    }\n",
       "\n",
       "    .dataframe tbody tr th {\n",
       "        vertical-align: top;\n",
       "    }\n",
       "\n",
       "    .dataframe thead th {\n",
       "        text-align: right;\n",
       "    }\n",
       "</style>\n",
       "<table border=\"1\" class=\"dataframe\">\n",
       "  <thead>\n",
       "    <tr style=\"text-align: right;\">\n",
       "      <th></th>\n",
       "      <th>Open</th>\n",
       "      <th>High</th>\n",
       "      <th>Low</th>\n",
       "      <th>Close</th>\n",
       "      <th>Adj Close</th>\n",
       "      <th>Volume</th>\n",
       "    </tr>\n",
       "    <tr>\n",
       "      <th>Date</th>\n",
       "      <th></th>\n",
       "      <th></th>\n",
       "      <th></th>\n",
       "      <th></th>\n",
       "      <th></th>\n",
       "      <th></th>\n",
       "    </tr>\n",
       "  </thead>\n",
       "  <tbody>\n",
       "    <tr>\n",
       "      <th>2021-01-14</th>\n",
       "      <td>215.910004</td>\n",
       "      <td>217.449997</td>\n",
       "      <td>213.759995</td>\n",
       "      <td>213.839996</td>\n",
       "      <td>213.839996</td>\n",
       "      <td>16714439</td>\n",
       "    </tr>\n",
       "    <tr>\n",
       "      <th>2021-01-13</th>\n",
       "      <td>214.020004</td>\n",
       "      <td>216.759995</td>\n",
       "      <td>213.929993</td>\n",
       "      <td>216.339996</td>\n",
       "      <td>216.339996</td>\n",
       "      <td>20049900</td>\n",
       "    </tr>\n",
       "    <tr>\n",
       "      <th>2021-01-12</th>\n",
       "      <td>216.500000</td>\n",
       "      <td>217.100006</td>\n",
       "      <td>213.320007</td>\n",
       "      <td>214.929993</td>\n",
       "      <td>214.929993</td>\n",
       "      <td>23249300</td>\n",
       "    </tr>\n",
       "    <tr>\n",
       "      <th>2021-01-11</th>\n",
       "      <td>218.470001</td>\n",
       "      <td>218.910004</td>\n",
       "      <td>216.729996</td>\n",
       "      <td>217.490005</td>\n",
       "      <td>217.490005</td>\n",
       "      <td>23047000</td>\n",
       "    </tr>\n",
       "    <tr>\n",
       "      <th>2021-01-08</th>\n",
       "      <td>218.679993</td>\n",
       "      <td>220.580002</td>\n",
       "      <td>217.029999</td>\n",
       "      <td>219.619995</td>\n",
       "      <td>219.619995</td>\n",
       "      <td>22956200</td>\n",
       "    </tr>\n",
       "  </tbody>\n",
       "</table>\n",
       "</div>"
      ],
      "text/plain": [
       "                  Open        High         Low       Close   Adj Close  \\\n",
       "Date                                                                     \n",
       "2021-01-14  215.910004  217.449997  213.759995  213.839996  213.839996   \n",
       "2021-01-13  214.020004  216.759995  213.929993  216.339996  216.339996   \n",
       "2021-01-12  216.500000  217.100006  213.320007  214.929993  214.929993   \n",
       "2021-01-11  218.470001  218.910004  216.729996  217.490005  217.490005   \n",
       "2021-01-08  218.679993  220.580002  217.029999  219.619995  219.619995   \n",
       "\n",
       "              Volume  \n",
       "Date                  \n",
       "2021-01-14  16714439  \n",
       "2021-01-13  20049900  \n",
       "2021-01-12  23249300  \n",
       "2021-01-11  23047000  \n",
       "2021-01-08  22956200  "
      ]
     },
     "execution_count": 40,
     "metadata": {},
     "output_type": "execute_result"
    }
   ],
   "source": [
    "stock_data.sort_index(ascending= False, inplace= True)\n",
    "stock_data.head()"
   ]
  },
  {
   "cell_type": "code",
   "execution_count": 42,
   "metadata": {},
   "outputs": [
    {
     "data": {
      "text/plain": [
       "Date\n",
       "2021-01-14    213.84\n",
       "2021-01-13    216.34\n",
       "2021-01-12    214.93\n",
       "2021-01-11    217.49\n",
       "2021-01-08    219.62\n",
       "Name: Close, dtype: float64"
      ]
     },
     "execution_count": 42,
     "metadata": {},
     "output_type": "execute_result"
    }
   ],
   "source": [
    "# Get only the closing price and round to 2 decimals\n",
    "stock_close= round (stock_data['Close'], 2)\n",
    "stock_close.head()"
   ]
  },
  {
   "cell_type": "code",
   "execution_count": 43,
   "metadata": {},
   "outputs": [
    {
     "data": {
      "text/plain": [
       "Date\n",
       "2020-01-21    0.482800\n",
       "2020-01-17    0.360360\n",
       "2020-01-16   -0.556553\n",
       "2020-01-15   -1.799362\n",
       "2020-01-14   -0.643461\n",
       "Name: Close, dtype: float64"
      ]
     },
     "execution_count": 43,
     "metadata": {},
     "output_type": "execute_result"
    }
   ],
   "source": [
    "# Calculate the daily returns\n",
    "returns= stock_close.pct_change()*100\n",
    "returns.tail()"
   ]
  },
  {
   "cell_type": "code",
   "execution_count": 44,
   "metadata": {},
   "outputs": [
    {
     "data": {
      "text/html": [
       "<div>\n",
       "<style scoped>\n",
       "    .dataframe tbody tr th:only-of-type {\n",
       "        vertical-align: middle;\n",
       "    }\n",
       "\n",
       "    .dataframe tbody tr th {\n",
       "        vertical-align: top;\n",
       "    }\n",
       "\n",
       "    .dataframe thead th {\n",
       "        text-align: right;\n",
       "    }\n",
       "</style>\n",
       "<table border=\"1\" class=\"dataframe\">\n",
       "  <thead>\n",
       "    <tr style=\"text-align: right;\">\n",
       "      <th></th>\n",
       "      <th>pct_change</th>\n",
       "    </tr>\n",
       "    <tr>\n",
       "      <th>Date</th>\n",
       "      <th></th>\n",
       "    </tr>\n",
       "  </thead>\n",
       "  <tbody>\n",
       "    <tr>\n",
       "      <th>2021-01-14</th>\n",
       "      <td>NaN</td>\n",
       "    </tr>\n",
       "    <tr>\n",
       "      <th>2021-01-13</th>\n",
       "      <td>1.169098</td>\n",
       "    </tr>\n",
       "    <tr>\n",
       "      <th>2021-01-12</th>\n",
       "      <td>-0.651752</td>\n",
       "    </tr>\n",
       "    <tr>\n",
       "      <th>2021-01-11</th>\n",
       "      <td>1.191085</td>\n",
       "    </tr>\n",
       "    <tr>\n",
       "      <th>2021-01-08</th>\n",
       "      <td>0.979355</td>\n",
       "    </tr>\n",
       "  </tbody>\n",
       "</table>\n",
       "</div>"
      ],
      "text/plain": [
       "            pct_change\n",
       "Date                  \n",
       "2021-01-14         NaN\n",
       "2021-01-13    1.169098\n",
       "2021-01-12   -0.651752\n",
       "2021-01-11    1.191085\n",
       "2021-01-08    0.979355"
      ]
     },
     "execution_count": 44,
     "metadata": {},
     "output_type": "execute_result"
    }
   ],
   "source": [
    "# Convert to a dataframe and sort by descending date\n",
    "returns_df= pd.DataFrame(returns)\n",
    "returns_df.sort_index(ascending= False, inplace= True)\n",
    "\n",
    "returns_df.rename(columns= {'Close':'pct_change'}, inplace= True)\n",
    "returns_df.head()"
   ]
  },
  {
   "cell_type": "markdown",
   "metadata": {},
   "source": [
    "### Download the VADER Lexicon"
   ]
  },
  {
   "cell_type": "code",
   "execution_count": 45,
   "metadata": {},
   "outputs": [
    {
     "name": "stderr",
     "output_type": "stream",
     "text": [
      "[nltk_data] Downloading package vader_lexicon to\n",
      "[nltk_data]     C:\\Users\\sathe\\AppData\\Roaming\\nltk_data...\n",
      "[nltk_data]   Package vader_lexicon is already up-to-date!\n"
     ]
    }
   ],
   "source": [
    "nltk.download('vader_lexicon')\n",
    "\n",
    "# Initialize the sentiment analyzer\n",
    "analyzer= SentimentIntensityAnalyzer()"
   ]
  },
  {
   "cell_type": "markdown",
   "metadata": {},
   "source": [
    "### Fetch the news"
   ]
  },
  {
   "cell_type": "code",
   "execution_count": 46,
   "metadata": {},
   "outputs": [],
   "source": [
    "# Import the libraries\n",
    "import requests\n",
    "import json"
   ]
  },
  {
   "cell_type": "code",
   "execution_count": 47,
   "metadata": {},
   "outputs": [
    {
     "data": {
      "text/plain": [
       "str"
      ]
     },
     "execution_count": 47,
     "metadata": {},
     "output_type": "execute_result"
    }
   ],
   "source": [
    "# Check for the STOCK_NEWS_API key\n",
    "stock_news_api= os.getenv(\"STOCK_NEWS_API\")\n",
    "type (stock_news_api)"
   ]
  },
  {
   "cell_type": "code",
   "execution_count": null,
   "metadata": {},
   "outputs": [],
   "source": [
    "# This was used to fetch the news, its has been converted to a CSV. Now, this cell is redundant\n",
    "all_data = []\n",
    "for i in range(1,101):\n",
    "    request_url = f\"https://stocknewsapi.com/api/v1?tickers=MSFT&items=50&page={i}&token=\"\n",
    "    request_url= request_url+ stock_news_api\n",
    "    response_data= requests.get(request_url).json()\n",
    "\n",
    "    try:\n",
    "        all_data = all_data + response_data[\"data\"]\n",
    "    except:\n",
    "        print(response_data)"
   ]
  },
  {
   "cell_type": "code",
   "execution_count": null,
   "metadata": {},
   "outputs": [],
   "source": [
    "# df2 = pd.DataFrame(all_data)\n",
    "# df2.to_csv(\"msft_news.csv\")"
   ]
  },
  {
   "cell_type": "code",
   "execution_count": 48,
   "metadata": {},
   "outputs": [
    {
     "name": "stdout",
     "output_type": "stream",
     "text": [
      "2700\n"
     ]
    },
    {
     "data": {
      "text/html": [
       "<div>\n",
       "<style scoped>\n",
       "    .dataframe tbody tr th:only-of-type {\n",
       "        vertical-align: middle;\n",
       "    }\n",
       "\n",
       "    .dataframe tbody tr th {\n",
       "        vertical-align: top;\n",
       "    }\n",
       "\n",
       "    .dataframe thead th {\n",
       "        text-align: right;\n",
       "    }\n",
       "</style>\n",
       "<table border=\"1\" class=\"dataframe\">\n",
       "  <thead>\n",
       "    <tr style=\"text-align: right;\">\n",
       "      <th></th>\n",
       "      <th>date</th>\n",
       "      <th>image_url</th>\n",
       "      <th>news_url</th>\n",
       "      <th>sentiment</th>\n",
       "      <th>source_name</th>\n",
       "      <th>text</th>\n",
       "      <th>tickers</th>\n",
       "      <th>title</th>\n",
       "      <th>topics</th>\n",
       "      <th>type</th>\n",
       "    </tr>\n",
       "  </thead>\n",
       "  <tbody>\n",
       "    <tr>\n",
       "      <th>2695</th>\n",
       "      <td>Sat, 11 Jan 2020 10:01:01 -0500</td>\n",
       "      <td>https://cdn.snapi.dev/images/v1/1/0/106315973-...</td>\n",
       "      <td>https://www.cnbc.com/2020/01/10/microsoft-has-...</td>\n",
       "      <td>Positive</td>\n",
       "      <td>CNBC</td>\n",
       "      <td>For years, Microsoft has been criticized for h...</td>\n",
       "      <td>['MSFT']</td>\n",
       "      <td>Microsoft is taking big strides to make Surfac...</td>\n",
       "      <td>[]</td>\n",
       "      <td>Article</td>\n",
       "    </tr>\n",
       "    <tr>\n",
       "      <th>2696</th>\n",
       "      <td>Fri, 10 Jan 2020 15:43:00 -0500</td>\n",
       "      <td>https://cdn.snapi.dev/images/v1/f/r/foj2gvceo-...</td>\n",
       "      <td>https://www.zacks.com/stock/news/711996/micros...</td>\n",
       "      <td>Positive</td>\n",
       "      <td>Zacks Investment Research</td>\n",
       "      <td>Wedbush analyst Daniel Ives is hugely upbeat o...</td>\n",
       "      <td>['MSFT']</td>\n",
       "      <td>Microsoft's Azure Poised to Pop</td>\n",
       "      <td>[]</td>\n",
       "      <td>Article</td>\n",
       "    </tr>\n",
       "    <tr>\n",
       "      <th>2697</th>\n",
       "      <td>Fri, 10 Jan 2020 14:24:00 -0500</td>\n",
       "      <td>https://cdn.snapi.dev/images/v1/s/k/skype-logo...</td>\n",
       "      <td>https://www.cnet.com/news/microsoft-listened-t...</td>\n",
       "      <td>Neutral</td>\n",
       "      <td>CNET</td>\n",
       "      <td>Microsoft uses human reviewers to improve voic...</td>\n",
       "      <td>['MSFT']</td>\n",
       "      <td>Microsoft listened to Skype calls with 'no sec...</td>\n",
       "      <td>[]</td>\n",
       "      <td>Article</td>\n",
       "    </tr>\n",
       "    <tr>\n",
       "      <th>2698</th>\n",
       "      <td>Fri, 10 Jan 2020 13:29:22 -0500</td>\n",
       "      <td>https://cdn.snapi.dev/images/v1/s/o/software21...</td>\n",
       "      <td>https://investorplace.com/2020/01/3-top-blue-c...</td>\n",
       "      <td>Positive</td>\n",
       "      <td>InvestorPlace</td>\n",
       "      <td>Everyone wants to find big rewards without tak...</td>\n",
       "      <td>['AAPL', 'MDT', 'MSFT']</td>\n",
       "      <td>3 Top Blue-Chip Stocks to Buy and Hold Now</td>\n",
       "      <td>[]</td>\n",
       "      <td>Article</td>\n",
       "    </tr>\n",
       "    <tr>\n",
       "      <th>2699</th>\n",
       "      <td>Fri, 10 Jan 2020 12:27:53 -0500</td>\n",
       "      <td>https://cdn.snapi.dev/images/v1/o/f/office-web...</td>\n",
       "      <td>https://www.geekwire.com/2020/microsoft-eyes-h...</td>\n",
       "      <td>Neutral</td>\n",
       "      <td>GeekWire</td>\n",
       "      <td>Microsoft has set its sights on a huge new off...</td>\n",
       "      <td>['MSFT']</td>\n",
       "      <td>Microsoft eyes huge new office building near i...</td>\n",
       "      <td>[]</td>\n",
       "      <td>Article</td>\n",
       "    </tr>\n",
       "  </tbody>\n",
       "</table>\n",
       "</div>"
      ],
      "text/plain": [
       "                                 date  \\\n",
       "2695  Sat, 11 Jan 2020 10:01:01 -0500   \n",
       "2696  Fri, 10 Jan 2020 15:43:00 -0500   \n",
       "2697  Fri, 10 Jan 2020 14:24:00 -0500   \n",
       "2698  Fri, 10 Jan 2020 13:29:22 -0500   \n",
       "2699  Fri, 10 Jan 2020 12:27:53 -0500   \n",
       "\n",
       "                                              image_url  \\\n",
       "2695  https://cdn.snapi.dev/images/v1/1/0/106315973-...   \n",
       "2696  https://cdn.snapi.dev/images/v1/f/r/foj2gvceo-...   \n",
       "2697  https://cdn.snapi.dev/images/v1/s/k/skype-logo...   \n",
       "2698  https://cdn.snapi.dev/images/v1/s/o/software21...   \n",
       "2699  https://cdn.snapi.dev/images/v1/o/f/office-web...   \n",
       "\n",
       "                                               news_url sentiment  \\\n",
       "2695  https://www.cnbc.com/2020/01/10/microsoft-has-...  Positive   \n",
       "2696  https://www.zacks.com/stock/news/711996/micros...  Positive   \n",
       "2697  https://www.cnet.com/news/microsoft-listened-t...   Neutral   \n",
       "2698  https://investorplace.com/2020/01/3-top-blue-c...  Positive   \n",
       "2699  https://www.geekwire.com/2020/microsoft-eyes-h...   Neutral   \n",
       "\n",
       "                    source_name  \\\n",
       "2695                       CNBC   \n",
       "2696  Zacks Investment Research   \n",
       "2697                       CNET   \n",
       "2698              InvestorPlace   \n",
       "2699                   GeekWire   \n",
       "\n",
       "                                                   text  \\\n",
       "2695  For years, Microsoft has been criticized for h...   \n",
       "2696  Wedbush analyst Daniel Ives is hugely upbeat o...   \n",
       "2697  Microsoft uses human reviewers to improve voic...   \n",
       "2698  Everyone wants to find big rewards without tak...   \n",
       "2699  Microsoft has set its sights on a huge new off...   \n",
       "\n",
       "                      tickers  \\\n",
       "2695                 ['MSFT']   \n",
       "2696                 ['MSFT']   \n",
       "2697                 ['MSFT']   \n",
       "2698  ['AAPL', 'MDT', 'MSFT']   \n",
       "2699                 ['MSFT']   \n",
       "\n",
       "                                                  title topics     type  \n",
       "2695  Microsoft is taking big strides to make Surfac...     []  Article  \n",
       "2696                    Microsoft's Azure Poised to Pop     []  Article  \n",
       "2697  Microsoft listened to Skype calls with 'no sec...     []  Article  \n",
       "2698         3 Top Blue-Chip Stocks to Buy and Hold Now     []  Article  \n",
       "2699  Microsoft eyes huge new office building near i...     []  Article  "
      ]
     },
     "execution_count": 48,
     "metadata": {},
     "output_type": "execute_result"
    }
   ],
   "source": [
    "df2 = pd.read_csv(\"msft_news.csv\")\n",
    "print(len(df2))\n",
    "\n",
    "df2.drop(columns= ['Unnamed: 0', 'Unnamed: 0.1'], inplace= True)\n",
    "df2.tail()"
   ]
  },
  {
   "cell_type": "code",
   "execution_count": 49,
   "metadata": {},
   "outputs": [
    {
     "data": {
      "text/plain": [
       "Index(['date', 'image_url', 'news_url', 'sentiment', 'source_name', 'text',\n",
       "       'tickers', 'title', 'topics', 'type'],\n",
       "      dtype='object')"
      ]
     },
     "execution_count": 49,
     "metadata": {},
     "output_type": "execute_result"
    }
   ],
   "source": [
    "df2.columns"
   ]
  },
  {
   "cell_type": "code",
   "execution_count": 50,
   "metadata": {},
   "outputs": [
    {
     "data": {
      "text/html": [
       "<div>\n",
       "<style scoped>\n",
       "    .dataframe tbody tr th:only-of-type {\n",
       "        vertical-align: middle;\n",
       "    }\n",
       "\n",
       "    .dataframe tbody tr th {\n",
       "        vertical-align: top;\n",
       "    }\n",
       "\n",
       "    .dataframe thead th {\n",
       "        text-align: right;\n",
       "    }\n",
       "</style>\n",
       "<table border=\"1\" class=\"dataframe\">\n",
       "  <thead>\n",
       "    <tr style=\"text-align: right;\">\n",
       "      <th></th>\n",
       "      <th>date</th>\n",
       "      <th>text</th>\n",
       "      <th>tickers</th>\n",
       "      <th>sentiment</th>\n",
       "    </tr>\n",
       "  </thead>\n",
       "  <tbody>\n",
       "    <tr>\n",
       "      <th>0</th>\n",
       "      <td>Wed, 13 Jan 2021 14:14:40 -0500</td>\n",
       "      <td>We cannot state the slowdown in Microsoft's gr...</td>\n",
       "      <td>['MSFT']</td>\n",
       "      <td>Positive</td>\n",
       "    </tr>\n",
       "    <tr>\n",
       "      <th>1</th>\n",
       "      <td>Wed, 13 Jan 2021 13:53:55 -0500</td>\n",
       "      <td>Microsoft is still worth significantly more ba...</td>\n",
       "      <td>['MSFT']</td>\n",
       "      <td>Positive</td>\n",
       "    </tr>\n",
       "    <tr>\n",
       "      <th>2</th>\n",
       "      <td>Wed, 13 Jan 2021 07:00:00 -0500</td>\n",
       "      <td>EDMONTON, AB / ACCESSWIRE / January 13, 2021 /...</td>\n",
       "      <td>['MSFT', 'OSSIF']</td>\n",
       "      <td>Neutral</td>\n",
       "    </tr>\n",
       "    <tr>\n",
       "      <th>3</th>\n",
       "      <td>Tue, 12 Jan 2021 18:48:15 -0500</td>\n",
       "      <td>In the latest trading session, Microsoft (MSFT...</td>\n",
       "      <td>['MSFT']</td>\n",
       "      <td>Negative</td>\n",
       "    </tr>\n",
       "    <tr>\n",
       "      <th>4</th>\n",
       "      <td>Tue, 12 Jan 2021 16:05:00 -0500</td>\n",
       "      <td>REDMOND, Wash., Jan. 12, 2021 /PRNewswire/ -- ...</td>\n",
       "      <td>['MSFT']</td>\n",
       "      <td>Neutral</td>\n",
       "    </tr>\n",
       "  </tbody>\n",
       "</table>\n",
       "</div>"
      ],
      "text/plain": [
       "                              date  \\\n",
       "0  Wed, 13 Jan 2021 14:14:40 -0500   \n",
       "1  Wed, 13 Jan 2021 13:53:55 -0500   \n",
       "2  Wed, 13 Jan 2021 07:00:00 -0500   \n",
       "3  Tue, 12 Jan 2021 18:48:15 -0500   \n",
       "4  Tue, 12 Jan 2021 16:05:00 -0500   \n",
       "\n",
       "                                                text            tickers  \\\n",
       "0  We cannot state the slowdown in Microsoft's gr...           ['MSFT']   \n",
       "1  Microsoft is still worth significantly more ba...           ['MSFT']   \n",
       "2  EDMONTON, AB / ACCESSWIRE / January 13, 2021 /...  ['MSFT', 'OSSIF']   \n",
       "3  In the latest trading session, Microsoft (MSFT...           ['MSFT']   \n",
       "4  REDMOND, Wash., Jan. 12, 2021 /PRNewswire/ -- ...           ['MSFT']   \n",
       "\n",
       "  sentiment  \n",
       "0  Positive  \n",
       "1  Positive  \n",
       "2   Neutral  \n",
       "3  Negative  \n",
       "4   Neutral  "
      ]
     },
     "execution_count": 50,
     "metadata": {},
     "output_type": "execute_result"
    }
   ],
   "source": [
    "new_df = df2[['date', 'text', 'tickers', 'sentiment']]\n",
    "new_df.head()"
   ]
  },
  {
   "cell_type": "code",
   "execution_count": 51,
   "metadata": {},
   "outputs": [
    {
     "name": "stderr",
     "output_type": "stream",
     "text": [
      "C:\\Satheesh\\Anaconda\\envs\\pyvizenv\\lib\\site-packages\\ipykernel_launcher.py:1: SettingWithCopyWarning: \n",
      "A value is trying to be set on a copy of a slice from a DataFrame.\n",
      "Try using .loc[row_indexer,col_indexer] = value instead\n",
      "\n",
      "See the caveats in the documentation: http://pandas.pydata.org/pandas-docs/stable/indexing.html#indexing-view-versus-copy\n",
      "  \"\"\"Entry point for launching an IPython kernel.\n",
      "C:\\Satheesh\\Anaconda\\envs\\pyvizenv\\lib\\site-packages\\ipykernel_launcher.py:2: SettingWithCopyWarning: \n",
      "A value is trying to be set on a copy of a slice from a DataFrame.\n",
      "Try using .loc[row_indexer,col_indexer] = value instead\n",
      "\n",
      "See the caveats in the documentation: http://pandas.pydata.org/pandas-docs/stable/indexing.html#indexing-view-versus-copy\n",
      "  \n"
     ]
    },
    {
     "data": {
      "text/html": [
       "<div>\n",
       "<style scoped>\n",
       "    .dataframe tbody tr th:only-of-type {\n",
       "        vertical-align: middle;\n",
       "    }\n",
       "\n",
       "    .dataframe tbody tr th {\n",
       "        vertical-align: top;\n",
       "    }\n",
       "\n",
       "    .dataframe thead th {\n",
       "        text-align: right;\n",
       "    }\n",
       "</style>\n",
       "<table border=\"1\" class=\"dataframe\">\n",
       "  <thead>\n",
       "    <tr style=\"text-align: right;\">\n",
       "      <th></th>\n",
       "      <th>date</th>\n",
       "      <th>text</th>\n",
       "      <th>tickers</th>\n",
       "      <th>sentiment</th>\n",
       "    </tr>\n",
       "  </thead>\n",
       "  <tbody>\n",
       "    <tr>\n",
       "      <th>0</th>\n",
       "      <td>2021-01-13</td>\n",
       "      <td>We cannot state the slowdown in Microsoft's gr...</td>\n",
       "      <td>['MSFT']</td>\n",
       "      <td>Positive</td>\n",
       "    </tr>\n",
       "    <tr>\n",
       "      <th>1</th>\n",
       "      <td>2021-01-13</td>\n",
       "      <td>Microsoft is still worth significantly more ba...</td>\n",
       "      <td>['MSFT']</td>\n",
       "      <td>Positive</td>\n",
       "    </tr>\n",
       "    <tr>\n",
       "      <th>2</th>\n",
       "      <td>2021-01-13</td>\n",
       "      <td>EDMONTON, AB / ACCESSWIRE / January 13, 2021 /...</td>\n",
       "      <td>['MSFT', 'OSSIF']</td>\n",
       "      <td>Neutral</td>\n",
       "    </tr>\n",
       "    <tr>\n",
       "      <th>3</th>\n",
       "      <td>2021-01-12</td>\n",
       "      <td>In the latest trading session, Microsoft (MSFT...</td>\n",
       "      <td>['MSFT']</td>\n",
       "      <td>Negative</td>\n",
       "    </tr>\n",
       "    <tr>\n",
       "      <th>4</th>\n",
       "      <td>2021-01-12</td>\n",
       "      <td>REDMOND, Wash., Jan. 12, 2021 /PRNewswire/ -- ...</td>\n",
       "      <td>['MSFT']</td>\n",
       "      <td>Neutral</td>\n",
       "    </tr>\n",
       "  </tbody>\n",
       "</table>\n",
       "</div>"
      ],
      "text/plain": [
       "         date                                               text  \\\n",
       "0  2021-01-13  We cannot state the slowdown in Microsoft's gr...   \n",
       "1  2021-01-13  Microsoft is still worth significantly more ba...   \n",
       "2  2021-01-13  EDMONTON, AB / ACCESSWIRE / January 13, 2021 /...   \n",
       "3  2021-01-12  In the latest trading session, Microsoft (MSFT...   \n",
       "4  2021-01-12  REDMOND, Wash., Jan. 12, 2021 /PRNewswire/ -- ...   \n",
       "\n",
       "             tickers sentiment  \n",
       "0           ['MSFT']  Positive  \n",
       "1           ['MSFT']  Positive  \n",
       "2  ['MSFT', 'OSSIF']   Neutral  \n",
       "3           ['MSFT']  Negative  \n",
       "4           ['MSFT']   Neutral  "
      ]
     },
     "execution_count": 51,
     "metadata": {},
     "output_type": "execute_result"
    }
   ],
   "source": [
    "new_df['date']= new_df['date'].astype(str)\n",
    "new_df['date']= pd.to_datetime(new_df['date'], utc= True).dt.date\n",
    "new_df.head()"
   ]
  },
  {
   "cell_type": "code",
   "execution_count": 52,
   "metadata": {},
   "outputs": [
    {
     "data": {
      "text/html": [
       "<div>\n",
       "<style scoped>\n",
       "    .dataframe tbody tr th:only-of-type {\n",
       "        vertical-align: middle;\n",
       "    }\n",
       "\n",
       "    .dataframe tbody tr th {\n",
       "        vertical-align: top;\n",
       "    }\n",
       "\n",
       "    .dataframe thead th {\n",
       "        text-align: right;\n",
       "    }\n",
       "</style>\n",
       "<table border=\"1\" class=\"dataframe\">\n",
       "  <thead>\n",
       "    <tr style=\"text-align: right;\">\n",
       "      <th></th>\n",
       "      <th>text</th>\n",
       "      <th>tickers</th>\n",
       "      <th>sentiment</th>\n",
       "    </tr>\n",
       "    <tr>\n",
       "      <th>date</th>\n",
       "      <th></th>\n",
       "      <th></th>\n",
       "      <th></th>\n",
       "    </tr>\n",
       "  </thead>\n",
       "  <tbody>\n",
       "    <tr>\n",
       "      <th>2021-01-13</th>\n",
       "      <td>We cannot state the slowdown in Microsoft's gr...</td>\n",
       "      <td>['MSFT']</td>\n",
       "      <td>Positive</td>\n",
       "    </tr>\n",
       "    <tr>\n",
       "      <th>2021-01-13</th>\n",
       "      <td>Microsoft is still worth significantly more ba...</td>\n",
       "      <td>['MSFT']</td>\n",
       "      <td>Positive</td>\n",
       "    </tr>\n",
       "    <tr>\n",
       "      <th>2021-01-13</th>\n",
       "      <td>EDMONTON, AB / ACCESSWIRE / January 13, 2021 /...</td>\n",
       "      <td>['MSFT', 'OSSIF']</td>\n",
       "      <td>Neutral</td>\n",
       "    </tr>\n",
       "    <tr>\n",
       "      <th>2021-01-12</th>\n",
       "      <td>In the latest trading session, Microsoft (MSFT...</td>\n",
       "      <td>['MSFT']</td>\n",
       "      <td>Negative</td>\n",
       "    </tr>\n",
       "    <tr>\n",
       "      <th>2021-01-12</th>\n",
       "      <td>REDMOND, Wash., Jan. 12, 2021 /PRNewswire/ -- ...</td>\n",
       "      <td>['MSFT']</td>\n",
       "      <td>Neutral</td>\n",
       "    </tr>\n",
       "  </tbody>\n",
       "</table>\n",
       "</div>"
      ],
      "text/plain": [
       "                                                         text  \\\n",
       "date                                                            \n",
       "2021-01-13  We cannot state the slowdown in Microsoft's gr...   \n",
       "2021-01-13  Microsoft is still worth significantly more ba...   \n",
       "2021-01-13  EDMONTON, AB / ACCESSWIRE / January 13, 2021 /...   \n",
       "2021-01-12  In the latest trading session, Microsoft (MSFT...   \n",
       "2021-01-12  REDMOND, Wash., Jan. 12, 2021 /PRNewswire/ -- ...   \n",
       "\n",
       "                      tickers sentiment  \n",
       "date                                     \n",
       "2021-01-13           ['MSFT']  Positive  \n",
       "2021-01-13           ['MSFT']  Positive  \n",
       "2021-01-13  ['MSFT', 'OSSIF']   Neutral  \n",
       "2021-01-12           ['MSFT']  Negative  \n",
       "2021-01-12           ['MSFT']   Neutral  "
      ]
     },
     "execution_count": 52,
     "metadata": {},
     "output_type": "execute_result"
    }
   ],
   "source": [
    "new_df.set_index('date', inplace= True)\n",
    "new_df.head()"
   ]
  },
  {
   "cell_type": "code",
   "execution_count": 53,
   "metadata": {},
   "outputs": [],
   "source": [
    "# new_df.index.rename('Date', inplace= True)\n",
    "# new_df.head()"
   ]
  },
  {
   "cell_type": "code",
   "execution_count": 54,
   "metadata": {},
   "outputs": [
    {
     "data": {
      "text/html": [
       "<div>\n",
       "<style scoped>\n",
       "    .dataframe tbody tr th:only-of-type {\n",
       "        vertical-align: middle;\n",
       "    }\n",
       "\n",
       "    .dataframe tbody tr th {\n",
       "        vertical-align: top;\n",
       "    }\n",
       "\n",
       "    .dataframe thead th {\n",
       "        text-align: right;\n",
       "    }\n",
       "</style>\n",
       "<table border=\"1\" class=\"dataframe\">\n",
       "  <thead>\n",
       "    <tr style=\"text-align: right;\">\n",
       "      <th></th>\n",
       "      <th>text</th>\n",
       "      <th>tickers</th>\n",
       "      <th>sentiment</th>\n",
       "      <th>pct_change</th>\n",
       "    </tr>\n",
       "  </thead>\n",
       "  <tbody>\n",
       "    <tr>\n",
       "      <th>2021-01-13</th>\n",
       "      <td>EDMONTON, AB / ACCESSWIRE / January 13, 2021 /...</td>\n",
       "      <td>['MSFT', 'OSSIF']</td>\n",
       "      <td>Neutral</td>\n",
       "      <td>1.169098</td>\n",
       "    </tr>\n",
       "    <tr>\n",
       "      <th>2021-01-13</th>\n",
       "      <td>Microsoft is still worth significantly more ba...</td>\n",
       "      <td>['MSFT']</td>\n",
       "      <td>Positive</td>\n",
       "      <td>1.169098</td>\n",
       "    </tr>\n",
       "    <tr>\n",
       "      <th>2021-01-13</th>\n",
       "      <td>We cannot state the slowdown in Microsoft's gr...</td>\n",
       "      <td>['MSFT']</td>\n",
       "      <td>Positive</td>\n",
       "      <td>1.169098</td>\n",
       "    </tr>\n",
       "    <tr>\n",
       "      <th>2021-01-12</th>\n",
       "      <td>Data indicates The Dogs of the Dow outperform ...</td>\n",
       "      <td>['AMGN', 'CSCO', 'CVX', 'DOW', 'IBM', 'KO', 'M...</td>\n",
       "      <td>Neutral</td>\n",
       "      <td>-0.651752</td>\n",
       "    </tr>\n",
       "    <tr>\n",
       "      <th>2021-01-12</th>\n",
       "      <td>Microsoft (MSFT) has released its new Surface ...</td>\n",
       "      <td>['MSFT']</td>\n",
       "      <td>Positive</td>\n",
       "      <td>-0.651752</td>\n",
       "    </tr>\n",
       "  </tbody>\n",
       "</table>\n",
       "</div>"
      ],
      "text/plain": [
       "                                                         text  \\\n",
       "2021-01-13  EDMONTON, AB / ACCESSWIRE / January 13, 2021 /...   \n",
       "2021-01-13  Microsoft is still worth significantly more ba...   \n",
       "2021-01-13  We cannot state the slowdown in Microsoft's gr...   \n",
       "2021-01-12  Data indicates The Dogs of the Dow outperform ...   \n",
       "2021-01-12  Microsoft (MSFT) has released its new Surface ...   \n",
       "\n",
       "                                                      tickers sentiment  \\\n",
       "2021-01-13                                  ['MSFT', 'OSSIF']   Neutral   \n",
       "2021-01-13                                           ['MSFT']  Positive   \n",
       "2021-01-13                                           ['MSFT']  Positive   \n",
       "2021-01-12  ['AMGN', 'CSCO', 'CVX', 'DOW', 'IBM', 'KO', 'M...   Neutral   \n",
       "2021-01-12                                           ['MSFT']  Positive   \n",
       "\n",
       "            pct_change  \n",
       "2021-01-13    1.169098  \n",
       "2021-01-13    1.169098  \n",
       "2021-01-13    1.169098  \n",
       "2021-01-12   -0.651752  \n",
       "2021-01-12   -0.651752  "
      ]
     },
     "execution_count": 54,
     "metadata": {},
     "output_type": "execute_result"
    }
   ],
   "source": [
    "# Merge the pct change with the above df\n",
    "text_sentiment_returns= pd.merge(new_df, returns_df, left_index= True, right_index= True)\n",
    "text_sentiment_returns.sort_index(ascending= False, inplace= True)\n",
    "text_sentiment_returns.head()"
   ]
  },
  {
   "cell_type": "code",
   "execution_count": 55,
   "metadata": {},
   "outputs": [
    {
     "data": {
      "text/html": [
       "<div>\n",
       "<style scoped>\n",
       "    .dataframe tbody tr th:only-of-type {\n",
       "        vertical-align: middle;\n",
       "    }\n",
       "\n",
       "    .dataframe tbody tr th {\n",
       "        vertical-align: top;\n",
       "    }\n",
       "\n",
       "    .dataframe thead th {\n",
       "        text-align: right;\n",
       "    }\n",
       "</style>\n",
       "<table border=\"1\" class=\"dataframe\">\n",
       "  <thead>\n",
       "    <tr style=\"text-align: right;\">\n",
       "      <th></th>\n",
       "      <th>index</th>\n",
       "      <th>text</th>\n",
       "      <th>tickers</th>\n",
       "      <th>sentiment</th>\n",
       "      <th>pct_change</th>\n",
       "    </tr>\n",
       "  </thead>\n",
       "  <tbody>\n",
       "    <tr>\n",
       "      <th>0</th>\n",
       "      <td>2021-01-13</td>\n",
       "      <td>EDMONTON, AB / ACCESSWIRE / January 13, 2021 /...</td>\n",
       "      <td>['MSFT', 'OSSIF']</td>\n",
       "      <td>Neutral</td>\n",
       "      <td>1.169098</td>\n",
       "    </tr>\n",
       "    <tr>\n",
       "      <th>1</th>\n",
       "      <td>2021-01-13</td>\n",
       "      <td>Microsoft is still worth significantly more ba...</td>\n",
       "      <td>['MSFT']</td>\n",
       "      <td>Positive</td>\n",
       "      <td>1.169098</td>\n",
       "    </tr>\n",
       "    <tr>\n",
       "      <th>2</th>\n",
       "      <td>2021-01-13</td>\n",
       "      <td>We cannot state the slowdown in Microsoft's gr...</td>\n",
       "      <td>['MSFT']</td>\n",
       "      <td>Positive</td>\n",
       "      <td>1.169098</td>\n",
       "    </tr>\n",
       "    <tr>\n",
       "      <th>3</th>\n",
       "      <td>2021-01-12</td>\n",
       "      <td>Data indicates The Dogs of the Dow outperform ...</td>\n",
       "      <td>['AMGN', 'CSCO', 'CVX', 'DOW', 'IBM', 'KO', 'M...</td>\n",
       "      <td>Neutral</td>\n",
       "      <td>-0.651752</td>\n",
       "    </tr>\n",
       "    <tr>\n",
       "      <th>4</th>\n",
       "      <td>2021-01-12</td>\n",
       "      <td>Microsoft (MSFT) has released its new Surface ...</td>\n",
       "      <td>['MSFT']</td>\n",
       "      <td>Positive</td>\n",
       "      <td>-0.651752</td>\n",
       "    </tr>\n",
       "  </tbody>\n",
       "</table>\n",
       "</div>"
      ],
      "text/plain": [
       "       index                                               text  \\\n",
       "0 2021-01-13  EDMONTON, AB / ACCESSWIRE / January 13, 2021 /...   \n",
       "1 2021-01-13  Microsoft is still worth significantly more ba...   \n",
       "2 2021-01-13  We cannot state the slowdown in Microsoft's gr...   \n",
       "3 2021-01-12  Data indicates The Dogs of the Dow outperform ...   \n",
       "4 2021-01-12  Microsoft (MSFT) has released its new Surface ...   \n",
       "\n",
       "                                             tickers sentiment  pct_change  \n",
       "0                                  ['MSFT', 'OSSIF']   Neutral    1.169098  \n",
       "1                                           ['MSFT']  Positive    1.169098  \n",
       "2                                           ['MSFT']  Positive    1.169098  \n",
       "3  ['AMGN', 'CSCO', 'CVX', 'DOW', 'IBM', 'KO', 'M...   Neutral   -0.651752  \n",
       "4                                           ['MSFT']  Positive   -0.651752  "
      ]
     },
     "execution_count": 55,
     "metadata": {},
     "output_type": "execute_result"
    }
   ],
   "source": [
    "text_sentiment_returns.reset_index(inplace= True)\n",
    "text_sentiment_returns.head()"
   ]
  },
  {
   "cell_type": "markdown",
   "metadata": {},
   "source": [
    "### Create the sentiment scores DF"
   ]
  },
  {
   "cell_type": "code",
   "execution_count": 56,
   "metadata": {},
   "outputs": [
    {
     "data": {
      "text/html": [
       "<div>\n",
       "<style scoped>\n",
       "    .dataframe tbody tr th:only-of-type {\n",
       "        vertical-align: middle;\n",
       "    }\n",
       "\n",
       "    .dataframe tbody tr th {\n",
       "        vertical-align: top;\n",
       "    }\n",
       "\n",
       "    .dataframe thead th {\n",
       "        text-align: right;\n",
       "    }\n",
       "</style>\n",
       "<table border=\"1\" class=\"dataframe\">\n",
       "  <thead>\n",
       "    <tr style=\"text-align: right;\">\n",
       "      <th></th>\n",
       "      <th>compound</th>\n",
       "    </tr>\n",
       "  </thead>\n",
       "  <tbody>\n",
       "    <tr>\n",
       "      <th>0</th>\n",
       "      <td>0.9325</td>\n",
       "    </tr>\n",
       "    <tr>\n",
       "      <th>1</th>\n",
       "      <td>0.8360</td>\n",
       "    </tr>\n",
       "    <tr>\n",
       "      <th>2</th>\n",
       "      <td>0.1027</td>\n",
       "    </tr>\n",
       "    <tr>\n",
       "      <th>3</th>\n",
       "      <td>0.6908</td>\n",
       "    </tr>\n",
       "    <tr>\n",
       "      <th>4</th>\n",
       "      <td>0.0000</td>\n",
       "    </tr>\n",
       "  </tbody>\n",
       "</table>\n",
       "</div>"
      ],
      "text/plain": [
       "   compound\n",
       "0    0.9325\n",
       "1    0.8360\n",
       "2    0.1027\n",
       "3    0.6908\n",
       "4    0.0000"
      ]
     },
     "execution_count": 56,
     "metadata": {},
     "output_type": "execute_result"
    }
   ],
   "source": [
    "polarity= []\n",
    "\n",
    "for content in text_sentiment_returns['text']:\n",
    "    try:\n",
    "        # Calculate the polarity score\n",
    "        sentiment= analyzer.polarity_scores(content)\n",
    "        compound= sentiment['compound']\n",
    "#         positive= sentiment['pos']\n",
    "#         negative= sentiment['neg']\n",
    "#         neutral= sentiment['neu']\n",
    "        \n",
    "        polarity.append({\n",
    "            \"compound\": compound,\n",
    "#             \"positive\": positive,\n",
    "#             \"negative\": negative,\n",
    "#             \"neutral\": neutral\n",
    "        })\n",
    "        \n",
    "    except AttributeError:\n",
    "        pass\n",
    "    \n",
    "# Create dataframe\n",
    "polarity_df= pd.DataFrame(polarity)\n",
    "polarity_df.head()"
   ]
  },
  {
   "cell_type": "code",
   "execution_count": 57,
   "metadata": {},
   "outputs": [
    {
     "data": {
      "text/html": [
       "<div>\n",
       "<style scoped>\n",
       "    .dataframe tbody tr th:only-of-type {\n",
       "        vertical-align: middle;\n",
       "    }\n",
       "\n",
       "    .dataframe tbody tr th {\n",
       "        vertical-align: top;\n",
       "    }\n",
       "\n",
       "    .dataframe thead th {\n",
       "        text-align: right;\n",
       "    }\n",
       "</style>\n",
       "<table border=\"1\" class=\"dataframe\">\n",
       "  <thead>\n",
       "    <tr style=\"text-align: right;\">\n",
       "      <th></th>\n",
       "      <th>index</th>\n",
       "      <th>text</th>\n",
       "      <th>tickers</th>\n",
       "      <th>sentiment</th>\n",
       "      <th>pct_change</th>\n",
       "      <th>compound</th>\n",
       "    </tr>\n",
       "  </thead>\n",
       "  <tbody>\n",
       "    <tr>\n",
       "      <th>0</th>\n",
       "      <td>2021-01-13</td>\n",
       "      <td>EDMONTON, AB / ACCESSWIRE / January 13, 2021 /...</td>\n",
       "      <td>['MSFT', 'OSSIF']</td>\n",
       "      <td>Neutral</td>\n",
       "      <td>1.169098</td>\n",
       "      <td>0.9325</td>\n",
       "    </tr>\n",
       "    <tr>\n",
       "      <th>1</th>\n",
       "      <td>2021-01-13</td>\n",
       "      <td>Microsoft is still worth significantly more ba...</td>\n",
       "      <td>['MSFT']</td>\n",
       "      <td>Positive</td>\n",
       "      <td>1.169098</td>\n",
       "      <td>0.8360</td>\n",
       "    </tr>\n",
       "    <tr>\n",
       "      <th>2</th>\n",
       "      <td>2021-01-13</td>\n",
       "      <td>We cannot state the slowdown in Microsoft's gr...</td>\n",
       "      <td>['MSFT']</td>\n",
       "      <td>Positive</td>\n",
       "      <td>1.169098</td>\n",
       "      <td>0.1027</td>\n",
       "    </tr>\n",
       "    <tr>\n",
       "      <th>3</th>\n",
       "      <td>2021-01-12</td>\n",
       "      <td>Data indicates The Dogs of the Dow outperform ...</td>\n",
       "      <td>['AMGN', 'CSCO', 'CVX', 'DOW', 'IBM', 'KO', 'M...</td>\n",
       "      <td>Neutral</td>\n",
       "      <td>-0.651752</td>\n",
       "      <td>0.6908</td>\n",
       "    </tr>\n",
       "    <tr>\n",
       "      <th>4</th>\n",
       "      <td>2021-01-12</td>\n",
       "      <td>Microsoft (MSFT) has released its new Surface ...</td>\n",
       "      <td>['MSFT']</td>\n",
       "      <td>Positive</td>\n",
       "      <td>-0.651752</td>\n",
       "      <td>0.0000</td>\n",
       "    </tr>\n",
       "  </tbody>\n",
       "</table>\n",
       "</div>"
      ],
      "text/plain": [
       "       index                                               text  \\\n",
       "0 2021-01-13  EDMONTON, AB / ACCESSWIRE / January 13, 2021 /...   \n",
       "1 2021-01-13  Microsoft is still worth significantly more ba...   \n",
       "2 2021-01-13  We cannot state the slowdown in Microsoft's gr...   \n",
       "3 2021-01-12  Data indicates The Dogs of the Dow outperform ...   \n",
       "4 2021-01-12  Microsoft (MSFT) has released its new Surface ...   \n",
       "\n",
       "                                             tickers sentiment  pct_change  \\\n",
       "0                                  ['MSFT', 'OSSIF']   Neutral    1.169098   \n",
       "1                                           ['MSFT']  Positive    1.169098   \n",
       "2                                           ['MSFT']  Positive    1.169098   \n",
       "3  ['AMGN', 'CSCO', 'CVX', 'DOW', 'IBM', 'KO', 'M...   Neutral   -0.651752   \n",
       "4                                           ['MSFT']  Positive   -0.651752   \n",
       "\n",
       "   compound  \n",
       "0    0.9325  \n",
       "1    0.8360  \n",
       "2    0.1027  \n",
       "3    0.6908  \n",
       "4    0.0000  "
      ]
     },
     "execution_count": 57,
     "metadata": {},
     "output_type": "execute_result"
    }
   ],
   "source": [
    "text_sentiment_returns_polarity= pd.concat([text_sentiment_returns, polarity_df], axis= 1)\n",
    "text_sentiment_returns_polarity.head()"
   ]
  },
  {
   "cell_type": "code",
   "execution_count": 58,
   "metadata": {},
   "outputs": [
    {
     "data": {
      "text/html": [
       "<div>\n",
       "<style scoped>\n",
       "    .dataframe tbody tr th:only-of-type {\n",
       "        vertical-align: middle;\n",
       "    }\n",
       "\n",
       "    .dataframe tbody tr th {\n",
       "        vertical-align: top;\n",
       "    }\n",
       "\n",
       "    .dataframe thead th {\n",
       "        text-align: right;\n",
       "    }\n",
       "</style>\n",
       "<table border=\"1\" class=\"dataframe\">\n",
       "  <thead>\n",
       "    <tr style=\"text-align: right;\">\n",
       "      <th></th>\n",
       "      <th>text</th>\n",
       "      <th>tickers</th>\n",
       "      <th>sentiment</th>\n",
       "      <th>pct_change</th>\n",
       "      <th>compound</th>\n",
       "    </tr>\n",
       "    <tr>\n",
       "      <th>index</th>\n",
       "      <th></th>\n",
       "      <th></th>\n",
       "      <th></th>\n",
       "      <th></th>\n",
       "      <th></th>\n",
       "    </tr>\n",
       "  </thead>\n",
       "  <tbody>\n",
       "    <tr>\n",
       "      <th>2021-01-13</th>\n",
       "      <td>EDMONTON, AB / ACCESSWIRE / January 13, 2021 /...</td>\n",
       "      <td>['MSFT', 'OSSIF']</td>\n",
       "      <td>Neutral</td>\n",
       "      <td>1.169098</td>\n",
       "      <td>0.9325</td>\n",
       "    </tr>\n",
       "    <tr>\n",
       "      <th>2021-01-13</th>\n",
       "      <td>Microsoft is still worth significantly more ba...</td>\n",
       "      <td>['MSFT']</td>\n",
       "      <td>Positive</td>\n",
       "      <td>1.169098</td>\n",
       "      <td>0.8360</td>\n",
       "    </tr>\n",
       "    <tr>\n",
       "      <th>2021-01-13</th>\n",
       "      <td>We cannot state the slowdown in Microsoft's gr...</td>\n",
       "      <td>['MSFT']</td>\n",
       "      <td>Positive</td>\n",
       "      <td>1.169098</td>\n",
       "      <td>0.1027</td>\n",
       "    </tr>\n",
       "    <tr>\n",
       "      <th>2021-01-12</th>\n",
       "      <td>Data indicates The Dogs of the Dow outperform ...</td>\n",
       "      <td>['AMGN', 'CSCO', 'CVX', 'DOW', 'IBM', 'KO', 'M...</td>\n",
       "      <td>Neutral</td>\n",
       "      <td>-0.651752</td>\n",
       "      <td>0.6908</td>\n",
       "    </tr>\n",
       "    <tr>\n",
       "      <th>2021-01-12</th>\n",
       "      <td>Microsoft (MSFT) has released its new Surface ...</td>\n",
       "      <td>['MSFT']</td>\n",
       "      <td>Positive</td>\n",
       "      <td>-0.651752</td>\n",
       "      <td>0.0000</td>\n",
       "    </tr>\n",
       "  </tbody>\n",
       "</table>\n",
       "</div>"
      ],
      "text/plain": [
       "                                                         text  \\\n",
       "index                                                           \n",
       "2021-01-13  EDMONTON, AB / ACCESSWIRE / January 13, 2021 /...   \n",
       "2021-01-13  Microsoft is still worth significantly more ba...   \n",
       "2021-01-13  We cannot state the slowdown in Microsoft's gr...   \n",
       "2021-01-12  Data indicates The Dogs of the Dow outperform ...   \n",
       "2021-01-12  Microsoft (MSFT) has released its new Surface ...   \n",
       "\n",
       "                                                      tickers sentiment  \\\n",
       "index                                                                     \n",
       "2021-01-13                                  ['MSFT', 'OSSIF']   Neutral   \n",
       "2021-01-13                                           ['MSFT']  Positive   \n",
       "2021-01-13                                           ['MSFT']  Positive   \n",
       "2021-01-12  ['AMGN', 'CSCO', 'CVX', 'DOW', 'IBM', 'KO', 'M...   Neutral   \n",
       "2021-01-12                                           ['MSFT']  Positive   \n",
       "\n",
       "            pct_change  compound  \n",
       "index                             \n",
       "2021-01-13    1.169098    0.9325  \n",
       "2021-01-13    1.169098    0.8360  \n",
       "2021-01-13    1.169098    0.1027  \n",
       "2021-01-12   -0.651752    0.6908  \n",
       "2021-01-12   -0.651752    0.0000  "
      ]
     },
     "execution_count": 58,
     "metadata": {},
     "output_type": "execute_result"
    }
   ],
   "source": [
    "text_sentiment_returns_polarity.set_index('index', inplace= True)\n",
    "text_sentiment_returns_polarity.head()"
   ]
  },
  {
   "cell_type": "code",
   "execution_count": 193,
   "metadata": {},
   "outputs": [
    {
     "data": {
      "text/html": [
       "<div>\n",
       "<style scoped>\n",
       "    .dataframe tbody tr th:only-of-type {\n",
       "        vertical-align: middle;\n",
       "    }\n",
       "\n",
       "    .dataframe tbody tr th {\n",
       "        vertical-align: top;\n",
       "    }\n",
       "\n",
       "    .dataframe thead th {\n",
       "        text-align: right;\n",
       "    }\n",
       "</style>\n",
       "<table border=\"1\" class=\"dataframe\">\n",
       "  <thead>\n",
       "    <tr style=\"text-align: right;\">\n",
       "      <th></th>\n",
       "      <th>pct_change</th>\n",
       "      <th>compound</th>\n",
       "      <th>normalized</th>\n",
       "    </tr>\n",
       "    <tr>\n",
       "      <th>index</th>\n",
       "      <th></th>\n",
       "      <th></th>\n",
       "      <th></th>\n",
       "    </tr>\n",
       "  </thead>\n",
       "  <tbody>\n",
       "    <tr>\n",
       "      <th>2021-01-13</th>\n",
       "      <td>1.169098</td>\n",
       "      <td>0.623733</td>\n",
       "      <td>1.000000</td>\n",
       "    </tr>\n",
       "    <tr>\n",
       "      <th>2021-01-12</th>\n",
       "      <td>-0.651752</td>\n",
       "      <td>0.138160</td>\n",
       "      <td>0.200000</td>\n",
       "    </tr>\n",
       "    <tr>\n",
       "      <th>2021-01-11</th>\n",
       "      <td>1.191085</td>\n",
       "      <td>0.346482</td>\n",
       "      <td>0.636364</td>\n",
       "    </tr>\n",
       "    <tr>\n",
       "      <th>2021-01-08</th>\n",
       "      <td>0.979355</td>\n",
       "      <td>-0.128000</td>\n",
       "      <td>0.000000</td>\n",
       "    </tr>\n",
       "    <tr>\n",
       "      <th>2021-01-07</th>\n",
       "      <td>-0.605591</td>\n",
       "      <td>0.386833</td>\n",
       "      <td>0.666667</td>\n",
       "    </tr>\n",
       "  </tbody>\n",
       "</table>\n",
       "</div>"
      ],
      "text/plain": [
       "            pct_change  compound  normalized\n",
       "index                                       \n",
       "2021-01-13    1.169098  0.623733    1.000000\n",
       "2021-01-12   -0.651752  0.138160    0.200000\n",
       "2021-01-11    1.191085  0.346482    0.636364\n",
       "2021-01-08    0.979355 -0.128000    0.000000\n",
       "2021-01-07   -0.605591  0.386833    0.666667"
      ]
     },
     "execution_count": 193,
     "metadata": {},
     "output_type": "execute_result"
    }
   ],
   "source": [
    "# Grouping the sentiments by date and taking the average compound score\n",
    "avg_text_sentiment_returns_polarity= text_sentiment_returns_polarity.groupby('index').mean()\n",
    "avg_text_sentiment_returns_polarity.sort_index(ascending= False, inplace= True)\n",
    "avg_text_sentiment_returns_polarity.head()"
   ]
  },
  {
   "cell_type": "code",
   "execution_count": 196,
   "metadata": {},
   "outputs": [
    {
     "data": {
      "text/html": [
       "<div>\n",
       "<style scoped>\n",
       "    .dataframe tbody tr th:only-of-type {\n",
       "        vertical-align: middle;\n",
       "    }\n",
       "\n",
       "    .dataframe tbody tr th {\n",
       "        vertical-align: top;\n",
       "    }\n",
       "\n",
       "    .dataframe thead th {\n",
       "        text-align: right;\n",
       "    }\n",
       "</style>\n",
       "<table border=\"1\" class=\"dataframe\">\n",
       "  <thead>\n",
       "    <tr style=\"text-align: right;\">\n",
       "      <th></th>\n",
       "      <th>pct_change</th>\n",
       "      <th>compound</th>\n",
       "      <th>normalized</th>\n",
       "    </tr>\n",
       "    <tr>\n",
       "      <th>index</th>\n",
       "      <th></th>\n",
       "      <th></th>\n",
       "      <th></th>\n",
       "    </tr>\n",
       "  </thead>\n",
       "  <tbody>\n",
       "    <tr>\n",
       "      <th>2020-01-14</th>\n",
       "      <td>-0.643461</td>\n",
       "      <td>0.048860</td>\n",
       "      <td>0.500000</td>\n",
       "    </tr>\n",
       "    <tr>\n",
       "      <th>2020-01-15</th>\n",
       "      <td>-1.799362</td>\n",
       "      <td>0.242983</td>\n",
       "      <td>0.500000</td>\n",
       "    </tr>\n",
       "    <tr>\n",
       "      <th>2020-01-16</th>\n",
       "      <td>-0.556553</td>\n",
       "      <td>-0.004255</td>\n",
       "      <td>0.454545</td>\n",
       "    </tr>\n",
       "    <tr>\n",
       "      <th>2020-01-17</th>\n",
       "      <td>0.360360</td>\n",
       "      <td>0.163464</td>\n",
       "      <td>0.571429</td>\n",
       "    </tr>\n",
       "    <tr>\n",
       "      <th>2020-01-21</th>\n",
       "      <td>0.482800</td>\n",
       "      <td>0.357500</td>\n",
       "      <td>0.833333</td>\n",
       "    </tr>\n",
       "  </tbody>\n",
       "</table>\n",
       "</div>"
      ],
      "text/plain": [
       "            pct_change  compound  normalized\n",
       "index                                       \n",
       "2020-01-14   -0.643461  0.048860    0.500000\n",
       "2020-01-15   -1.799362  0.242983    0.500000\n",
       "2020-01-16   -0.556553 -0.004255    0.454545\n",
       "2020-01-17    0.360360  0.163464    0.571429\n",
       "2020-01-21    0.482800  0.357500    0.833333"
      ]
     },
     "execution_count": 196,
     "metadata": {},
     "output_type": "execute_result"
    }
   ],
   "source": [
    "avg_text_sentiment_returns_polarity_ascending= avg_text_sentiment_returns_polarity.sort_index()\n",
    "avg_text_sentiment_returns_polarity_ascending.head()"
   ]
  },
  {
   "cell_type": "markdown",
   "metadata": {},
   "source": [
    "## Tokenization, Lemmatization"
   ]
  },
  {
   "cell_type": "code",
   "execution_count": 59,
   "metadata": {},
   "outputs": [],
   "source": [
    "# Importing the Libraries and Functions\n",
    "from nltk.tokenize import word_tokenize, sent_tokenize\n",
    "from nltk.corpus import stopwords\n",
    "from nltk.stem import WordNetLemmatizer, PorterStemmer\n",
    "from string import punctuation\n",
    "import re"
   ]
  },
  {
   "cell_type": "code",
   "execution_count": 60,
   "metadata": {},
   "outputs": [],
   "source": [
    "# Instantiate the lemmatizer\n",
    "lemmatizer= WordNetLemmatizer()"
   ]
  },
  {
   "cell_type": "code",
   "execution_count": 61,
   "metadata": {},
   "outputs": [],
   "source": [
    "def tokenizer(text):\n",
    "    \"\"\"Tokenizes text.\"\"\"\n",
    "    \n",
    "    # Remove the stop words\n",
    "    stop_words= set (stopwords.words('english'))\n",
    "   \n",
    "    # Remove the punctuation and substitute\n",
    "    non_alpha= re.compile('[^a-zA-Z ]')\n",
    "    re_clean= non_alpha.sub('', str (text))\n",
    "    \n",
    "    # Tokenize the words\n",
    "    words= word_tokenize(re_clean)\n",
    "    \n",
    "    # Lemmatize Article words into root words\n",
    "    root_words= []\n",
    "    for values in words:\n",
    "        root_words.append(lemmatizer.lemmatize(values))\n",
    "        \n",
    "    # Remove stop words and Convert the words to lowercase\n",
    "    tokens= []\n",
    "    for all_words in root_words:\n",
    "        if all_words.lower() not in stop_words:\n",
    "            tokens.append(all_words.lower())\n",
    "    \n",
    "    return tokens"
   ]
  },
  {
   "cell_type": "code",
   "execution_count": 62,
   "metadata": {},
   "outputs": [
    {
     "data": {
      "text/html": [
       "<div>\n",
       "<style scoped>\n",
       "    .dataframe tbody tr th:only-of-type {\n",
       "        vertical-align: middle;\n",
       "    }\n",
       "\n",
       "    .dataframe tbody tr th {\n",
       "        vertical-align: top;\n",
       "    }\n",
       "\n",
       "    .dataframe thead th {\n",
       "        text-align: right;\n",
       "    }\n",
       "</style>\n",
       "<table border=\"1\" class=\"dataframe\">\n",
       "  <thead>\n",
       "    <tr style=\"text-align: right;\">\n",
       "      <th></th>\n",
       "      <th>text</th>\n",
       "      <th>tickers</th>\n",
       "      <th>sentiment</th>\n",
       "      <th>pct_change</th>\n",
       "      <th>compound</th>\n",
       "      <th>tokenized</th>\n",
       "    </tr>\n",
       "    <tr>\n",
       "      <th>index</th>\n",
       "      <th></th>\n",
       "      <th></th>\n",
       "      <th></th>\n",
       "      <th></th>\n",
       "      <th></th>\n",
       "      <th></th>\n",
       "    </tr>\n",
       "  </thead>\n",
       "  <tbody>\n",
       "    <tr>\n",
       "      <th>2021-01-13</th>\n",
       "      <td>EDMONTON, AB / ACCESSWIRE / January 13, 2021 /...</td>\n",
       "      <td>['MSFT', 'OSSIF']</td>\n",
       "      <td>Neutral</td>\n",
       "      <td>1.169098</td>\n",
       "      <td>0.9325</td>\n",
       "      <td>[edmonton, ab, accesswire, january, onesoft, s...</td>\n",
       "    </tr>\n",
       "    <tr>\n",
       "      <th>2021-01-13</th>\n",
       "      <td>Microsoft is still worth significantly more ba...</td>\n",
       "      <td>['MSFT']</td>\n",
       "      <td>Positive</td>\n",
       "      <td>1.169098</td>\n",
       "      <td>0.8360</td>\n",
       "      <td>[microsoft, still, worth, significantly, based...</td>\n",
       "    </tr>\n",
       "    <tr>\n",
       "      <th>2021-01-13</th>\n",
       "      <td>We cannot state the slowdown in Microsoft's gr...</td>\n",
       "      <td>['MSFT']</td>\n",
       "      <td>Positive</td>\n",
       "      <td>1.169098</td>\n",
       "      <td>0.1027</td>\n",
       "      <td>[state, slowdown, microsofts, growth, evaluati...</td>\n",
       "    </tr>\n",
       "    <tr>\n",
       "      <th>2021-01-12</th>\n",
       "      <td>Data indicates The Dogs of the Dow outperform ...</td>\n",
       "      <td>['AMGN', 'CSCO', 'CVX', 'DOW', 'IBM', 'KO', 'M...</td>\n",
       "      <td>Neutral</td>\n",
       "      <td>-0.651752</td>\n",
       "      <td>0.6908</td>\n",
       "      <td>[data, indicates, dogs, dow, outperform, long,...</td>\n",
       "    </tr>\n",
       "    <tr>\n",
       "      <th>2021-01-12</th>\n",
       "      <td>Microsoft (MSFT) has released its new Surface ...</td>\n",
       "      <td>['MSFT']</td>\n",
       "      <td>Positive</td>\n",
       "      <td>-0.651752</td>\n",
       "      <td>0.0000</td>\n",
       "      <td>[microsoft, msft, ha, released, new, surface, ...</td>\n",
       "    </tr>\n",
       "  </tbody>\n",
       "</table>\n",
       "</div>"
      ],
      "text/plain": [
       "                                                         text  \\\n",
       "index                                                           \n",
       "2021-01-13  EDMONTON, AB / ACCESSWIRE / January 13, 2021 /...   \n",
       "2021-01-13  Microsoft is still worth significantly more ba...   \n",
       "2021-01-13  We cannot state the slowdown in Microsoft's gr...   \n",
       "2021-01-12  Data indicates The Dogs of the Dow outperform ...   \n",
       "2021-01-12  Microsoft (MSFT) has released its new Surface ...   \n",
       "\n",
       "                                                      tickers sentiment  \\\n",
       "index                                                                     \n",
       "2021-01-13                                  ['MSFT', 'OSSIF']   Neutral   \n",
       "2021-01-13                                           ['MSFT']  Positive   \n",
       "2021-01-13                                           ['MSFT']  Positive   \n",
       "2021-01-12  ['AMGN', 'CSCO', 'CVX', 'DOW', 'IBM', 'KO', 'M...   Neutral   \n",
       "2021-01-12                                           ['MSFT']  Positive   \n",
       "\n",
       "            pct_change  compound  \\\n",
       "index                              \n",
       "2021-01-13    1.169098    0.9325   \n",
       "2021-01-13    1.169098    0.8360   \n",
       "2021-01-13    1.169098    0.1027   \n",
       "2021-01-12   -0.651752    0.6908   \n",
       "2021-01-12   -0.651752    0.0000   \n",
       "\n",
       "                                                    tokenized  \n",
       "index                                                          \n",
       "2021-01-13  [edmonton, ab, accesswire, january, onesoft, s...  \n",
       "2021-01-13  [microsoft, still, worth, significantly, based...  \n",
       "2021-01-13  [state, slowdown, microsofts, growth, evaluati...  \n",
       "2021-01-12  [data, indicates, dogs, dow, outperform, long,...  \n",
       "2021-01-12  [microsoft, msft, ha, released, new, surface, ...  "
      ]
     },
     "execution_count": 62,
     "metadata": {},
     "output_type": "execute_result"
    }
   ],
   "source": [
    "# Apply the tokenizer function to the news text column\n",
    "text_sentiment_returns_polarity['tokenized']= text_sentiment_returns_polarity['text'].apply(tokenizer)\n",
    "# text_sentiment_returns_polarity.set_index('index', inplace= True)\n",
    "text_sentiment_returns_polarity.head()"
   ]
  },
  {
   "cell_type": "markdown",
   "metadata": {},
   "source": [
    "## N-grams, WordCloud"
   ]
  },
  {
   "cell_type": "code",
   "execution_count": 63,
   "metadata": {},
   "outputs": [],
   "source": [
    "# Import the libraries and functions\n",
    "from wordcloud import WordCloud\n",
    "import matplotlib.pyplot as plt\n",
    "plt.style.use('seaborn-whitegrid')\n",
    "import matplotlib as mpl\n",
    "mpl.rcParams['figure.figsize'] = [15.0, 15.0]"
   ]
  },
  {
   "cell_type": "code",
   "execution_count": 64,
   "metadata": {},
   "outputs": [
    {
     "data": {
      "image/png": "[encoded data removed]",
      "text/plain": [
       "<Figure size 1080x1080 with 1 Axes>"
      ]
     },
     "metadata": {},
     "output_type": "display_data"
    }
   ],
   "source": [
    "# Generate the word cloud\n",
    "returns_big_text= ''.join (str (text_sentiment_returns_polarity[\"text\"]))\n",
    "\n",
    "returns_wc= WordCloud().generate(returns_big_text)\n",
    "\n",
    "plt.imshow(returns_wc)\n",
    "plt.axis(\"off\")\n",
    "plt.title('WordCloud', fontsize= 25)\n",
    "plt.show()"
   ]
  },
  {
   "cell_type": "markdown",
   "metadata": {},
   "source": [
    "## Part 2- Regression and Deep Learning prediction of returns"
   ]
  },
  {
   "cell_type": "markdown",
   "metadata": {},
   "source": [
    "## Linear Regression"
   ]
  },
  {
   "cell_type": "code",
   "execution_count": 132,
   "metadata": {},
   "outputs": [],
   "source": [
    "# Create a train/test split for the data\n",
    "train= avg_text_sentiment_returns_polarity['2020-10':'2020-01']\n",
    "test= avg_text_sentiment_returns_polarity['2021-01':'2020-11']"
   ]
  },
  {
   "cell_type": "code",
   "execution_count": 133,
   "metadata": {},
   "outputs": [],
   "source": [
    "# Create X_train, X_test, y_train, y_test\n",
    "X_train= train['compound'].to_frame()\n",
    "y_train= train['pct_change']\n",
    "\n",
    "X_test= test['compound'].to_frame()\n",
    "y_test= test['pct_change']"
   ]
  },
  {
   "cell_type": "code",
   "execution_count": 134,
   "metadata": {},
   "outputs": [
    {
     "data": {
      "text/plain": [
       "LinearRegression()"
      ]
     },
     "execution_count": 134,
     "metadata": {},
     "output_type": "execute_result"
    }
   ],
   "source": [
    "# Create a linear regression model and fit it to the training data\n",
    "from sklearn.linear_model import LinearRegression\n",
    "\n",
    "lr_model= LinearRegression()\n",
    "lr_model.fit (X_train, y_train)"
   ]
  },
  {
   "cell_type": "markdown",
   "metadata": {},
   "source": [
    "## Make predictions using the test data"
   ]
  },
  {
   "cell_type": "code",
   "execution_count": 135,
   "metadata": {},
   "outputs": [],
   "source": [
    "# Make a prediction of \"y\" values using just the test dataset\n",
    "lr_predictions= lr_model.predict(X_test)"
   ]
  },
  {
   "cell_type": "code",
   "execution_count": 136,
   "metadata": {},
   "outputs": [
    {
     "data": {
      "text/html": [
       "<div>\n",
       "<style scoped>\n",
       "    .dataframe tbody tr th:only-of-type {\n",
       "        vertical-align: middle;\n",
       "    }\n",
       "\n",
       "    .dataframe tbody tr th {\n",
       "        vertical-align: top;\n",
       "    }\n",
       "\n",
       "    .dataframe thead th {\n",
       "        text-align: right;\n",
       "    }\n",
       "</style>\n",
       "<table border=\"1\" class=\"dataframe\">\n",
       "  <thead>\n",
       "    <tr style=\"text-align: right;\">\n",
       "      <th></th>\n",
       "      <th>pct_change</th>\n",
       "      <th>predicted return</th>\n",
       "    </tr>\n",
       "    <tr>\n",
       "      <th>index</th>\n",
       "      <th></th>\n",
       "      <th></th>\n",
       "    </tr>\n",
       "  </thead>\n",
       "  <tbody>\n",
       "    <tr>\n",
       "      <th>2021-01-13</th>\n",
       "      <td>1.169098</td>\n",
       "      <td>0.393437</td>\n",
       "    </tr>\n",
       "    <tr>\n",
       "      <th>2021-01-12</th>\n",
       "      <td>-0.651752</td>\n",
       "      <td>-0.147832</td>\n",
       "    </tr>\n",
       "    <tr>\n",
       "      <th>2021-01-11</th>\n",
       "      <td>1.191085</td>\n",
       "      <td>0.084385</td>\n",
       "    </tr>\n",
       "    <tr>\n",
       "      <th>2021-01-08</th>\n",
       "      <td>0.979355</td>\n",
       "      <td>-0.444520</td>\n",
       "    </tr>\n",
       "    <tr>\n",
       "      <th>2021-01-07</th>\n",
       "      <td>-0.605591</td>\n",
       "      <td>0.129364</td>\n",
       "    </tr>\n",
       "  </tbody>\n",
       "</table>\n",
       "</div>"
      ],
      "text/plain": [
       "            pct_change  predicted return\n",
       "index                                   \n",
       "2021-01-13    1.169098          0.393437\n",
       "2021-01-12   -0.651752         -0.147832\n",
       "2021-01-11    1.191085          0.084385\n",
       "2021-01-08    0.979355         -0.444520\n",
       "2021-01-07   -0.605591          0.129364"
      ]
     },
     "execution_count": 136,
     "metadata": {},
     "output_type": "execute_result"
    }
   ],
   "source": [
    "# Assemble actual y data (Y_test) with predicted y data (from just above) into two columns in a DataFrame:\n",
    "results= y_test.to_frame()\n",
    "results['predicted return']= lr_predictions\n",
    "results.head()"
   ]
  },
  {
   "cell_type": "code",
   "execution_count": 137,
   "metadata": {},
   "outputs": [
    {
     "data": {
      "text/plain": [
       "array([<matplotlib.axes._subplots.AxesSubplot object at 0x00000218B9506848>,\n",
       "       <matplotlib.axes._subplots.AxesSubplot object at 0x00000218B94F6408>],\n",
       "      dtype=object)"
      ]
     },
     "execution_count": 137,
     "metadata": {},
     "output_type": "execute_result"
    },
    {
     "data": {
      "image/png": "[encoded data removed]",
      "text/plain": [
       "<Figure size 1080x1080 with 2 Axes>"
      ]
     },
     "metadata": {},
     "output_type": "display_data"
    }
   ],
   "source": [
    "results.plot(subplots= True)"
   ]
  },
  {
   "cell_type": "markdown",
   "metadata": {},
   "source": [
    "## Deep Learning"
   ]
  },
  {
   "cell_type": "code",
   "execution_count": 138,
   "metadata": {},
   "outputs": [],
   "source": [
    "import hvplot.pandas\n",
    "# Set the random seed for reproducibility\n",
    "from numpy.random import seed\n",
    "seed (1)\n",
    "from tensorflow import random\n",
    "random.set_seed(2)"
   ]
  },
  {
   "cell_type": "markdown",
   "metadata": {},
   "source": [
    "#### Define a function for features and target"
   ]
  },
  {
   "cell_type": "code",
   "execution_count": 72,
   "metadata": {},
   "outputs": [],
   "source": [
    "def window_data(df, window, feature_col_number, target_col_number):\n",
    "    \"\"\"\n",
    "    This function accepts the column number for the features (X) and the target (y).\n",
    "    It chunks the data up with a rolling window of Xt - window to predict Xt.\n",
    "    It returns two numpy arrays of X and y.\n",
    "    \"\"\"\n",
    "    X = []\n",
    "    y = []\n",
    "    \n",
    "    for rows in range(len(df) - window - 1):\n",
    "        features = df.iloc[rows:(rows + window), feature_col_number]\n",
    "        target = df.iloc[(rows + window), target_col_number]\n",
    "        \n",
    "        X.append(features)\n",
    "        y.append(target)\n",
    "    \n",
    "    return np.array(X), np.array(y).reshape(-1, 1)"
   ]
  },
  {
   "cell_type": "code",
   "execution_count": 197,
   "metadata": {},
   "outputs": [],
   "source": [
    "# Predict returns using a 10 day window of previous returns\n",
    "window = 1\n",
    "\n",
    "# The dataframe under consideration is text_sentiment_returns_polarity\n",
    "# Column 1- compund score is the feature column\n",
    "# Column 0- returns is the target column\n",
    "feature_col_number = 1\n",
    "target_col_number = 0\n",
    "\n",
    "X, y = window_data(avg_text_sentiment_returns_polarity_ascending, window, feature_col_number, target_col_number)"
   ]
  },
  {
   "cell_type": "code",
   "execution_count": 198,
   "metadata": {},
   "outputs": [
    {
     "name": "stdout",
     "output_type": "stream",
     "text": [
      "X sample values:\n",
      "[[ 0.04886   ]\n",
      " [ 0.24298333]\n",
      " [-0.00425455]\n",
      " [ 0.16346429]\n",
      " [ 0.3575    ]] \n",
      "\n",
      "y sample values:\n",
      "[[-1.7993621 ]\n",
      " [-0.55655296]\n",
      " [ 0.36036036]\n",
      " [ 0.48280024]\n",
      " [-0.61180422]] \n",
      "\n",
      "Length of X: 250\n"
     ]
    }
   ],
   "source": [
    "print (f\"X sample values:\\n{X[:5]} \\n\")\n",
    "print (f\"y sample values:\\n{y[:5]} \\n\")\n",
    "print (f\"Length of X: {len (X)}\")"
   ]
  },
  {
   "cell_type": "markdown",
   "metadata": {},
   "source": [
    "#### Split the data into training and testing"
   ]
  },
  {
   "cell_type": "code",
   "execution_count": 199,
   "metadata": {},
   "outputs": [],
   "source": [
    "# Use 70% of the data for training and the remainder for testing\n",
    "split= int (0.7* len(X))\n",
    "\n",
    "X_train= X[: split]\n",
    "X_test= X[split: ]\n",
    "\n",
    "y_train= y[: split]\n",
    "y_test= y[split: ]"
   ]
  },
  {
   "cell_type": "code",
   "execution_count": 200,
   "metadata": {},
   "outputs": [],
   "source": [
    "from sklearn.preprocessing import MinMaxScaler\n",
    "\n",
    "# Use the MinMaxScaler to scale data between 0 and 1.\n",
    "scaler= MinMaxScaler()\n",
    "\n",
    "scaler.fit(X)\n",
    "X_train_scaled= scaler.transform(X_train)\n",
    "X_test_scaled= scaler.transform(X_test)\n",
    "\n",
    "scaler.fit(y)\n",
    "y_train_scaled= scaler.transform(y_train)\n",
    "y_test_scaled= scaler.transform(y_test)"
   ]
  },
  {
   "cell_type": "code",
   "execution_count": 201,
   "metadata": {},
   "outputs": [
    {
     "name": "stdout",
     "output_type": "stream",
     "text": [
      "X_train_scaled sample values:\n",
      " [[0.320898  ]\n",
      " [0.51037905]]\n",
      "\n",
      "y_train_scaled sample values:\n",
      " [[0.35810272]\n",
      " [0.39989997]]\n"
     ]
    }
   ],
   "source": [
    "print (f\"X_train_scaled sample values:\\n {X_train_scaled[:2]}\\n\")\n",
    "print (f\"y_train_scaled sample values:\\n {y_train_scaled[:2]}\")"
   ]
  },
  {
   "cell_type": "code",
   "execution_count": 202,
   "metadata": {},
   "outputs": [
    {
     "name": "stdout",
     "output_type": "stream",
     "text": [
      "X_train_scaled shape: (175, 1)\n",
      "X_test_scaled shape: (75, 1)\n",
      "y_train_scaled shape: (175, 1)\n",
      "y_test_scaled shape: (75, 1)\n"
     ]
    }
   ],
   "source": [
    "print (f\"X_train_scaled shape: {X_train_scaled.shape}\")\n",
    "print (f\"X_test_scaled shape: {X_test_scaled.shape}\")\n",
    "print (f\"y_train_scaled shape: {y_train_scaled.shape}\")\n",
    "print (f\"y_test_scaled shape: {y_test_scaled.shape}\")"
   ]
  },
  {
   "cell_type": "markdown",
   "metadata": {},
   "source": [
    "#### Reshape the feature data"
   ]
  },
  {
   "cell_type": "code",
   "execution_count": 203,
   "metadata": {},
   "outputs": [],
   "source": [
    "# Reshape the features for the model\n",
    "X_train_reshaped= X_train_scaled.reshape((X_train_scaled.shape[0], X_train_scaled.shape[1], 1))\n",
    "\n",
    "X_test_reshaped= X_test_scaled.reshape((X_test_scaled.shape[0], X_test_scaled.shape[1], 1))"
   ]
  },
  {
   "cell_type": "code",
   "execution_count": 204,
   "metadata": {},
   "outputs": [],
   "source": [
    "# print (f\"X_train_reshaped sample values:\\n{X_train_reshaped[:1]} \\n\")\n",
    "# print (f\"X_test_reshaped sample values:\\n{X_test_reshaped[:1]}\")"
   ]
  },
  {
   "cell_type": "code",
   "execution_count": 205,
   "metadata": {},
   "outputs": [
    {
     "name": "stdout",
     "output_type": "stream",
     "text": [
      "X_train_reshaped shape: (175, 1, 1)\n",
      "X_test_reshaped shape: (75, 1, 1)\n"
     ]
    }
   ],
   "source": [
    "print (f\"X_train_reshaped shape: {X_train_reshaped.shape}\")\n",
    "print (f\"X_test_reshaped shape: {X_test_reshaped.shape}\")"
   ]
  },
  {
   "cell_type": "markdown",
   "metadata": {},
   "source": [
    "### Build and train the LSTM RNN"
   ]
  },
  {
   "cell_type": "code",
   "execution_count": 206,
   "metadata": {},
   "outputs": [],
   "source": [
    "from tensorflow.keras.models import Sequential\n",
    "from tensorflow.keras.layers import LSTM, Dense, Dropout"
   ]
  },
  {
   "cell_type": "markdown",
   "metadata": {},
   "source": [
    "### Defining the LSTM RNN model structure\n",
    "\n",
    "In this model the previous closing price is used to predict the next closing price"
   ]
  },
  {
   "cell_type": "code",
   "execution_count": 207,
   "metadata": {},
   "outputs": [],
   "source": [
    "# Define the LSTM model\n",
    "nn_model= Sequential()\n",
    "\n",
    "number_units= 10\n",
    "dropout_fraction= 0.1\n",
    "\n",
    "# 1st Neural Network layer\n",
    "nn_model.add (LSTM (units= number_units, return_sequences= True, input_shape= (X_train_reshaped.shape[1], 1)))\n",
    "nn_model.add (Dropout (dropout_fraction))\n",
    "\n",
    "# 2nd Layer\n",
    "nn_model.add (LSTM (units= number_units, return_sequences= True))\n",
    "nn_model.add (Dropout (dropout_fraction))\n",
    "\n",
    "# 3rd Layer\n",
    "nn_model.add (LSTM (units= number_units))\n",
    "nn_model.add (Dropout (dropout_fraction))\n",
    "\n",
    "# Output NN layer\n",
    "nn_model.add (Dense (units= 1))"
   ]
  },
  {
   "cell_type": "code",
   "execution_count": 208,
   "metadata": {},
   "outputs": [],
   "source": [
    "# Compile the model\n",
    "nn_model.compile (loss= 'mean_squared_error', optimizer= 'adam')"
   ]
  },
  {
   "cell_type": "code",
   "execution_count": 209,
   "metadata": {},
   "outputs": [
    {
     "name": "stdout",
     "output_type": "stream",
     "text": [
      "Model: \"sequential_5\"\n",
      "_________________________________________________________________\n",
      "Layer (type)                 Output Shape              Param #   \n",
      "=================================================================\n",
      "lstm_13 (LSTM)               (None, 1, 10)             480       \n",
      "_________________________________________________________________\n",
      "dropout_12 (Dropout)         (None, 1, 10)             0         \n",
      "_________________________________________________________________\n",
      "lstm_14 (LSTM)               (None, 1, 10)             840       \n",
      "_________________________________________________________________\n",
      "dropout_13 (Dropout)         (None, 1, 10)             0         \n",
      "_________________________________________________________________\n",
      "lstm_15 (LSTM)               (None, 10)                840       \n",
      "_________________________________________________________________\n",
      "dropout_14 (Dropout)         (None, 10)                0         \n",
      "_________________________________________________________________\n",
      "dense_5 (Dense)              (None, 1)                 11        \n",
      "=================================================================\n",
      "Total params: 2,171\n",
      "Trainable params: 2,171\n",
      "Non-trainable params: 0\n",
      "_________________________________________________________________\n"
     ]
    }
   ],
   "source": [
    "# Summarize the model\n",
    "nn_model.summary()"
   ]
  },
  {
   "cell_type": "markdown",
   "metadata": {},
   "source": [
    "#### Train the LSTM model"
   ]
  },
  {
   "cell_type": "code",
   "execution_count": 210,
   "metadata": {},
   "outputs": [
    {
     "name": "stdout",
     "output_type": "stream",
     "text": [
      "Epoch 1/10\n",
      "35/35 [==============================] - 3s 2ms/step - loss: 0.1709\n",
      "Epoch 2/10\n",
      "35/35 [==============================] - 0s 2ms/step - loss: 0.1102\n",
      "Epoch 3/10\n",
      "35/35 [==============================] - 0s 2ms/step - loss: 0.0460\n",
      "Epoch 4/10\n",
      "35/35 [==============================] - 0s 2ms/step - loss: 0.0173\n",
      "Epoch 5/10\n",
      "35/35 [==============================] - 0s 2ms/step - loss: 0.0179\n",
      "Epoch 6/10\n",
      "35/35 [==============================] - 0s 2ms/step - loss: 0.0168\n",
      "Epoch 7/10\n",
      "35/35 [==============================] - 0s 2ms/step - loss: 0.0176\n",
      "Epoch 8/10\n",
      "35/35 [==============================] - 0s 2ms/step - loss: 0.0156\n",
      "Epoch 9/10\n",
      "35/35 [==============================] - 0s 2ms/step - loss: 0.0172\n",
      "Epoch 10/10\n",
      "35/35 [==============================] - 0s 2ms/step - loss: 0.0164\n"
     ]
    },
    {
     "data": {
      "text/plain": [
       "<tensorflow.python.keras.callbacks.History at 0x2190c9d99c8>"
      ]
     },
     "execution_count": 210,
     "metadata": {},
     "output_type": "execute_result"
    }
   ],
   "source": [
    "# Do not shuffle the data\n",
    "nn_model.fit (X_train_reshaped, y_train_scaled, epochs= 10, batch_size= 5, shuffle= False)"
   ]
  },
  {
   "cell_type": "markdown",
   "metadata": {},
   "source": [
    "## Model performance"
   ]
  },
  {
   "cell_type": "code",
   "execution_count": 211,
   "metadata": {},
   "outputs": [
    {
     "name": "stdout",
     "output_type": "stream",
     "text": [
      "WARNING:tensorflow:5 out of the last 20 calls to <function Model.make_test_function.<locals>.test_function at 0x000002190D284C18> triggered tf.function retracing. Tracing is expensive and the excessive number of tracings could be due to (1) creating @tf.function repeatedly in a loop, (2) passing tensors with different shapes, (3) passing Python objects instead of tensors. For (1), please define your @tf.function outside of the loop. For (2), @tf.function has experimental_relax_shapes=True option that relaxes argument shapes that can avoid unnecessary retracing. For (3), please refer to https://www.tensorflow.org/guide/function#controlling_retracing and https://www.tensorflow.org/api_docs/python/tf/function for  more details.\n",
      "3/3 [==============================] - 1s 1ms/step - loss: 0.0031\n"
     ]
    },
    {
     "data": {
      "text/plain": [
       "0.003110752208158374"
      ]
     },
     "execution_count": 211,
     "metadata": {},
     "output_type": "execute_result"
    }
   ],
   "source": [
    "nn_model.evaluate (X_test_reshaped, y_test_scaled)"
   ]
  },
  {
   "cell_type": "code",
   "execution_count": 212,
   "metadata": {},
   "outputs": [
    {
     "name": "stdout",
     "output_type": "stream",
     "text": [
      "WARNING:tensorflow:5 out of the last 11 calls to <function Model.make_predict_function.<locals>.predict_function at 0x000002190D56B438> triggered tf.function retracing. Tracing is expensive and the excessive number of tracings could be due to (1) creating @tf.function repeatedly in a loop, (2) passing tensors with different shapes, (3) passing Python objects instead of tensors. For (1), please define your @tf.function outside of the loop. For (2), @tf.function has experimental_relax_shapes=True option that relaxes argument shapes that can avoid unnecessary retracing. For (3), please refer to https://www.tensorflow.org/guide/function#controlling_retracing and https://www.tensorflow.org/api_docs/python/tf/function for  more details.\n"
     ]
    },
    {
     "data": {
      "text/plain": [
       "array([[0.4242572 ],\n",
       "       [0.41374743],\n",
       "       [0.4236528 ],\n",
       "       [0.3860054 ],\n",
       "       [0.4254265 ]], dtype=float32)"
      ]
     },
     "execution_count": 212,
     "metadata": {},
     "output_type": "execute_result"
    }
   ],
   "source": [
    "# Make predictions\n",
    "predicted= nn_model.predict (X_test_reshaped)\n",
    "predicted[:5]"
   ]
  },
  {
   "cell_type": "code",
   "execution_count": 213,
   "metadata": {},
   "outputs": [],
   "source": [
    "# Inverse transform the array to get the original values\n",
    "predicted_prices= scaler.inverse_transform (predicted)\n",
    "real_prices= scaler.inverse_transform(y_test_scaled.reshape(-1,1))"
   ]
  },
  {
   "cell_type": "code",
   "execution_count": 218,
   "metadata": {},
   "outputs": [
    {
     "data": {
      "text/html": [
       "<div>\n",
       "<style scoped>\n",
       "    .dataframe tbody tr th:only-of-type {\n",
       "        vertical-align: middle;\n",
       "    }\n",
       "\n",
       "    .dataframe tbody tr th {\n",
       "        vertical-align: top;\n",
       "    }\n",
       "\n",
       "    .dataframe thead th {\n",
       "        text-align: right;\n",
       "    }\n",
       "</style>\n",
       "<table border=\"1\" class=\"dataframe\">\n",
       "  <thead>\n",
       "    <tr style=\"text-align: right;\">\n",
       "      <th></th>\n",
       "      <th>Real</th>\n",
       "      <th>Predicted</th>\n",
       "    </tr>\n",
       "    <tr>\n",
       "      <th>index</th>\n",
       "      <th></th>\n",
       "      <th></th>\n",
       "    </tr>\n",
       "  </thead>\n",
       "  <tbody>\n",
       "    <tr>\n",
       "      <th>2020-09-28</th>\n",
       "      <td>-0.773491</td>\n",
       "      <td>0.167690</td>\n",
       "    </tr>\n",
       "    <tr>\n",
       "      <th>2020-09-29</th>\n",
       "      <td>1.051819</td>\n",
       "      <td>-0.144810</td>\n",
       "    </tr>\n",
       "    <tr>\n",
       "      <th>2020-09-30</th>\n",
       "      <td>-1.459611</td>\n",
       "      <td>0.149719</td>\n",
       "    </tr>\n",
       "    <tr>\n",
       "      <th>2020-10-01</th>\n",
       "      <td>-1.002542</td>\n",
       "      <td>-0.969697</td>\n",
       "    </tr>\n",
       "    <tr>\n",
       "      <th>2020-10-02</th>\n",
       "      <td>3.040885</td>\n",
       "      <td>0.202459</td>\n",
       "    </tr>\n",
       "  </tbody>\n",
       "</table>\n",
       "</div>"
      ],
      "text/plain": [
       "                Real  Predicted\n",
       "index                          \n",
       "2020-09-28 -0.773491   0.167690\n",
       "2020-09-29  1.051819  -0.144810\n",
       "2020-09-30 -1.459611   0.149719\n",
       "2020-10-01 -1.002542  -0.969697\n",
       "2020-10-02  3.040885   0.202459"
      ]
     },
     "execution_count": 218,
     "metadata": {},
     "output_type": "execute_result"
    }
   ],
   "source": [
    "# Create a DataFrame of Real and Predicted values\n",
    "real_predicted = pd.DataFrame(\n",
    "    {\n",
    "    \"Real\": real_prices.ravel(),\n",
    "    \"Predicted\": predicted_prices.ravel()\n",
    "    }, \n",
    "    index = avg_text_sentiment_returns_polarity_ascending.index[-len(real_prices): ]\n",
    ") \n",
    "\n",
    "real_predicted.head()"
   ]
  },
  {
   "cell_type": "code",
   "execution_count": 216,
   "metadata": {},
   "outputs": [
    {
     "data": {
      "application/vnd.holoviews_exec.v0+json": "",
      "text/html": [
       "<div id='2234'>\n",
       "\n",
       "\n",
       "\n",
       "\n",
       "\n",
       "  <div class=\"bk-root\" id=\"073bb17c-320e-42da-8c0b-152aeb0e324b\" data-root-id=\"2234\"></div>\n",
       "</div>\n",
       "<script type=\"application/javascript\">(function(root) {\n",
       "  function embed_document(root) {\n",
       "    var docs_json = {\"5e57a3ff-cb25-486e-8300-eec06fbafcd9\":{\"roots\":{\"references\":[{\"attributes\":{\"end\":1610496000000.0,\"reset_end\":1610496000000.0,\"reset_start\":1601251200000.0,\"start\":1601251200000.0,\"tags\":[[[\"index\",\"index\",null]]]},\"id\":\"2236\",\"type\":\"Range1d\"},{\"attributes\":{\"days\":[1,2,3,4,5,6,7,8,9,10,11,12,13,14,15,16,17,18,19,20,21,22,23,24,25,26,27,28,29,30,31]},\"id\":\"2293\",\"type\":\"DaysTicker\"},{\"attributes\":{},\"id\":\"2254\",\"type\":\"BasicTicker\"},{\"attributes\":{\"axis\":{\"id\":\"2253\"},\"dimension\":1,\"grid_line_color\":null,\"ticker\":null},\"id\":\"2256\",\"type\":\"Grid\"},{\"attributes\":{\"label\":{\"value\":\"Predicted\"},\"renderers\":[{\"id\":\"2310\"}]},\"id\":\"2334\",\"type\":\"LegendItem\"},{\"attributes\":{\"base\":60,\"mantissas\":[1,2,5,10,15,20,30],\"max_interval\":1800000.0,\"min_interval\":1000.0,\"num_minor_ticks\":0},\"id\":\"2291\",\"type\":\"AdaptiveTicker\"},{\"attributes\":{\"label\":{\"value\":\"Real\"},\"renderers\":[{\"id\":\"2280\"}]},\"id\":\"2303\",\"type\":\"LegendItem\"},{\"attributes\":{\"base\":24,\"mantissas\":[1,2,4,6,8,12],\"max_interval\":43200000.0,\"min_interval\":3600000.0,\"num_minor_ticks\":0},\"id\":\"2292\",\"type\":\"AdaptiveTicker\"},{\"attributes\":{\"num_minor_ticks\":5,\"tickers\":[{\"id\":\"2290\"},{\"id\":\"2291\"},{\"id\":\"2292\"},{\"id\":\"2293\"},{\"id\":\"2294\"},{\"id\":\"2295\"},{\"id\":\"2296\"},{\"id\":\"2297\"},{\"id\":\"2298\"},{\"id\":\"2299\"},{\"id\":\"2300\"},{\"id\":\"2301\"}]},\"id\":\"2250\",\"type\":\"DatetimeTicker\"},{\"attributes\":{},\"id\":\"2270\",\"type\":\"DatetimeTickFormatter\"},{\"attributes\":{\"days\":[1,4,7,10,13,16,19,22,25,28]},\"id\":\"2294\",\"type\":\"DaysTicker\"},{\"attributes\":{\"line_alpha\":0.2,\"line_color\":\"#ff7e0e\",\"line_width\":2,\"x\":{\"field\":\"index\"},\"y\":{\"field\":\"value\"}},\"id\":\"2309\",\"type\":\"Line\"},{\"attributes\":{},\"id\":\"2245\",\"type\":\"LinearScale\"},{\"attributes\":{},\"id\":\"2288\",\"type\":\"UnionRenderers\"},{\"attributes\":{\"mantissas\":[1,2,5],\"max_interval\":500.0,\"num_minor_ticks\":0},\"id\":\"2290\",\"type\":\"AdaptiveTicker\"},{\"attributes\":{\"months\":[0,1,2,3,4,5,6,7,8,9,10,11]},\"id\":\"2297\",\"type\":\"MonthsTicker\"},{\"attributes\":{},\"id\":\"2257\",\"type\":\"SaveTool\"},{\"attributes\":{},\"id\":\"2261\",\"type\":\"ResetTool\"},{\"attributes\":{\"days\":[1,8,15,22]},\"id\":\"2295\",\"type\":\"DaysTicker\"},{\"attributes\":{\"data_source\":{\"id\":\"2304\"},\"glyph\":{\"id\":\"2307\"},\"hover_glyph\":null,\"muted_glyph\":{\"id\":\"2309\"},\"nonselection_glyph\":{\"id\":\"2308\"},\"selection_glyph\":null,\"view\":{\"id\":\"2311\"}},\"id\":\"2310\",\"type\":\"GlyphRenderer\"},{\"attributes\":{},\"id\":\"2258\",\"type\":\"PanTool\"},{\"attributes\":{},\"id\":\"2305\",\"type\":\"Selection\"},{\"attributes\":{\"days\":[1,15]},\"id\":\"2296\",\"type\":\"DaysTicker\"},{\"attributes\":{\"children\":[{\"id\":\"2235\"},{\"id\":\"2240\"},{\"id\":\"2533\"}],\"margin\":[0,0,0,0],\"name\":\"Row02894\",\"tags\":[\"embedded\"]},\"id\":\"2234\",\"type\":\"Row\"},{\"attributes\":{},\"id\":\"2259\",\"type\":\"WheelZoomTool\"},{\"attributes\":{\"axis_label\":\"\",\"bounds\":\"auto\",\"formatter\":{\"id\":\"2272\"},\"major_label_orientation\":\"horizontal\",\"ticker\":{\"id\":\"2254\"}},\"id\":\"2253\",\"type\":\"LinearAxis\"},{\"attributes\":{\"line_color\":\"#1f77b3\",\"line_width\":2,\"x\":{\"field\":\"index\"},\"y\":{\"field\":\"value\"}},\"id\":\"2277\",\"type\":\"Line\"},{\"attributes\":{\"axis\":{\"id\":\"2249\"},\"grid_line_color\":null,\"ticker\":null},\"id\":\"2252\",\"type\":\"Grid\"},{\"attributes\":{\"line_alpha\":0.2,\"line_color\":\"#1f77b3\",\"line_width\":2,\"x\":{\"field\":\"index\"},\"y\":{\"field\":\"value\"}},\"id\":\"2279\",\"type\":\"Line\"},{\"attributes\":{\"overlay\":{\"id\":\"2262\"}},\"id\":\"2260\",\"type\":\"BoxZoomTool\"},{\"attributes\":{\"months\":[0,2,4,6,8,10]},\"id\":\"2298\",\"type\":\"MonthsTicker\"},{\"attributes\":{\"margin\":[5,5,5,5],\"name\":\"HSpacer02898\",\"sizing_mode\":\"stretch_width\"},\"id\":\"2235\",\"type\":\"Spacer\"},{\"attributes\":{\"bottom_units\":\"screen\",\"fill_alpha\":0.5,\"fill_color\":\"lightgrey\",\"left_units\":\"screen\",\"level\":\"overlay\",\"line_alpha\":1.0,\"line_color\":\"black\",\"line_dash\":[4,4],\"line_width\":2,\"right_units\":\"screen\",\"top_units\":\"screen\"},\"id\":\"2262\",\"type\":\"BoxAnnotation\"},{\"attributes\":{\"source\":{\"id\":\"2274\"}},\"id\":\"2281\",\"type\":\"CDSView\"},{\"attributes\":{\"below\":[{\"id\":\"2249\"}],\"center\":[{\"id\":\"2252\"},{\"id\":\"2256\"}],\"left\":[{\"id\":\"2253\"}],\"margin\":[5,5,5,5],\"min_border_bottom\":10,\"min_border_left\":10,\"min_border_right\":10,\"min_border_top\":10,\"plot_height\":300,\"plot_width\":700,\"renderers\":[{\"id\":\"2280\"},{\"id\":\"2310\"}],\"right\":[{\"id\":\"2302\"}],\"sizing_mode\":\"fixed\",\"title\":{\"id\":\"2241\"},\"toolbar\":{\"id\":\"2263\"},\"x_range\":{\"id\":\"2236\"},\"x_scale\":{\"id\":\"2245\"},\"y_range\":{\"id\":\"2237\"},\"y_scale\":{\"id\":\"2247\"}},\"id\":\"2240\",\"subtype\":\"Figure\",\"type\":\"Plot\"},{\"attributes\":{\"text\":\"Real vs predicted returns\",\"text_color\":{\"value\":\"black\"},\"text_font_size\":{\"value\":\"12pt\"}},\"id\":\"2241\",\"type\":\"Title\"},{\"attributes\":{},\"id\":\"2275\",\"type\":\"Selection\"},{\"attributes\":{\"months\":[0,4,8]},\"id\":\"2299\",\"type\":\"MonthsTicker\"},{\"attributes\":{\"end\":6.1969092190435004,\"reset_end\":6.1969092190435004,\"reset_start\":-5.584592291657229,\"start\":-5.584592291657229,\"tags\":[[[\"value\",\"value\",null]]]},\"id\":\"2237\",\"type\":\"Range1d\"},{\"attributes\":{},\"id\":\"2320\",\"type\":\"UnionRenderers\"},{\"attributes\":{\"data_source\":{\"id\":\"2274\"},\"glyph\":{\"id\":\"2277\"},\"hover_glyph\":null,\"muted_glyph\":{\"id\":\"2279\"},\"nonselection_glyph\":{\"id\":\"2278\"},\"selection_glyph\":null,\"view\":{\"id\":\"2281\"}},\"id\":\"2280\",\"type\":\"GlyphRenderer\"},{\"attributes\":{\"margin\":[5,5,5,5],\"name\":\"HSpacer02899\",\"sizing_mode\":\"stretch_width\"},\"id\":\"2533\",\"type\":\"Spacer\"},{\"attributes\":{\"data\":{\"Variable\":[\"Real\",\"Real\",\"Real\",\"Real\",\"Real\",\"Real\",\"Real\",\"Real\",\"Real\",\"Real\",\"Real\",\"Real\",\"Real\",\"Real\",\"Real\",\"Real\",\"Real\",\"Real\",\"Real\",\"Real\",\"Real\",\"Real\",\"Real\",\"Real\",\"Real\",\"Real\",\"Real\",\"Real\",\"Real\",\"Real\",\"Real\",\"Real\",\"Real\",\"Real\",\"Real\",\"Real\",\"Real\",\"Real\",\"Real\",\"Real\",\"Real\",\"Real\",\"Real\",\"Real\",\"Real\",\"Real\",\"Real\",\"Real\",\"Real\",\"Real\",\"Real\",\"Real\",\"Real\",\"Real\",\"Real\",\"Real\",\"Real\",\"Real\",\"Real\",\"Real\",\"Real\",\"Real\",\"Real\",\"Real\",\"Real\",\"Real\",\"Real\",\"Real\",\"Real\",\"Real\",\"Real\",\"Real\",\"Real\",\"Real\",\"Real\"],\"index\":{\"__ndarray__\":\"AADAJCBNd0IAAICKck13QgAAQPDETXdCAAAAVhdOd0IAAMC7aU53QgAAAO1gT3dCAADAUrNPd0IAAIC4BVB3QgAAQB5YUHdCAAAAhKpQd0IAAEC1oVF3QgAAABv0UXdCAADAgEZSd0IAAIDmmFJ3QgAAQEzrUndCAACAfeJTd0IAAEDjNFR3QgAAAEmHVHdCAADArtlUd0IAAIAULFV3QgAAwEUjVndCAACAq3VWd0IAAEARyFZ3QgAAAHcaV3dCAADA3GxXd0IAAAAOZFh3QgAAwHO2WHdCAACA2QhZd0IAAEA/W1l3QgAAAKWtWXdCAABA1qRad0IAAAA891p3QgAAwKFJW3dCAACAB5xbd0IAAEBt7lt3QgAAgJ7lXHdCAABABDhdd0IAAABqil13QgAAwM/cXXdCAACANS9ed0IAAMBmJl93QgAAgMx4X3dCAABAMstfd0IAAMD9b2B3QgAAAC9nYXdCAADAlLlhd0IAAID6C2J3QgAAQGBeYndCAAAAxrBid0IAAED3p2N3QgAAAF36Y3dCAADAwkxkd0IAAIAon2R3QgAAQI7xZHdCAACAv+hld0IAAEAlO2Z3QgAAAIuNZndCAADA8N9md0IAAIBWMmd3QgAAwIcpaHdCAACA7Xtod0IAAEBTzmh3QgAAALkgaXdCAAAAUGpqd0IAAMC1vGp3QgAAgBsPa3dCAABAgWFrd0IAAEAYq2x3QgAAAH79bHdCAADA409td0IAAIBJom13QgAAQK/0bXdCAACA4Otud0IAAEBGPm93QgAAAKyQb3dC\",\"dtype\":\"float64\",\"order\":\"little\",\"shape\":[75]},\"value\":{\"__ndarray__\":\"kbbXpXDA6L+egTMhQNTwPzD/zyeRWve/CsFKHmkK8L92K/BQu1MIQCjl1s673f+/9RoPT+ddAUB4Ak6qD+T9v4zo7t5Py9a/s0UyOi5jA8Co6GZR4DIEwPvnzM+99uS/62EoJkb67D/V3aWsR3vhPwAAAAAAAAAAkkX8w8hQBEBJNGE6SaTJv92DzEuJ4LG/8ef8IYtxpb/qNswZq9Tjv0zE8ShuawdAUrYgR8fI979+Nh6+R9wUQFrDoVEw4++/6TU7E8nH8T/uJ6bbsLaxP64NvGxAx/+/YZG2iERpEsBA3YWEobgIwOBktY0omsi/IGso+FKGA0B9HAm1zvoLQA8mN1FmdwTAPKc6a7h84D+iW5W4B6Hfv+PChwBpNtW/MbDKsnWq9D/4BHjO4J75P2PLBG25L+S/a9JvBkHg7j8PZZqAxw7BP5raXs5EDvy/susPwd0mc7/2M0L2YDjkv3EjzUISV+E/Yblr3kOs778ySRmRMfbYP69ARCHW4OA/wKStA32prL8s8QaGmbmgPwzlrQ/1eum/sJtU9rfN/z8pslCr4nTjP4wl2+ibjvS/e/0VnP0V3L/nQj6IzLygP+0XAGPsyQLA3/z2JX9VsL/ZUpKmG03YP4qq10CewPy/Ud2FNXdK47/gw8R2ayP1P7aFKoRc2ui/JDfXj8tv77+1VBZTmyDXP7GDGvvW0/E/afN+RQVL1b8zi6SY7GEBQA//sYf/q7i/AumLMK9LBUA/yxumvCIGwDWWHmABYeO/ja4XFOFW7z9xzDCjrw7zP3Zq8r0m2+S/\",\"dtype\":\"float64\",\"order\":\"little\",\"shape\":[75]}},\"selected\":{\"id\":\"2275\"},\"selection_policy\":{\"id\":\"2288\"}},\"id\":\"2274\",\"type\":\"ColumnDataSource\"},{\"attributes\":{\"months\":[0,6]},\"id\":\"2300\",\"type\":\"MonthsTicker\"},{\"attributes\":{\"axis_label\":\"\",\"bounds\":\"auto\",\"formatter\":{\"id\":\"2270\"},\"major_label_orientation\":\"horizontal\",\"ticker\":{\"id\":\"2250\"}},\"id\":\"2249\",\"type\":\"DatetimeAxis\"},{\"attributes\":{\"source\":{\"id\":\"2304\"}},\"id\":\"2311\",\"type\":\"CDSView\"},{\"attributes\":{\"line_alpha\":0.1,\"line_color\":\"#1f77b3\",\"line_width\":2,\"x\":{\"field\":\"index\"},\"y\":{\"field\":\"value\"}},\"id\":\"2278\",\"type\":\"Line\"},{\"attributes\":{\"callback\":null,\"formatters\":{\"@{index}\":\"datetime\"},\"renderers\":[{\"id\":\"2280\"},{\"id\":\"2310\"}],\"tags\":[\"hv_created\"],\"tooltips\":[[\"Variable\",\"@{Variable}\"],[\"index\",\"@{index}{%F %T}\"],[\"value\",\"@{value}\"]]},\"id\":\"2238\",\"type\":\"HoverTool\"},{\"attributes\":{},\"id\":\"2272\",\"type\":\"BasicTickFormatter\"},{\"attributes\":{\"active_drag\":\"auto\",\"active_inspect\":\"auto\",\"active_multi\":null,\"active_scroll\":\"auto\",\"active_tap\":\"auto\",\"tools\":[{\"id\":\"2238\"},{\"id\":\"2257\"},{\"id\":\"2258\"},{\"id\":\"2259\"},{\"id\":\"2260\"},{\"id\":\"2261\"}]},\"id\":\"2263\",\"type\":\"Toolbar\"},{\"attributes\":{\"data\":{\"Variable\":[\"Predicted\",\"Predicted\",\"Predicted\",\"Predicted\",\"Predicted\",\"Predicted\",\"Predicted\",\"Predicted\",\"Predicted\",\"Predicted\",\"Predicted\",\"Predicted\",\"Predicted\",\"Predicted\",\"Predicted\",\"Predicted\",\"Predicted\",\"Predicted\",\"Predicted\",\"Predicted\",\"Predicted\",\"Predicted\",\"Predicted\",\"Predicted\",\"Predicted\",\"Predicted\",\"Predicted\",\"Predicted\",\"Predicted\",\"Predicted\",\"Predicted\",\"Predicted\",\"Predicted\",\"Predicted\",\"Predicted\",\"Predicted\",\"Predicted\",\"Predicted\",\"Predicted\",\"Predicted\",\"Predicted\",\"Predicted\",\"Predicted\",\"Predicted\",\"Predicted\",\"Predicted\",\"Predicted\",\"Predicted\",\"Predicted\",\"Predicted\",\"Predicted\",\"Predicted\",\"Predicted\",\"Predicted\",\"Predicted\",\"Predicted\",\"Predicted\",\"Predicted\",\"Predicted\",\"Predicted\",\"Predicted\",\"Predicted\",\"Predicted\",\"Predicted\",\"Predicted\",\"Predicted\",\"Predicted\",\"Predicted\",\"Predicted\",\"Predicted\",\"Predicted\",\"Predicted\",\"Predicted\",\"Predicted\",\"Predicted\"],\"index\":{\"__ndarray__\":\"AADAJCBNd0IAAICKck13QgAAQPDETXdCAAAAVhdOd0IAAMC7aU53QgAAAO1gT3dCAADAUrNPd0IAAIC4BVB3QgAAQB5YUHdCAAAAhKpQd0IAAEC1oVF3QgAAABv0UXdCAADAgEZSd0IAAIDmmFJ3QgAAQEzrUndCAACAfeJTd0IAAEDjNFR3QgAAAEmHVHdCAADArtlUd0IAAIAULFV3QgAAwEUjVndCAACAq3VWd0IAAEARyFZ3QgAAAHcaV3dCAADA3GxXd0IAAAAOZFh3QgAAwHO2WHdCAACA2QhZd0IAAEA/W1l3QgAAAKWtWXdCAABA1qRad0IAAAA891p3QgAAwKFJW3dCAACAB5xbd0IAAEBt7lt3QgAAgJ7lXHdCAABABDhdd0IAAABqil13QgAAwM/cXXdCAACANS9ed0IAAMBmJl93QgAAgMx4X3dCAABAMstfd0IAAMD9b2B3QgAAAC9nYXdCAADAlLlhd0IAAID6C2J3QgAAQGBeYndCAAAAxrBid0IAAED3p2N3QgAAAF36Y3dCAADAwkxkd0IAAIAon2R3QgAAQI7xZHdCAACAv+hld0IAAEAlO2Z3QgAAAIuNZndCAADA8N9md0IAAIBWMmd3QgAAwIcpaHdCAACA7Xtod0IAAEBTzmh3QgAAALkgaXdCAAAAUGpqd0IAAMC1vGp3QgAAgBsPa3dCAABAgWFrd0IAAEAYq2x3QgAAAH79bHdCAADA409td0IAAIBJom13QgAAQK/0bXdCAACA4Otud0IAAEBGPm93QgAAAKyQb3dC\",\"dtype\":\"float64\",\"order\":\"little\",\"shape\":[75]},\"value\":{\"__ndarray__\":\"8rYrPvNIFL7tTxk+Fj54v2pRTz6lux2+klwTv9bDv7+mR4O/hnoVv/pkIL47LnQ7ZsJkvzduP79gQCi/G/sOPzBlKT5yZ4c+Ts0BvQ43Jj9CPgq/Oin0vkCrvr3v1Ci90Se2PLrziz5L9Cg+8SgePyup3j5nDA4+1SUaP0h/lD6aEf8+k3hXvpDWIb5Rp7i+mYBLPoiE4r7olp4+SS/kPv9iOD7/wnM+OavBPJ+e2z7I1ik+plJev+6/mz6FVyI8bv2Fu9JZjD4Om7G+FIctPsbVmj5T00G+N/z8PYm8CT8xXUC/ItBzPyYCvL34A9K/nBxivwbxEb97C0C/z2n4vVh+tL5sgqE/a0mvvKDvTz/gyku/92CUPn/RQTzdFpQ+Tgp1Ptb4nL8I6/s9\",\"dtype\":\"float32\",\"order\":\"little\",\"shape\":[75]}},\"selected\":{\"id\":\"2305\"},\"selection_policy\":{\"id\":\"2320\"}},\"id\":\"2304\",\"type\":\"ColumnDataSource\"},{\"attributes\":{},\"id\":\"2301\",\"type\":\"YearsTicker\"},{\"attributes\":{},\"id\":\"2247\",\"type\":\"LinearScale\"},{\"attributes\":{\"line_alpha\":0.1,\"line_color\":\"#ff7e0e\",\"line_width\":2,\"x\":{\"field\":\"index\"},\"y\":{\"field\":\"value\"}},\"id\":\"2308\",\"type\":\"Line\"},{\"attributes\":{\"line_color\":\"#ff7e0e\",\"line_width\":2,\"x\":{\"field\":\"index\"},\"y\":{\"field\":\"value\"}},\"id\":\"2307\",\"type\":\"Line\"},{\"attributes\":{\"click_policy\":\"mute\",\"items\":[{\"id\":\"2303\"},{\"id\":\"2334\"}],\"location\":[0,0],\"title\":\"Variable\"},\"id\":\"2302\",\"type\":\"Legend\"}],\"root_ids\":[\"2234\"]},\"title\":\"Bokeh Application\",\"version\":\"2.2.3\"}};\n",
       "    var render_items = [{\"docid\":\"5e57a3ff-cb25-486e-8300-eec06fbafcd9\",\"root_ids\":[\"2234\"],\"roots\":{\"2234\":\"073bb17c-320e-42da-8c0b-152aeb0e324b\"}}];\n",
       "    root.Bokeh.embed.embed_items_notebook(docs_json, render_items);\n",
       "  }\n",
       "  if (root.Bokeh !== undefined && root.Bokeh.Panel !== undefined) {\n",
       "    embed_document(root);\n",
       "  } else {\n",
       "    var attempts = 0;\n",
       "    var timer = setInterval(function(root) {\n",
       "      if (root.Bokeh !== undefined && root.Bokeh.Panel !== undefined) {\n",
       "        clearInterval(timer);\n",
       "        embed_document(root);\n",
       "      } else if (document.readyState == \"complete\") {\n",
       "        attempts++;\n",
       "        if (attempts > 100) {\n",
       "          clearInterval(timer);\n",
       "          console.log(\"Bokeh: ERROR: Unable to run BokehJS code because BokehJS library is missing\");\n",
       "        }\n",
       "      }\n",
       "    }, 10, root)\n",
       "  }\n",
       "})(window);</script>"
      ],
      "text/plain": [
       ":NdOverlay   [Variable]\n",
       "   :Curve   [index]   (value)"
      ]
     },
     "execution_count": 216,
     "metadata": {
      "application/vnd.holoviews_exec.v0+json": {
       "id": "2234"
      }
     },
     "output_type": "execute_result"
    }
   ],
   "source": [
    "# Plot the real vs predicted values as a line chart\n",
    "real_predicted.hvplot(title= 'Real vs predicted returns')"
   ]
  },
  {
   "cell_type": "markdown",
   "metadata": {},
   "source": [
    "## Sentiment analysis using Vader, RNN"
   ]
  },
  {
   "cell_type": "code",
   "execution_count": 94,
   "metadata": {},
   "outputs": [],
   "source": [
    "def get_normalized_score(df):\n",
    "    result= 0\n",
    "    \n",
    "    if df>= 0.1:\n",
    "        result= 1\n",
    "    else:\n",
    "        result= 0\n",
    "        \n",
    "    return result"
   ]
  },
  {
   "cell_type": "code",
   "execution_count": 95,
   "metadata": {},
   "outputs": [
    {
     "data": {
      "text/html": [
       "<div>\n",
       "<style scoped>\n",
       "    .dataframe tbody tr th:only-of-type {\n",
       "        vertical-align: middle;\n",
       "    }\n",
       "\n",
       "    .dataframe tbody tr th {\n",
       "        vertical-align: top;\n",
       "    }\n",
       "\n",
       "    .dataframe thead th {\n",
       "        text-align: right;\n",
       "    }\n",
       "</style>\n",
       "<table border=\"1\" class=\"dataframe\">\n",
       "  <thead>\n",
       "    <tr style=\"text-align: right;\">\n",
       "      <th></th>\n",
       "      <th>text</th>\n",
       "      <th>tickers</th>\n",
       "      <th>sentiment</th>\n",
       "      <th>pct_change</th>\n",
       "      <th>compound</th>\n",
       "      <th>tokenized</th>\n",
       "      <th>normalized</th>\n",
       "    </tr>\n",
       "    <tr>\n",
       "      <th>index</th>\n",
       "      <th></th>\n",
       "      <th></th>\n",
       "      <th></th>\n",
       "      <th></th>\n",
       "      <th></th>\n",
       "      <th></th>\n",
       "      <th></th>\n",
       "    </tr>\n",
       "  </thead>\n",
       "  <tbody>\n",
       "    <tr>\n",
       "      <th>2021-01-13</th>\n",
       "      <td>EDMONTON, AB / ACCESSWIRE / January 13, 2021 /...</td>\n",
       "      <td>['MSFT', 'OSSIF']</td>\n",
       "      <td>Neutral</td>\n",
       "      <td>1.169098</td>\n",
       "      <td>0.9325</td>\n",
       "      <td>[edmonton, ab, accesswire, january, onesoft, s...</td>\n",
       "      <td>1</td>\n",
       "    </tr>\n",
       "    <tr>\n",
       "      <th>2021-01-13</th>\n",
       "      <td>Microsoft is still worth significantly more ba...</td>\n",
       "      <td>['MSFT']</td>\n",
       "      <td>Positive</td>\n",
       "      <td>1.169098</td>\n",
       "      <td>0.8360</td>\n",
       "      <td>[microsoft, still, worth, significantly, based...</td>\n",
       "      <td>1</td>\n",
       "    </tr>\n",
       "    <tr>\n",
       "      <th>2021-01-13</th>\n",
       "      <td>We cannot state the slowdown in Microsoft's gr...</td>\n",
       "      <td>['MSFT']</td>\n",
       "      <td>Positive</td>\n",
       "      <td>1.169098</td>\n",
       "      <td>0.1027</td>\n",
       "      <td>[state, slowdown, microsofts, growth, evaluati...</td>\n",
       "      <td>1</td>\n",
       "    </tr>\n",
       "    <tr>\n",
       "      <th>2021-01-12</th>\n",
       "      <td>Data indicates The Dogs of the Dow outperform ...</td>\n",
       "      <td>['AMGN', 'CSCO', 'CVX', 'DOW', 'IBM', 'KO', 'M...</td>\n",
       "      <td>Neutral</td>\n",
       "      <td>-0.651752</td>\n",
       "      <td>0.6908</td>\n",
       "      <td>[data, indicates, dogs, dow, outperform, long,...</td>\n",
       "      <td>1</td>\n",
       "    </tr>\n",
       "    <tr>\n",
       "      <th>2021-01-12</th>\n",
       "      <td>Microsoft (MSFT) has released its new Surface ...</td>\n",
       "      <td>['MSFT']</td>\n",
       "      <td>Positive</td>\n",
       "      <td>-0.651752</td>\n",
       "      <td>0.0000</td>\n",
       "      <td>[microsoft, msft, ha, released, new, surface, ...</td>\n",
       "      <td>0</td>\n",
       "    </tr>\n",
       "  </tbody>\n",
       "</table>\n",
       "</div>"
      ],
      "text/plain": [
       "                                                         text  \\\n",
       "index                                                           \n",
       "2021-01-13  EDMONTON, AB / ACCESSWIRE / January 13, 2021 /...   \n",
       "2021-01-13  Microsoft is still worth significantly more ba...   \n",
       "2021-01-13  We cannot state the slowdown in Microsoft's gr...   \n",
       "2021-01-12  Data indicates The Dogs of the Dow outperform ...   \n",
       "2021-01-12  Microsoft (MSFT) has released its new Surface ...   \n",
       "\n",
       "                                                      tickers sentiment  \\\n",
       "index                                                                     \n",
       "2021-01-13                                  ['MSFT', 'OSSIF']   Neutral   \n",
       "2021-01-13                                           ['MSFT']  Positive   \n",
       "2021-01-13                                           ['MSFT']  Positive   \n",
       "2021-01-12  ['AMGN', 'CSCO', 'CVX', 'DOW', 'IBM', 'KO', 'M...   Neutral   \n",
       "2021-01-12                                           ['MSFT']  Positive   \n",
       "\n",
       "            pct_change  compound  \\\n",
       "index                              \n",
       "2021-01-13    1.169098    0.9325   \n",
       "2021-01-13    1.169098    0.8360   \n",
       "2021-01-13    1.169098    0.1027   \n",
       "2021-01-12   -0.651752    0.6908   \n",
       "2021-01-12   -0.651752    0.0000   \n",
       "\n",
       "                                                    tokenized  normalized  \n",
       "index                                                                      \n",
       "2021-01-13  [edmonton, ab, accesswire, january, onesoft, s...           1  \n",
       "2021-01-13  [microsoft, still, worth, significantly, based...           1  \n",
       "2021-01-13  [state, slowdown, microsofts, growth, evaluati...           1  \n",
       "2021-01-12  [data, indicates, dogs, dow, outperform, long,...           1  \n",
       "2021-01-12  [microsoft, msft, ha, released, new, surface, ...           0  "
      ]
     },
     "execution_count": 95,
     "metadata": {},
     "output_type": "execute_result"
    }
   ],
   "source": [
    "text_sentiment_returns_polarity['normalized']= text_sentiment_returns_polarity['compound'].apply(get_normalized_score)\n",
    "text_sentiment_returns_polarity.head()"
   ]
  },
  {
   "cell_type": "markdown",
   "metadata": {},
   "source": [
    "#### Data preparation"
   ]
  },
  {
   "cell_type": "code",
   "execution_count": 96,
   "metadata": {},
   "outputs": [],
   "source": [
    "X1= text_sentiment_returns_polarity['text'].values\n",
    "y1= text_sentiment_returns_polarity['normalized'].values"
   ]
  },
  {
   "cell_type": "code",
   "execution_count": 97,
   "metadata": {},
   "outputs": [],
   "source": [
    "# Create the train, test and validation datasets\n",
    "from sklearn.model_selection import train_test_split\n",
    "\n",
    "X1_train, X1_test, y1_train, y1_test= train_test_split (X1, y1)\n",
    "\n",
    "X1_train, X1_val, y1_train, y1_val= train_test_split (X1_train, y1_train)"
   ]
  },
  {
   "cell_type": "code",
   "execution_count": 98,
   "metadata": {},
   "outputs": [],
   "source": [
    "# Again Initialize the VADER sentiment analyzer\n",
    "analyzer1= SentimentIntensityAnalyzer()"
   ]
  },
  {
   "cell_type": "markdown",
   "metadata": {},
   "source": [
    "Define two lists to store the sentiment scoring results as follows:\n",
    "\n",
    "* `y_vader_pred` will save the scored sentiment, `1` for positive or `0` for negative.\n",
    "\n",
    "* `y_vader_prob` will store the normalized value of the `pos` polarity score."
   ]
  },
  {
   "cell_type": "code",
   "execution_count": 99,
   "metadata": {},
   "outputs": [],
   "source": [
    "# Define 2 lists to store VADER sentiment scoring\n",
    "y1_vader_pred= []\n",
    "y1_vader_prob= []"
   ]
  },
  {
   "cell_type": "markdown",
   "metadata": {},
   "source": [
    "Create a `for` loop to iterate across all the comments in the `X` set and score the sentiment of each review comment. Update the two lists for sentiment scores as follows:\n",
    "\n",
    "* Append the `pos` score to the `y_vader_prob`, you will normalize this list's values later.\n",
    "\n",
    "* To score a review comment as positive or negative, we will use the `compound` polarity score; as you may remember from the NLP unit, the `compound` score ranges between `-1` (most extreme negative) and `+1` (most extreme positive). Following the recommendations from [this research paper](https://scholar.smu.edu/cgi/viewcontent.cgi?article=1051&context=datasciencereview), we will define a threshold of `0.1` to label a review as positive, if the `compound` score is greater than or equal to `0.1`, the review comment will be positive (append `1` to `y_vader_pred`); if the `compound` score is below `0.1`, the review comment will be negative (append `0` to `y_vader_pred`)."
   ]
  },
  {
   "cell_type": "code",
   "execution_count": 100,
   "metadata": {},
   "outputs": [],
   "source": [
    "# Score sentiment of test set using VADER\n",
    "for comment in X1_test:\n",
    "    y1_vader_prob.append(analyzer1.polarity_scores(comment)['pos'])\n",
    "    \n",
    "    sentiment_score= analyzer1.polarity_scores(comment)['compound']\n",
    "    \n",
    "    if sentiment_score>= 0.1:\n",
    "        y1_vader_pred.append(1)\n",
    "    else:\n",
    "        y1_vader_pred.append(0)"
   ]
  },
  {
   "cell_type": "markdown",
   "metadata": {},
   "source": [
    "Use the values from the `pos` polarity score to plot the ROC curve; we will consider the `pos` score as the probability of a review comment to be positive. To plot the ROC curve, these probabilities should range from `0` to `1`, so the values of the `y_vader_prob` list will be normalized using [min-max normalization]\n",
    "\n",
    "* Normalize the data stored in the `y_vader_prob` list and save the resulting normalized values in a variable called `y_vader_prob_norm`.\n",
    "\n",
    "_Hint:_ To normalize the data, you can use the `MinMaxScaler` method from `sklearn`, or you can code the min-max normalization formula using a comprehension list."
   ]
  },
  {
   "cell_type": "code",
   "execution_count": 101,
   "metadata": {},
   "outputs": [
    {
     "data": {
      "text/plain": [
       "array([[0.        ],\n",
       "       [0.76049767],\n",
       "       [0.10419907],\n",
       "       [0.23794712],\n",
       "       [0.07309487]])"
      ]
     },
     "execution_count": 101,
     "metadata": {},
     "output_type": "execute_result"
    }
   ],
   "source": [
    "from sklearn.preprocessing import MinMaxScaler\n",
    "\n",
    "scaler1= MinMaxScaler()\n",
    "scaler1.fit (np.array (y1_vader_prob).reshape(-1,1))\n",
    "\n",
    "y1_vader_prob_norm= scaler1.transform (np.array (y1_vader_prob).reshape(-1,1))\n",
    "y1_vader_prob_norm[:5]"
   ]
  },
  {
   "cell_type": "markdown",
   "metadata": {},
   "source": [
    "## Scoring Sentiment Using RNN LSTM"
   ]
  },
  {
   "cell_type": "code",
   "execution_count": 102,
   "metadata": {},
   "outputs": [],
   "source": [
    "# Import the tokenizer method from Keras\n",
    "from tensorflow.keras.preprocessing.text import Tokenizer"
   ]
  },
  {
   "cell_type": "code",
   "execution_count": 103,
   "metadata": {},
   "outputs": [],
   "source": [
    "# Create an instance of Tokenizer and fit it with X\n",
    "tokenizer= Tokenizer(lower= True)\n",
    "tokenizer.fit_on_texts(X1)"
   ]
  },
  {
   "cell_type": "code",
   "execution_count": 104,
   "metadata": {},
   "outputs": [
    {
     "name": "stdout",
     "output_type": "stream",
     "text": [
      "word: 'the', token_num: 1\n",
      "word: 'to', token_num: 2\n",
      "word: 'microsoft', token_num: 3\n",
      "word: 'and', token_num: 4\n",
      "word: 'of', token_num: 5\n"
     ]
    }
   ],
   "source": [
    "# Print the first five elements of the encoded vocabulary\n",
    "for content in list(tokenizer.word_index)[:5]:\n",
    "    print (f\"word: '{content}', token_num: {tokenizer.word_index[content]}\")"
   ]
  },
  {
   "cell_type": "code",
   "execution_count": 105,
   "metadata": {},
   "outputs": [],
   "source": [
    "# Transform the text data to numerical sequences\n",
    "X1_seq= tokenizer.texts_to_sequences(X1)"
   ]
  },
  {
   "cell_type": "code",
   "execution_count": 106,
   "metadata": {},
   "outputs": [
    {
     "name": "stdout",
     "output_type": "stream",
     "text": [
      "**Text comment**\n",
      "{'EDMONTON, AB / ACCESSWIRE / January 13, 2021 / OneSoft Solutions Inc. (TSXV:OSS)(OTCQB:OSSIF) (the \"Company\" or \"OneSoft\") is pleased to announce that one of the largest gas pipeline companies in the U.S.A. (the \"Client\") has entered into an agreement with the Company\\'s wholly owned subsidiary, OneBridge Solutions Inc. (\"OneBridge\") to integrate Cognitive Integrity Management TM (\"CIM\") software-as-a-service solution into its integrity management practices for a major division of its pipeline operations.'}\n",
      "**Numerical sequence representation**\n",
      "[2109, 2110, 2111, 614, 1031, 215, 1139, 402, 105, 2682, 2112, 1744, 2113, 1, 35, 130, 1139, 8, 3733, 2, 1745, 12, 89, 5, 1, 537, 2114, 2683, 37, 7, 1, 38, 28, 6, 1, 3734, 21, 1140, 96, 34, 1294, 13, 1, 249, 3735, 382, 1746, 2684, 402, 105, 2684, 2, 1747, 3736, 2685, 383, 3737, 3738, 53, 15, 6, 121, 650, 96, 11, 2685, 383, 1469, 10, 6, 216, 1141, 5, 11, 2683, 180]\n"
     ]
    }
   ],
   "source": [
    "# Contrast a sample numerical sequence with its text version\n",
    "print(\"**Text comment**\")\n",
    "print ({X1[0]})\n",
    "\n",
    "print (\"**Numerical sequence representation**\")\n",
    "print (X1_seq[0])"
   ]
  },
  {
   "cell_type": "code",
   "execution_count": 107,
   "metadata": {},
   "outputs": [],
   "source": [
    "# Import the pad_sequences method from Keras\n",
    "from tensorflow.keras.preprocessing.sequence import pad_sequences\n",
    "from tensorflow.keras.layers import Embedding"
   ]
  },
  {
   "cell_type": "code",
   "execution_count": 108,
   "metadata": {},
   "outputs": [],
   "source": [
    "# Set the pad size\n",
    "max_words= 140\n",
    "\n",
    "# Pad the sequences\n",
    "X1_pad= pad_sequences (X1_seq, maxlen= max_words, padding= 'post')"
   ]
  },
  {
   "cell_type": "markdown",
   "metadata": {},
   "source": [
    "### Create the training, validation, testing datasets"
   ]
  },
  {
   "cell_type": "code",
   "execution_count": 109,
   "metadata": {},
   "outputs": [],
   "source": [
    "# Creating training, validation, and testing sets using the encoded data\n",
    "X1_train_rnn, X1_test_rnn, y1_train_rnn, y1_test_rnn= train_test_split (X1_pad, y1)\n",
    "\n",
    "X1_train_rnn, X1_val_rnn, y1_train_rnn, y1_val_rnn= train_test_split (X1_train_rnn, y1_train_rnn)"
   ]
  },
  {
   "cell_type": "markdown",
   "metadata": {},
   "source": [
    "### Build and train the RNN LSTM model"
   ]
  },
  {
   "cell_type": "code",
   "execution_count": 110,
   "metadata": {},
   "outputs": [],
   "source": [
    "# Model set-up\n",
    "vocabulary_size= len (tokenizer.word_counts.keys())+ 1\n",
    "embedding_size= 64"
   ]
  },
  {
   "cell_type": "markdown",
   "metadata": {},
   "source": [
    "Define an RNN LSTM model as follows:\n",
    "\n",
    "* _Layer 1:_ Add an `Embedding` layer using the `vocabulary_size` and `embedding_size` variables as the first two parameters, and setting `input_length=max_words` (the same size as the padding).\n",
    "\n",
    "* _Layer 2:_ Add an LSTM layer with `280` units.\n",
    "\n",
    "* _Output Layer:_ Add a `Dense` layer with `1` unit and `sigmoid` as activation function."
   ]
  },
  {
   "cell_type": "code",
   "execution_count": 111,
   "metadata": {},
   "outputs": [],
   "source": [
    "# Define the RNN LSTM model\n",
    "nlp_model= Sequential()\n",
    "\n",
    "# Layer 1\n",
    "nlp_model.add (Embedding (vocabulary_size, embedding_size, input_length= max_words))\n",
    "\n",
    "# Layer 2\n",
    "nlp_model.add (LSTM (units= 280))\n",
    "\n",
    "# Output layer\n",
    "nlp_model.add (Dense (units= 1, activation= 'sigmoid'))"
   ]
  },
  {
   "cell_type": "code",
   "execution_count": 112,
   "metadata": {},
   "outputs": [],
   "source": [
    "# Compile the model\n",
    "nlp_model.compile (loss= 'binary_crossentropy',\n",
    "                  optimizer= 'adam',\n",
    "                  metrics= [\n",
    "                      'accuracy',\n",
    "                      tf.keras.metrics.TruePositives(name=\"tp\"),\n",
    "                      tf.keras.metrics.TrueNegatives(name=\"tn\"),\n",
    "                      tf.keras.metrics.FalsePositives(name=\"fp\"),\n",
    "                      tf.keras.metrics.FalseNegatives(name=\"fn\"),\n",
    "                      tf.keras.metrics.Precision(name= 'precision'),\n",
    "                      tf.keras.metrics.Recall(name= 'recall'),\n",
    "                      tf.keras.metrics.AUC(name= 'AUC')\n",
    "                  ]\n",
    "                  )"
   ]
  },
  {
   "cell_type": "code",
   "execution_count": 113,
   "metadata": {},
   "outputs": [
    {
     "name": "stdout",
     "output_type": "stream",
     "text": [
      "Model: \"sequential_1\"\n",
      "_________________________________________________________________\n",
      "Layer (type)                 Output Shape              Param #   \n",
      "=================================================================\n",
      "embedding (Embedding)        (None, 140, 64)           453248    \n",
      "_________________________________________________________________\n",
      "lstm_3 (LSTM)                (None, 280)               386400    \n",
      "_________________________________________________________________\n",
      "dense_1 (Dense)              (None, 1)                 281       \n",
      "=================================================================\n",
      "Total params: 839,929\n",
      "Trainable params: 839,929\n",
      "Non-trainable params: 0\n",
      "_________________________________________________________________\n"
     ]
    }
   ],
   "source": [
    "# Model summary\n",
    "nlp_model.summary()"
   ]
  },
  {
   "cell_type": "code",
   "execution_count": 114,
   "metadata": {},
   "outputs": [
    {
     "data": {
      "text/plain": [
       "<tensorflow.python.keras.callbacks.History at 0x218c474e448>"
      ]
     },
     "execution_count": 114,
     "metadata": {},
     "output_type": "execute_result"
    }
   ],
   "source": [
    "# Training the model\n",
    "batch_size= 1000\n",
    "epochs= 10\n",
    "\n",
    "nlp_model.fit (X1_train_rnn,\n",
    "              y1_train_rnn,\n",
    "              validation_data= (X1_val_rnn, y1_val_rnn),\n",
    "              epochs= epochs,\n",
    "              batch_size= batch_size,\n",
    "              verbose= 0)"
   ]
  },
  {
   "cell_type": "code",
   "execution_count": 115,
   "metadata": {},
   "outputs": [
    {
     "name": "stderr",
     "output_type": "stream",
     "text": [
      "C:\\Satheesh\\Anaconda\\envs\\pyvizenv\\lib\\site-packages\\tensorflow\\python\\keras\\engine\\sequential.py:450: UserWarning: `model.predict_classes()` is deprecated and will be removed after 2021-01-01. Please use instead:* `np.argmax(model.predict(x), axis=-1)`,   if your model does multi-class classification   (e.g. if it uses a `softmax` last-layer activation).* `(model.predict(x) > 0.5).astype(\"int32\")`,   if your model does binary classification   (e.g. if it uses a `sigmoid` last-layer activation).\n",
      "  warnings.warn('`model.predict_classes()` is deprecated and '\n"
     ]
    }
   ],
   "source": [
    "# Predict classes using the testing data\n",
    "y1_predicted_rnn= nlp_model.predict_classes (X1_test_rnn, batch_size= 1000)"
   ]
  },
  {
   "cell_type": "markdown",
   "metadata": {},
   "source": [
    "## Model comparison"
   ]
  },
  {
   "cell_type": "markdown",
   "metadata": {},
   "source": [
    "#### Accuracy score"
   ]
  },
  {
   "cell_type": "code",
   "execution_count": 117,
   "metadata": {},
   "outputs": [
    {
     "name": "stdout",
     "output_type": "stream",
     "text": [
      "Vader Accuracy: 1.00\n",
      "RNN LSTM Accuracy 0.53\n"
     ]
    }
   ],
   "source": [
    "from sklearn.metrics import accuracy_score\n",
    "\n",
    "print(\"Vader Accuracy: %.2f\" % (accuracy_score(y1_test, y1_vader_pred)))\n",
    "print(\"RNN LSTM Accuracy %.2f\" % (accuracy_score(y1_test_rnn, y1_predicted_rnn)))"
   ]
  },
  {
   "cell_type": "markdown",
   "metadata": {},
   "source": [
    "#### Confusion matrix"
   ]
  },
  {
   "cell_type": "code",
   "execution_count": 118,
   "metadata": {},
   "outputs": [],
   "source": [
    "# Import the confusion_matrix method from sklearn\n",
    "from sklearn.metrics import confusion_matrix"
   ]
  },
  {
   "cell_type": "code",
   "execution_count": 119,
   "metadata": {},
   "outputs": [
    {
     "name": "stdout",
     "output_type": "stream",
     "text": [
      "Confusion Matrix from Vader\n"
     ]
    },
    {
     "data": {
      "text/html": [
       "<div>\n",
       "<style scoped>\n",
       "    .dataframe tbody tr th:only-of-type {\n",
       "        vertical-align: middle;\n",
       "    }\n",
       "\n",
       "    .dataframe tbody tr th {\n",
       "        vertical-align: top;\n",
       "    }\n",
       "\n",
       "    .dataframe thead th {\n",
       "        text-align: right;\n",
       "    }\n",
       "</style>\n",
       "<table border=\"1\" class=\"dataframe\">\n",
       "  <thead>\n",
       "    <tr style=\"text-align: right;\">\n",
       "      <th>Predicted</th>\n",
       "      <th>Positive(1)</th>\n",
       "      <th>Negative(0)</th>\n",
       "    </tr>\n",
       "    <tr>\n",
       "      <th>Actual</th>\n",
       "      <th></th>\n",
       "      <th></th>\n",
       "    </tr>\n",
       "  </thead>\n",
       "  <tbody>\n",
       "    <tr>\n",
       "      <th>Positive(1)</th>\n",
       "      <td>TP=329</td>\n",
       "      <td>FN=0</td>\n",
       "    </tr>\n",
       "    <tr>\n",
       "      <th>Negative(0)</th>\n",
       "      <td>FP=0</td>\n",
       "      <td>TN=292</td>\n",
       "    </tr>\n",
       "  </tbody>\n",
       "</table>\n",
       "</div>"
      ],
      "text/plain": [
       "Predicted   Positive(1) Negative(0)\n",
       "Actual                             \n",
       "Positive(1)      TP=329        FN=0\n",
       "Negative(0)        FP=0      TN=292"
      ]
     },
     "metadata": {},
     "output_type": "display_data"
    }
   ],
   "source": [
    "# Confusion matrtix metrics from Vader\n",
    "tn_vader, fp_vader, fn_vader, tp_vader = confusion_matrix(y1_test, y1_vader_pred).ravel()\n",
    "\n",
    "# Dataframe to display confusion matrix from Vader\n",
    "cm_vader_df = pd.DataFrame(\n",
    "    {\n",
    "        \"Positive(1)\": [f\"TP={tp_vader}\", f\"FP={fp_vader}\"],\n",
    "        \"Negative(0)\": [f\"FN={fn_vader}\", f\"TN={tn_vader}\"],\n",
    "    },\n",
    "    index=[\"Positive(1)\", \"Negative(0)\"],\n",
    ")\n",
    "cm_vader_df.index.name = \"Actual\"\n",
    "cm_vader_df.columns.name = \"Predicted\"\n",
    "print(\"Confusion Matrix from Vader\")\n",
    "display(cm_vader_df)"
   ]
  },
  {
   "cell_type": "code",
   "execution_count": 120,
   "metadata": {},
   "outputs": [
    {
     "name": "stdout",
     "output_type": "stream",
     "text": [
      "Confusion Matrix from the RNN LSTM Model\n"
     ]
    },
    {
     "data": {
      "text/html": [
       "<div>\n",
       "<style scoped>\n",
       "    .dataframe tbody tr th:only-of-type {\n",
       "        vertical-align: middle;\n",
       "    }\n",
       "\n",
       "    .dataframe tbody tr th {\n",
       "        vertical-align: top;\n",
       "    }\n",
       "\n",
       "    .dataframe thead th {\n",
       "        text-align: right;\n",
       "    }\n",
       "</style>\n",
       "<table border=\"1\" class=\"dataframe\">\n",
       "  <thead>\n",
       "    <tr style=\"text-align: right;\">\n",
       "      <th>Predicted</th>\n",
       "      <th>Positive(1)</th>\n",
       "      <th>Negative(0)</th>\n",
       "    </tr>\n",
       "    <tr>\n",
       "      <th>Actual</th>\n",
       "      <th></th>\n",
       "      <th></th>\n",
       "    </tr>\n",
       "  </thead>\n",
       "  <tbody>\n",
       "    <tr>\n",
       "      <th>Positive(1)</th>\n",
       "      <td>TP=330</td>\n",
       "      <td>FN=0</td>\n",
       "    </tr>\n",
       "    <tr>\n",
       "      <th>Negative(0)</th>\n",
       "      <td>FP=291</td>\n",
       "      <td>TN=0</td>\n",
       "    </tr>\n",
       "  </tbody>\n",
       "</table>\n",
       "</div>"
      ],
      "text/plain": [
       "Predicted   Positive(1) Negative(0)\n",
       "Actual                             \n",
       "Positive(1)      TP=330        FN=0\n",
       "Negative(0)      FP=291        TN=0"
      ]
     },
     "metadata": {},
     "output_type": "display_data"
    }
   ],
   "source": [
    "# Confusion matrtix metrics from the RNN LSTM model\n",
    "tn_rnn, fp_rnn, fn_rnn, tp_rnn = confusion_matrix(y1_test_rnn, y1_predicted_rnn).ravel()\n",
    "\n",
    "# Dataframe to display confusion matrix from the RNN LSTM model\n",
    "cm_rnn_df = pd.DataFrame(\n",
    "    {\n",
    "        \"Positive(1)\": [f\"TP={tp_rnn}\", f\"FP={fp_rnn}\"],\n",
    "        \"Negative(0)\": [f\"FN={fn_rnn}\", f\"TN={tn_rnn}\"],\n",
    "    },\n",
    "    index=[\"Positive(1)\", \"Negative(0)\"],\n",
    ")\n",
    "cm_rnn_df.index.name = \"Actual\"\n",
    "cm_rnn_df.columns.name = \"Predicted\"\n",
    "print(\"Confusion Matrix from the RNN LSTM Model\")\n",
    "display(cm_rnn_df)"
   ]
  },
  {
   "cell_type": "code",
   "execution_count": 121,
   "metadata": {},
   "outputs": [],
   "source": [
    "# Import the classification_report method from sklearn\n",
    "from sklearn.metrics import classification_report"
   ]
  },
  {
   "cell_type": "code",
   "execution_count": 122,
   "metadata": {},
   "outputs": [
    {
     "name": "stdout",
     "output_type": "stream",
     "text": [
      "Classification Report for Vader\n",
      "              precision    recall  f1-score   support\n",
      "\n",
      "           0       1.00      1.00      1.00       292\n",
      "           1       1.00      1.00      1.00       329\n",
      "\n",
      "    accuracy                           1.00       621\n",
      "   macro avg       1.00      1.00      1.00       621\n",
      "weighted avg       1.00      1.00      1.00       621\n",
      "\n"
     ]
    }
   ],
   "source": [
    "# Display classification report for Vader\n",
    "print(\"Classification Report for Vader\")\n",
    "print(classification_report(y1_test, y1_vader_pred))"
   ]
  },
  {
   "cell_type": "code",
   "execution_count": 123,
   "metadata": {},
   "outputs": [
    {
     "name": "stdout",
     "output_type": "stream",
     "text": [
      "Classification Report for the RNN LSTM Model\n",
      "              precision    recall  f1-score   support\n",
      "\n",
      "           0       0.00      0.00      0.00       291\n",
      "           1       0.53      1.00      0.69       330\n",
      "\n",
      "    accuracy                           0.53       621\n",
      "   macro avg       0.27      0.50      0.35       621\n",
      "weighted avg       0.28      0.53      0.37       621\n",
      "\n"
     ]
    },
    {
     "name": "stderr",
     "output_type": "stream",
     "text": [
      "C:\\Satheesh\\Anaconda\\envs\\pyvizenv\\lib\\site-packages\\sklearn\\metrics\\_classification.py:1221: UndefinedMetricWarning: Precision and F-score are ill-defined and being set to 0.0 in labels with no predicted samples. Use `zero_division` parameter to control this behavior.\n",
      "  _warn_prf(average, modifier, msg_start, len(result))\n"
     ]
    }
   ],
   "source": [
    "# Display classification report for the RNN LSTM Model\n",
    "print(\"Classification Report for the RNN LSTM Model\")\n",
    "print(classification_report(y1_test_rnn, y1_predicted_rnn))"
   ]
  },
  {
   "cell_type": "markdown",
   "metadata": {},
   "source": [
    "### Plotting the ROC Curve"
   ]
  },
  {
   "cell_type": "code",
   "execution_count": 124,
   "metadata": {},
   "outputs": [],
   "source": [
    "# Import the roc_curve and auc metrics from sklearn\n",
    "from sklearn.metrics import roc_curve, auc"
   ]
  },
  {
   "cell_type": "markdown",
   "metadata": {},
   "source": [
    "#### ROC Curve - VADER\n",
    "\n",
    "Use the `roc_curve` method from `sklearn` to calculate the false positives (`fpr`) and true positives (`tpr`) rates passing as parameters the testing target sentiments (`y1_test`) and the normalized values of `y1_vader_prob` (e.g. `y1_vader_prob_norm`)."
   ]
  },
  {
   "cell_type": "code",
   "execution_count": 125,
   "metadata": {},
   "outputs": [],
   "source": [
    "# Data for ROC Curve - VADER\n",
    "fpr_test_vader, tpr_test_vader, thresholds_test_vader= roc_curve (y1_test, y1_vader_prob_norm)"
   ]
  },
  {
   "cell_type": "code",
   "execution_count": 219,
   "metadata": {},
   "outputs": [],
   "source": [
    "# AUC for VADER\\\n",
    "auc_test_vader= auc(fpr_test_vader, tpr_test_vader)\n",
    "auc_test_vader= round (auc_test_vader, 2)"
   ]
  },
  {
   "cell_type": "code",
   "execution_count": 220,
   "metadata": {},
   "outputs": [
    {
     "data": {
      "text/html": [
       "<div>\n",
       "<style scoped>\n",
       "    .dataframe tbody tr th:only-of-type {\n",
       "        vertical-align: middle;\n",
       "    }\n",
       "\n",
       "    .dataframe tbody tr th {\n",
       "        vertical-align: top;\n",
       "    }\n",
       "\n",
       "    .dataframe thead th {\n",
       "        text-align: right;\n",
       "    }\n",
       "</style>\n",
       "<table border=\"1\" class=\"dataframe\">\n",
       "  <thead>\n",
       "    <tr style=\"text-align: right;\">\n",
       "      <th></th>\n",
       "      <th>FPR Test</th>\n",
       "      <th>TPR Test</th>\n",
       "    </tr>\n",
       "  </thead>\n",
       "  <tbody>\n",
       "    <tr>\n",
       "      <th>0</th>\n",
       "      <td>0.0</td>\n",
       "      <td>0.000000</td>\n",
       "    </tr>\n",
       "    <tr>\n",
       "      <th>1</th>\n",
       "      <td>0.0</td>\n",
       "      <td>0.003040</td>\n",
       "    </tr>\n",
       "    <tr>\n",
       "      <th>2</th>\n",
       "      <td>0.0</td>\n",
       "      <td>0.024316</td>\n",
       "    </tr>\n",
       "    <tr>\n",
       "      <th>3</th>\n",
       "      <td>0.0</td>\n",
       "      <td>0.030395</td>\n",
       "    </tr>\n",
       "    <tr>\n",
       "      <th>4</th>\n",
       "      <td>0.0</td>\n",
       "      <td>0.051672</td>\n",
       "    </tr>\n",
       "  </tbody>\n",
       "</table>\n",
       "</div>"
      ],
      "text/plain": [
       "   FPR Test  TPR Test\n",
       "0       0.0  0.000000\n",
       "1       0.0  0.003040\n",
       "2       0.0  0.024316\n",
       "3       0.0  0.030395\n",
       "4       0.0  0.051672"
      ]
     },
     "execution_count": 220,
     "metadata": {},
     "output_type": "execute_result"
    }
   ],
   "source": [
    "# DF to plot ROC curve for vader\n",
    "roc_test_vader_df= pd.DataFrame ({\n",
    "    \"FPR Test\": fpr_test_vader,\n",
    "    \"TPR Test\": tpr_test_vader\n",
    "}\n",
    ")\n",
    "\n",
    "roc_test_vader_df.head()"
   ]
  },
  {
   "cell_type": "code",
   "execution_count": 225,
   "metadata": {},
   "outputs": [
    {
     "data": {
      "text/plain": [
       "<matplotlib.axes._subplots.AxesSubplot at 0x2190f8ad848>"
      ]
     },
     "execution_count": 225,
     "metadata": {},
     "output_type": "execute_result"
    },
    {
     "data": {
      "image/png": "[encoded data removed]",
      "text/plain": [
       "<Figure size 720x360 with 1 Axes>"
      ]
     },
     "metadata": {},
     "output_type": "display_data"
    }
   ],
   "source": [
    "roc_test_vader_df.plot(\n",
    "    x=\"FPR Test\",\n",
    "    y=\"TPR Test\",\n",
    "    color=\"red\",\n",
    "    style=\"--\",\n",
    "    xlim=([-0.05, 1.05]),\n",
    "    figsize= (10,5),\n",
    "    title=f\"Test ROC Curve - Vader (AUC={auc_test_vader})\",\n",
    ")"
   ]
  },
  {
   "cell_type": "markdown",
   "metadata": {},
   "source": [
    "#### ROC Curve RNN LSTM\n",
    "\n",
    "Use the `predict()` method from the RNN LSTM model to predict the sentiment of the testing data `X1_test_rnn`. Set `batch_size=1000` to speed up the predictions and store the results in a variable called `test_predictions_rnn`."
   ]
  },
  {
   "cell_type": "code",
   "execution_count": 227,
   "metadata": {},
   "outputs": [
    {
     "data": {
      "text/plain": [
       "array([[0.54745525],\n",
       "       [0.5474553 ],\n",
       "       [0.5474553 ],\n",
       "       [0.54745525],\n",
       "       [0.5474553 ]], dtype=float32)"
      ]
     },
     "execution_count": 227,
     "metadata": {},
     "output_type": "execute_result"
    }
   ],
   "source": [
    "# Making predictions to feed the ROC curve\n",
    "test_predictions_rnn= nlp_model.predict (X1_test_rnn, batch_size= 1000)\n",
    "test_predictions_rnn[:5]"
   ]
  },
  {
   "cell_type": "code",
   "execution_count": 228,
   "metadata": {},
   "outputs": [],
   "source": [
    "# Data for RNN LSTM ROC Curve\n",
    "fpr_test_rnn, tpr_test_rnn, thresholds_test_rnn= roc_curve (y1_test_rnn, test_predictions_rnn)"
   ]
  },
  {
   "cell_type": "code",
   "execution_count": 229,
   "metadata": {},
   "outputs": [],
   "source": [
    "# AUC for RNN LSTM model\n",
    "auc_test_rnn= auc (fpr_test_rnn, tpr_test_rnn)\n",
    "auc_test_rnn= round (auc_test_rnn, 2)"
   ]
  },
  {
   "cell_type": "code",
   "execution_count": 230,
   "metadata": {},
   "outputs": [
    {
     "data": {
      "text/html": [
       "<div>\n",
       "<style scoped>\n",
       "    .dataframe tbody tr th:only-of-type {\n",
       "        vertical-align: middle;\n",
       "    }\n",
       "\n",
       "    .dataframe tbody tr th {\n",
       "        vertical-align: top;\n",
       "    }\n",
       "\n",
       "    .dataframe thead th {\n",
       "        text-align: right;\n",
       "    }\n",
       "</style>\n",
       "<table border=\"1\" class=\"dataframe\">\n",
       "  <thead>\n",
       "    <tr style=\"text-align: right;\">\n",
       "      <th></th>\n",
       "      <th>FPR Test</th>\n",
       "      <th>TPR Test</th>\n",
       "    </tr>\n",
       "  </thead>\n",
       "  <tbody>\n",
       "    <tr>\n",
       "      <th>0</th>\n",
       "      <td>0.000000</td>\n",
       "      <td>0.000000</td>\n",
       "    </tr>\n",
       "    <tr>\n",
       "      <th>1</th>\n",
       "      <td>0.986254</td>\n",
       "      <td>0.960606</td>\n",
       "    </tr>\n",
       "    <tr>\n",
       "      <th>2</th>\n",
       "      <td>0.996564</td>\n",
       "      <td>1.000000</td>\n",
       "    </tr>\n",
       "    <tr>\n",
       "      <th>3</th>\n",
       "      <td>1.000000</td>\n",
       "      <td>1.000000</td>\n",
       "    </tr>\n",
       "  </tbody>\n",
       "</table>\n",
       "</div>"
      ],
      "text/plain": [
       "   FPR Test  TPR Test\n",
       "0  0.000000  0.000000\n",
       "1  0.986254  0.960606\n",
       "2  0.996564  1.000000\n",
       "3  1.000000  1.000000"
      ]
     },
     "execution_count": 230,
     "metadata": {},
     "output_type": "execute_result"
    }
   ],
   "source": [
    "# DF to plot RNN LSTM ROC curve\n",
    "roc_test_rnn_df= pd.DataFrame ({\n",
    "    \"FPR Test\": fpr_test_rnn,\n",
    "    \"TPR Test\": tpr_test_rnn,\n",
    "}\n",
    ")\n",
    "roc_test_rnn_df.head()"
   ]
  },
  {
   "cell_type": "code",
   "execution_count": 232,
   "metadata": {},
   "outputs": [
    {
     "data": {
      "text/plain": [
       "<matplotlib.axes._subplots.AxesSubplot at 0x2190f923f48>"
      ]
     },
     "execution_count": 232,
     "metadata": {},
     "output_type": "execute_result"
    },
    {
     "data": {
      "image/png": "[encoded data removed]",
      "text/plain": [
       "<Figure size 720x360 with 1 Axes>"
      ]
     },
     "metadata": {},
     "output_type": "display_data"
    }
   ],
   "source": [
    "roc_test_rnn_df.plot(\n",
    "    x=\"FPR Test\",\n",
    "    y=\"TPR Test\",\n",
    "    color=\"blue\",\n",
    "    style=\"--\",\n",
    "    xlim=([-0.05, 1.05]),\n",
    "    figsize= (10,5),\n",
    "    title=f\"Test ROC Curve (AUC={auc_test_rnn})\",\n",
    ")"
   ]
  }
 ],
 "metadata": {
  "kernelspec": {
   "display_name": "Python [conda env:pyvizenv] *",
   "language": "python",
   "name": "conda-env-pyvizenv-py"
  },
  "language_info": {
   "codemirror_mode": {
    "name": "ipython",
    "version": 3
   },
   "file_extension": ".py",
   "mimetype": "text/x-python",
   "name": "python",
   "nbconvert_exporter": "python",
   "pygments_lexer": "ipython3",
   "version": "3.7.9"
  }
 },
 "nbformat": 4,
 "nbformat_minor": 4
}
