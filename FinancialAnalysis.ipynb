{
 "cells": [
  {
   "cell_type": "code",
   "execution_count": 1,
   "metadata": {},
   "outputs": [],
   "source": [
    "# Running prerequisite notebooks\n",
    "%run TechnicalPrep.ipynb\n",
    "%run FundamentalPrep.ipynb\n",
    "import warnings\n",
    "warnings.filterwarnings('ignore')"
   ]
  },
  {
   "cell_type": "code",
   "execution_count": 2,
   "metadata": {},
   "outputs": [],
   "source": [
    "# Set variables for the analysis\n",
    "ticker = \"MSFT\"\n",
    "startDate = \"2016-01-01\"\n",
    "endDate = \"2020-01-01\" "
   ]
  },
  {
   "cell_type": "code",
   "execution_count": 3,
   "metadata": {},
   "outputs": [],
   "source": [
    "# Calculating Technical Indicators and Interpreting Signals\n",
    "tickerInfo = getOHLCV(ticker, startDate, endDate)\n",
    "tickerInd = getTechIndicators(tickerInfo)\n",
    "tickerSig = indAnalysis(tickerInd)"
   ]
  },
  {
   "cell_type": "code",
   "execution_count": 4,
   "metadata": {},
   "outputs": [],
   "source": [
    "# Calculating Fundamental Ratios\n",
    "tickerFun = calcFRatios(ticker)"
   ]
  },
  {
   "cell_type": "code",
   "execution_count": 5,
   "metadata": {},
   "outputs": [],
   "source": [
    "def mergeTechFund(technical_df, fundamental_df):\n",
    "    \"\"\"\n",
    "    This function merges the fundamental ratios dataframe with the technicals dataframe (either the indicators or signals).\n",
    "    It will populate the ratios for the quarter following the release of the report from which the ratios were derived.\n",
    "    \"\"\"\n",
    "    \n",
    "    merged_df = technical_df.copy()\n",
    "    \n",
    "    # Creating columns with placeholder values in the merged_df for the fundamental ratios\n",
    "    merged_df[\"workingCapitalRatio\"] = np.nan\n",
    "    merged_df[\"acidTestRatio\"] = np.nan\n",
    "    merged_df[\"eps\"] = np.nan\n",
    "    merged_df[\"debtEquityRatio\"] = np.nan\n",
    "    \n",
    "    # Populating columns of merged_df with fundamental ratios of the previous quarter's statement\n",
    "    funIndex = 0\n",
    "    funRows = fundamental_df.shape[0]-1\n",
    "    \n",
    "    while funIndex < funRows:\n",
    "        \n",
    "        merged_df.loc[fundamental_df.index[funIndex]:fundamental_df.index[funIndex+1], (\"workingCapitalRatio\")] = fundamental_df[\"workingCapitalRatio\"][funIndex]\n",
    "        merged_df.loc[fundamental_df.index[funIndex]:fundamental_df.index[funIndex+1], (\"acidTestRatio\")] = fundamental_df[\"acidTestRatio\"][funIndex]\n",
    "        merged_df.loc[fundamental_df.index[funIndex]:fundamental_df.index[funIndex+1], (\"eps\")] = fundamental_df[\"eps\"][funIndex]\n",
    "        merged_df.loc[fundamental_df.index[funIndex]:fundamental_df.index[funIndex+1], (\"debtEquityRatio\")] = fundamental_df[\"debtEquityRatio\"][funIndex]\n",
    "        \n",
    "        funIndex += 1\n",
    "        \n",
    "    merged_df.dropna(inplace = True)\n",
    "        \n",
    "    return merged_df"
   ]
  },
  {
   "cell_type": "code",
   "execution_count": 6,
   "metadata": {},
   "outputs": [],
   "source": [
    "# Merging technical indicators with fundamentals\n",
    "merged_TickerInd = mergeTechFund(tickerInd, tickerFun)"
   ]
  },
  {
   "cell_type": "code",
   "execution_count": null,
   "metadata": {},
   "outputs": [],
   "source": []
  },
  {
   "cell_type": "code",
   "execution_count": null,
   "metadata": {},
   "outputs": [],
   "source": []
  },
  {
   "cell_type": "code",
   "execution_count": null,
   "metadata": {},
   "outputs": [],
   "source": []
  }
 ],
 "metadata": {
  "kernelspec": {
   "display_name": "Python 3",
   "language": "python",
   "name": "python3"
  },
  "language_info": {
   "codemirror_mode": {
    "name": "ipython",
    "version": 3
   },
   "file_extension": ".py",
   "mimetype": "text/x-python",
   "name": "python",
   "nbconvert_exporter": "python",
   "pygments_lexer": "ipython3",
   "version": "3.7.7"
  }
 },
 "nbformat": 4,
 "nbformat_minor": 4
}
