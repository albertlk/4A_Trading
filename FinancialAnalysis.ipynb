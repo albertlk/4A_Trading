{
 "cells": [
  {
   "cell_type": "code",
   "execution_count": 1,
   "metadata": {},
   "outputs": [],
   "source": [
    "# Running prerequisite notebooks\n",
    "%run TechnicalPrep.ipynb\n",
    "%run FundamentalPrep.ipynb"
   ]
  },
  {
   "cell_type": "code",
   "execution_count": 2,
   "metadata": {},
   "outputs": [],
   "source": [
    "# Set variables for the analysis\n",
    "ticker = \"AAPL\"\n",
    "startDate = \"2016-01-01\"\n",
    "endDate = \"2020-01-01\" "
   ]
  },
  {
   "cell_type": "code",
   "execution_count": 3,
   "metadata": {},
   "outputs": [],
   "source": [
    "tickerInfo = getOHLCV(ticker, startDate, endDate)\n",
    "tickerInd = getTechIndicators(tickerInfo)\n",
    "tickerSig = indAnalysis(tickerInd)"
   ]
  },
  {
   "cell_type": "code",
   "execution_count": 8,
   "metadata": {},
   "outputs": [],
   "source": [
    "tickerFun = calcFRatios(ticker)"
   ]
  },
  {
   "cell_type": "code",
   "execution_count": null,
   "metadata": {},
   "outputs": [],
   "source": [
    "def mergeTechFund(technical_df, fundamental_df):\n",
    "    \"\"\"\n",
    "    This function merges the fundamental ratios dataframe with the technicals dataframe (either the indicators or signals).\n",
    "    It will populate the ratios for the quarter following the release of the report from which the ratios were derived.\n",
    "    \"\"\"\n",
    "    merged_df = technical_df.copy()\n",
    "    \n",
    "    # Iterate through tech_df and check against index of fundamental_df as long as the date is less than the next index, can populate with that of the previous period\n",
    "    \n",
    "    return merged_df"
   ]
  },
  {
   "cell_type": "code",
   "execution_count": null,
   "metadata": {},
   "outputs": [],
   "source": []
  },
  {
   "cell_type": "code",
   "execution_count": null,
   "metadata": {},
   "outputs": [],
   "source": []
  }
 ],
 "metadata": {
  "kernelspec": {
   "display_name": "Python 3",
   "language": "python",
   "name": "python3"
  },
  "language_info": {
   "codemirror_mode": {
    "name": "ipython",
    "version": 3
   },
   "file_extension": ".py",
   "mimetype": "text/x-python",
   "name": "python",
   "nbconvert_exporter": "python",
   "pygments_lexer": "ipython3",
   "version": "3.7.7"
  }
 },
 "nbformat": 4,
 "nbformat_minor": 4
}
